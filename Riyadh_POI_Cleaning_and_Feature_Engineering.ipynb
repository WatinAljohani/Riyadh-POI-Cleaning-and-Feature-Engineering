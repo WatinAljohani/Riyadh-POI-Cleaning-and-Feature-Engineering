{
  "nbformat": 4,
  "nbformat_minor": 0,
  "metadata": {
    "colab": {
      "provenance": []
    },
    "kernelspec": {
      "name": "python3",
      "display_name": "Python 3"
    },
    "language_info": {
      "name": "python"
    }
  },
  "cells": [
    {
      "cell_type": "markdown",
      "source": [
        "# 📊 Data Preprocessing and Feature Engineering\n",
        "\n",
        "This notebook is part of our graduation project titled:\n",
        "\n",
        "**\"Personalized Points of Interest (POI) Recommendation System for Tourism in the Capital City of Saudi Arabia – Riyadh.\"**\n",
        "\n",
        "\n",
        "**Contents**:\n",
        "- Raw check-in data cleanup\n",
        "- Normalization and encoding\n",
        "- Time and location feature extraction\n",
        "- Feature engineering for category and user behavior\n",
        "\n",
        "🔴 **Dataset**: Collected manually from Swarm (Foursquare) with ethical approval  \n",
        "🔴 **Tools**: Python, Pandas, NumPy, Scikit-learn, etc.\n"
      ],
      "metadata": {
        "id": "D--AvNDm5603"
      }
    },
    {
      "cell_type": "markdown",
      "source": [
        "## Import Libraries\n",
        "\n",
        "The necessary libraries for data manipulation and analysis."
      ],
      "metadata": {
        "id": "jOLYIbraZVPC"
      }
    },
    {
      "cell_type": "code",
      "source": [
        "!pip install fuzzywuzzy"
      ],
      "metadata": {
        "colab": {
          "base_uri": "https://localhost:8080/"
        },
        "id": "Qj2wuW3gBLnT",
        "outputId": "440c71c0-08cb-413d-e090-df1512f9a4ae"
      },
      "execution_count": null,
      "outputs": [
        {
          "output_type": "stream",
          "name": "stdout",
          "text": [
            "Collecting fuzzywuzzy\n",
            "  Downloading fuzzywuzzy-0.18.0-py2.py3-none-any.whl.metadata (4.9 kB)\n",
            "Downloading fuzzywuzzy-0.18.0-py2.py3-none-any.whl (18 kB)\n",
            "Installing collected packages: fuzzywuzzy\n",
            "Successfully installed fuzzywuzzy-0.18.0\n"
          ]
        }
      ]
    },
    {
      "cell_type": "code",
      "execution_count": null,
      "metadata": {
        "id": "He6Iq88pvvN4",
        "colab": {
          "base_uri": "https://localhost:8080/"
        },
        "outputId": "314ec8c0-1cea-43b1-c956-ec779564ceef"
      },
      "outputs": [
        {
          "output_type": "stream",
          "name": "stderr",
          "text": [
            "/usr/local/lib/python3.11/dist-packages/fuzzywuzzy/fuzz.py:11: UserWarning: Using slow pure-python SequenceMatcher. Install python-Levenshtein to remove this warning\n",
            "  warnings.warn('Using slow pure-python SequenceMatcher. Install python-Levenshtein to remove this warning')\n"
          ]
        }
      ],
      "source": [
        "import pandas as pd\n",
        "import numpy as np\n",
        "from scipy import stats\n",
        "from scipy.stats import zscore\n",
        "from sklearn.preprocessing import MinMaxScaler, LabelEncoder\n",
        "import matplotlib.pyplot as plt\n",
        "import seaborn as sns\n",
        "from scipy import stats\n",
        "from datetime import datetime\n",
        "from fuzzywuzzy import process, fuzz\n",
        "import re\n",
        "from sklearn.ensemble import RandomForestClassifier\n",
        "from sklearn.model_selection import train_test_split\n",
        "from statsmodels.stats.outliers_influence import variance_inflation_factor"
      ]
    },
    {
      "cell_type": "markdown",
      "source": [
        "## Load the Dataset\n"
      ],
      "metadata": {
        "id": "1fR6Z_aEZf_2"
      }
    },
    {
      "cell_type": "code",
      "source": [
        "# Load the dataset\n",
        "file_path ='/content/POI-last.xlsx'\n",
        "df = pd.read_excel(file_path)\n",
        "\n",
        "# Display the first few rows to understand the structure of the data\n",
        "df.head()"
      ],
      "metadata": {
        "colab": {
          "base_uri": "https://localhost:8080/",
          "height": 417
        },
        "id": "ZVEJ-Q0yZfoQ",
        "outputId": "b5b22cb0-be23-4e7b-9396-c0b3cdbb426a"
      },
      "execution_count": null,
      "outputs": [
        {
          "output_type": "execute_result",
          "data": {
            "text/plain": [
              "   User ID Venue ID   Latitude  Longitude       Check-in Time        Day  \\\n",
              "0        1      V01  24.693367  46.598449 2024-09-11 20:18:00  Wednesday   \n",
              "1        1      V02  24.733212  46.645169 2024-09-11 20:42:00  Wednesday   \n",
              "2        1      V03  24.722389  46.678917 2022-08-01 20:39:00     Monday   \n",
              "3        1      V04  24.713180  46.675823 2022-08-01 21:39:00     Monday   \n",
              "4        1      V05  24.858572  46.646492 2022-07-31 13:47:00     Sunday   \n",
              "\n",
              "  Previous Venue ID            Venue Name      Venue Category   \n",
              "0               NaN  BELMONT Coffee House          Coffee Shop  \n",
              "1               V01               KHOLASA          Coffee Shop  \n",
              "2               V05                Shazin  Miscellaneous Store  \n",
              "3               V03           SHOE PALACE           Shoe Store  \n",
              "4               V06             Starbucks          Coffee Shop  "
            ],
            "text/html": [
              "\n",
              "  <div id=\"df-b4cca555-0085-4a63-b8a4-a38e3832a52c\" class=\"colab-df-container\">\n",
              "    <div>\n",
              "<style scoped>\n",
              "    .dataframe tbody tr th:only-of-type {\n",
              "        vertical-align: middle;\n",
              "    }\n",
              "\n",
              "    .dataframe tbody tr th {\n",
              "        vertical-align: top;\n",
              "    }\n",
              "\n",
              "    .dataframe thead th {\n",
              "        text-align: right;\n",
              "    }\n",
              "</style>\n",
              "<table border=\"1\" class=\"dataframe\">\n",
              "  <thead>\n",
              "    <tr style=\"text-align: right;\">\n",
              "      <th></th>\n",
              "      <th>User ID</th>\n",
              "      <th>Venue ID</th>\n",
              "      <th>Latitude</th>\n",
              "      <th>Longitude</th>\n",
              "      <th>Check-in Time</th>\n",
              "      <th>Day</th>\n",
              "      <th>Previous Venue ID</th>\n",
              "      <th>Venue Name</th>\n",
              "      <th>Venue Category</th>\n",
              "    </tr>\n",
              "  </thead>\n",
              "  <tbody>\n",
              "    <tr>\n",
              "      <th>0</th>\n",
              "      <td>1</td>\n",
              "      <td>V01</td>\n",
              "      <td>24.693367</td>\n",
              "      <td>46.598449</td>\n",
              "      <td>2024-09-11 20:18:00</td>\n",
              "      <td>Wednesday</td>\n",
              "      <td>NaN</td>\n",
              "      <td>BELMONT Coffee House</td>\n",
              "      <td>Coffee Shop</td>\n",
              "    </tr>\n",
              "    <tr>\n",
              "      <th>1</th>\n",
              "      <td>1</td>\n",
              "      <td>V02</td>\n",
              "      <td>24.733212</td>\n",
              "      <td>46.645169</td>\n",
              "      <td>2024-09-11 20:42:00</td>\n",
              "      <td>Wednesday</td>\n",
              "      <td>V01</td>\n",
              "      <td>KHOLASA</td>\n",
              "      <td>Coffee Shop</td>\n",
              "    </tr>\n",
              "    <tr>\n",
              "      <th>2</th>\n",
              "      <td>1</td>\n",
              "      <td>V03</td>\n",
              "      <td>24.722389</td>\n",
              "      <td>46.678917</td>\n",
              "      <td>2022-08-01 20:39:00</td>\n",
              "      <td>Monday</td>\n",
              "      <td>V05</td>\n",
              "      <td>Shazin</td>\n",
              "      <td>Miscellaneous Store</td>\n",
              "    </tr>\n",
              "    <tr>\n",
              "      <th>3</th>\n",
              "      <td>1</td>\n",
              "      <td>V04</td>\n",
              "      <td>24.713180</td>\n",
              "      <td>46.675823</td>\n",
              "      <td>2022-08-01 21:39:00</td>\n",
              "      <td>Monday</td>\n",
              "      <td>V03</td>\n",
              "      <td>SHOE PALACE</td>\n",
              "      <td>Shoe Store</td>\n",
              "    </tr>\n",
              "    <tr>\n",
              "      <th>4</th>\n",
              "      <td>1</td>\n",
              "      <td>V05</td>\n",
              "      <td>24.858572</td>\n",
              "      <td>46.646492</td>\n",
              "      <td>2022-07-31 13:47:00</td>\n",
              "      <td>Sunday</td>\n",
              "      <td>V06</td>\n",
              "      <td>Starbucks</td>\n",
              "      <td>Coffee Shop</td>\n",
              "    </tr>\n",
              "  </tbody>\n",
              "</table>\n",
              "</div>\n",
              "    <div class=\"colab-df-buttons\">\n",
              "\n",
              "  <div class=\"colab-df-container\">\n",
              "    <button class=\"colab-df-convert\" onclick=\"convertToInteractive('df-b4cca555-0085-4a63-b8a4-a38e3832a52c')\"\n",
              "            title=\"Convert this dataframe to an interactive table.\"\n",
              "            style=\"display:none;\">\n",
              "\n",
              "  <svg xmlns=\"http://www.w3.org/2000/svg\" height=\"24px\" viewBox=\"0 -960 960 960\">\n",
              "    <path d=\"M120-120v-720h720v720H120Zm60-500h600v-160H180v160Zm220 220h160v-160H400v160Zm0 220h160v-160H400v160ZM180-400h160v-160H180v160Zm440 0h160v-160H620v160ZM180-180h160v-160H180v160Zm440 0h160v-160H620v160Z\"/>\n",
              "  </svg>\n",
              "    </button>\n",
              "\n",
              "  <style>\n",
              "    .colab-df-container {\n",
              "      display:flex;\n",
              "      gap: 12px;\n",
              "    }\n",
              "\n",
              "    .colab-df-convert {\n",
              "      background-color: #E8F0FE;\n",
              "      border: none;\n",
              "      border-radius: 50%;\n",
              "      cursor: pointer;\n",
              "      display: none;\n",
              "      fill: #1967D2;\n",
              "      height: 32px;\n",
              "      padding: 0 0 0 0;\n",
              "      width: 32px;\n",
              "    }\n",
              "\n",
              "    .colab-df-convert:hover {\n",
              "      background-color: #E2EBFA;\n",
              "      box-shadow: 0px 1px 2px rgba(60, 64, 67, 0.3), 0px 1px 3px 1px rgba(60, 64, 67, 0.15);\n",
              "      fill: #174EA6;\n",
              "    }\n",
              "\n",
              "    .colab-df-buttons div {\n",
              "      margin-bottom: 4px;\n",
              "    }\n",
              "\n",
              "    [theme=dark] .colab-df-convert {\n",
              "      background-color: #3B4455;\n",
              "      fill: #D2E3FC;\n",
              "    }\n",
              "\n",
              "    [theme=dark] .colab-df-convert:hover {\n",
              "      background-color: #434B5C;\n",
              "      box-shadow: 0px 1px 3px 1px rgba(0, 0, 0, 0.15);\n",
              "      filter: drop-shadow(0px 1px 2px rgba(0, 0, 0, 0.3));\n",
              "      fill: #FFFFFF;\n",
              "    }\n",
              "  </style>\n",
              "\n",
              "    <script>\n",
              "      const buttonEl =\n",
              "        document.querySelector('#df-b4cca555-0085-4a63-b8a4-a38e3832a52c button.colab-df-convert');\n",
              "      buttonEl.style.display =\n",
              "        google.colab.kernel.accessAllowed ? 'block' : 'none';\n",
              "\n",
              "      async function convertToInteractive(key) {\n",
              "        const element = document.querySelector('#df-b4cca555-0085-4a63-b8a4-a38e3832a52c');\n",
              "        const dataTable =\n",
              "          await google.colab.kernel.invokeFunction('convertToInteractive',\n",
              "                                                    [key], {});\n",
              "        if (!dataTable) return;\n",
              "\n",
              "        const docLinkHtml = 'Like what you see? Visit the ' +\n",
              "          '<a target=\"_blank\" href=https://colab.research.google.com/notebooks/data_table.ipynb>data table notebook</a>'\n",
              "          + ' to learn more about interactive tables.';\n",
              "        element.innerHTML = '';\n",
              "        dataTable['output_type'] = 'display_data';\n",
              "        await google.colab.output.renderOutput(dataTable, element);\n",
              "        const docLink = document.createElement('div');\n",
              "        docLink.innerHTML = docLinkHtml;\n",
              "        element.appendChild(docLink);\n",
              "      }\n",
              "    </script>\n",
              "  </div>\n",
              "\n",
              "\n",
              "<div id=\"df-c19e7e46-cc1e-4aa3-9287-ef00ea8e3ad9\">\n",
              "  <button class=\"colab-df-quickchart\" onclick=\"quickchart('df-c19e7e46-cc1e-4aa3-9287-ef00ea8e3ad9')\"\n",
              "            title=\"Suggest charts\"\n",
              "            style=\"display:none;\">\n",
              "\n",
              "<svg xmlns=\"http://www.w3.org/2000/svg\" height=\"24px\"viewBox=\"0 0 24 24\"\n",
              "     width=\"24px\">\n",
              "    <g>\n",
              "        <path d=\"M19 3H5c-1.1 0-2 .9-2 2v14c0 1.1.9 2 2 2h14c1.1 0 2-.9 2-2V5c0-1.1-.9-2-2-2zM9 17H7v-7h2v7zm4 0h-2V7h2v10zm4 0h-2v-4h2v4z\"/>\n",
              "    </g>\n",
              "</svg>\n",
              "  </button>\n",
              "\n",
              "<style>\n",
              "  .colab-df-quickchart {\n",
              "      --bg-color: #E8F0FE;\n",
              "      --fill-color: #1967D2;\n",
              "      --hover-bg-color: #E2EBFA;\n",
              "      --hover-fill-color: #174EA6;\n",
              "      --disabled-fill-color: #AAA;\n",
              "      --disabled-bg-color: #DDD;\n",
              "  }\n",
              "\n",
              "  [theme=dark] .colab-df-quickchart {\n",
              "      --bg-color: #3B4455;\n",
              "      --fill-color: #D2E3FC;\n",
              "      --hover-bg-color: #434B5C;\n",
              "      --hover-fill-color: #FFFFFF;\n",
              "      --disabled-bg-color: #3B4455;\n",
              "      --disabled-fill-color: #666;\n",
              "  }\n",
              "\n",
              "  .colab-df-quickchart {\n",
              "    background-color: var(--bg-color);\n",
              "    border: none;\n",
              "    border-radius: 50%;\n",
              "    cursor: pointer;\n",
              "    display: none;\n",
              "    fill: var(--fill-color);\n",
              "    height: 32px;\n",
              "    padding: 0;\n",
              "    width: 32px;\n",
              "  }\n",
              "\n",
              "  .colab-df-quickchart:hover {\n",
              "    background-color: var(--hover-bg-color);\n",
              "    box-shadow: 0 1px 2px rgba(60, 64, 67, 0.3), 0 1px 3px 1px rgba(60, 64, 67, 0.15);\n",
              "    fill: var(--button-hover-fill-color);\n",
              "  }\n",
              "\n",
              "  .colab-df-quickchart-complete:disabled,\n",
              "  .colab-df-quickchart-complete:disabled:hover {\n",
              "    background-color: var(--disabled-bg-color);\n",
              "    fill: var(--disabled-fill-color);\n",
              "    box-shadow: none;\n",
              "  }\n",
              "\n",
              "  .colab-df-spinner {\n",
              "    border: 2px solid var(--fill-color);\n",
              "    border-color: transparent;\n",
              "    border-bottom-color: var(--fill-color);\n",
              "    animation:\n",
              "      spin 1s steps(1) infinite;\n",
              "  }\n",
              "\n",
              "  @keyframes spin {\n",
              "    0% {\n",
              "      border-color: transparent;\n",
              "      border-bottom-color: var(--fill-color);\n",
              "      border-left-color: var(--fill-color);\n",
              "    }\n",
              "    20% {\n",
              "      border-color: transparent;\n",
              "      border-left-color: var(--fill-color);\n",
              "      border-top-color: var(--fill-color);\n",
              "    }\n",
              "    30% {\n",
              "      border-color: transparent;\n",
              "      border-left-color: var(--fill-color);\n",
              "      border-top-color: var(--fill-color);\n",
              "      border-right-color: var(--fill-color);\n",
              "    }\n",
              "    40% {\n",
              "      border-color: transparent;\n",
              "      border-right-color: var(--fill-color);\n",
              "      border-top-color: var(--fill-color);\n",
              "    }\n",
              "    60% {\n",
              "      border-color: transparent;\n",
              "      border-right-color: var(--fill-color);\n",
              "    }\n",
              "    80% {\n",
              "      border-color: transparent;\n",
              "      border-right-color: var(--fill-color);\n",
              "      border-bottom-color: var(--fill-color);\n",
              "    }\n",
              "    90% {\n",
              "      border-color: transparent;\n",
              "      border-bottom-color: var(--fill-color);\n",
              "    }\n",
              "  }\n",
              "</style>\n",
              "\n",
              "  <script>\n",
              "    async function quickchart(key) {\n",
              "      const quickchartButtonEl =\n",
              "        document.querySelector('#' + key + ' button');\n",
              "      quickchartButtonEl.disabled = true;  // To prevent multiple clicks.\n",
              "      quickchartButtonEl.classList.add('colab-df-spinner');\n",
              "      try {\n",
              "        const charts = await google.colab.kernel.invokeFunction(\n",
              "            'suggestCharts', [key], {});\n",
              "      } catch (error) {\n",
              "        console.error('Error during call to suggestCharts:', error);\n",
              "      }\n",
              "      quickchartButtonEl.classList.remove('colab-df-spinner');\n",
              "      quickchartButtonEl.classList.add('colab-df-quickchart-complete');\n",
              "    }\n",
              "    (() => {\n",
              "      let quickchartButtonEl =\n",
              "        document.querySelector('#df-c19e7e46-cc1e-4aa3-9287-ef00ea8e3ad9 button');\n",
              "      quickchartButtonEl.style.display =\n",
              "        google.colab.kernel.accessAllowed ? 'block' : 'none';\n",
              "    })();\n",
              "  </script>\n",
              "</div>\n",
              "\n",
              "    </div>\n",
              "  </div>\n"
            ],
            "application/vnd.google.colaboratory.intrinsic+json": {
              "type": "dataframe",
              "variable_name": "df",
              "summary": "{\n  \"name\": \"df\",\n  \"rows\": 992,\n  \"fields\": [\n    {\n      \"column\": \"User ID\",\n      \"properties\": {\n        \"dtype\": \"number\",\n        \"std\": 7,\n        \"min\": 1,\n        \"max\": 23,\n        \"num_unique_values\": 23,\n        \"samples\": [\n          16,\n          10,\n          1\n        ],\n        \"semantic_type\": \"\",\n        \"description\": \"\"\n      }\n    },\n    {\n      \"column\": \"Venue ID\",\n      \"properties\": {\n        \"dtype\": \"string\",\n        \"num_unique_values\": 589,\n        \"samples\": [\n          \"V527\",\n          \"V290\",\n          \"V519\"\n        ],\n        \"semantic_type\": \"\",\n        \"description\": \"\"\n      }\n    },\n    {\n      \"column\": \"Latitude\",\n      \"properties\": {\n        \"dtype\": \"number\",\n        \"std\": 2.199514594147477,\n        \"min\": 18.238822,\n        \"max\": 46.8188889,\n        \"num_unique_values\": 536,\n        \"samples\": [\n          24.74325,\n          24.6448611,\n          24.858584\n        ],\n        \"semantic_type\": \"\",\n        \"description\": \"\"\n      }\n    },\n    {\n      \"column\": \"Longitude\",\n      \"properties\": {\n        \"dtype\": \"number\",\n        \"std\": 2.186226178416212,\n        \"min\": 24.7833056,\n        \"max\": 46.8549444,\n        \"num_unique_values\": 544,\n        \"samples\": [\n          46.6828611,\n          46.6312778,\n          46.7738056\n        ],\n        \"semantic_type\": \"\",\n        \"description\": \"\"\n      }\n    },\n    {\n      \"column\": \"Check-in Time\",\n      \"properties\": {\n        \"dtype\": \"date\",\n        \"min\": \"2020-12-20 21:41:00\",\n        \"max\": \"2025-01-28 22:57:00\",\n        \"num_unique_values\": 988,\n        \"samples\": [\n          \"2022-03-25 01:59:00\",\n          \"2024-05-24 17:36:00\",\n          \"2023-08-18 23:16:00\"\n        ],\n        \"semantic_type\": \"\",\n        \"description\": \"\"\n      }\n    },\n    {\n      \"column\": \"Day\",\n      \"properties\": {\n        \"dtype\": \"category\",\n        \"num_unique_values\": 10,\n        \"samples\": [\n          \"Tuesday\",\n          \"Monday\",\n          \"Thursday\"\n        ],\n        \"semantic_type\": \"\",\n        \"description\": \"\"\n      }\n    },\n    {\n      \"column\": \"Previous Venue ID\",\n      \"properties\": {\n        \"dtype\": \"string\",\n        \"num_unique_values\": 559,\n        \"samples\": [\n          \"V179\",\n          \"V487\",\n          \"V60\"\n        ],\n        \"semantic_type\": \"\",\n        \"description\": \"\"\n      }\n    },\n    {\n      \"column\": \"Venue Name\",\n      \"properties\": {\n        \"dtype\": \"string\",\n        \"num_unique_values\": 508,\n        \"samples\": [\n          \"\\u0634\\u0627\\u0647\\u064a \\u0644\\u0645\\u0629\",\n          \"Secret Garden\",\n          \"COBEE Coffee\"\n        ],\n        \"semantic_type\": \"\",\n        \"description\": \"\"\n      }\n    },\n    {\n      \"column\": \"Venue Category \",\n      \"properties\": {\n        \"dtype\": \"category\",\n        \"num_unique_values\": 137,\n        \"samples\": [\n          \"Health Food Store\",\n          \"Mexican Restaurant\",\n          \"Country Park\"\n        ],\n        \"semantic_type\": \"\",\n        \"description\": \"\"\n      }\n    }\n  ]\n}"
            }
          },
          "metadata": {},
          "execution_count": 3
        }
      ]
    },
    {
      "cell_type": "markdown",
      "source": [
        "## Data Cleaning"
      ],
      "metadata": {
        "id": "XJYa8uH0FNWw"
      }
    },
    {
      "cell_type": "markdown",
      "source": [
        "## Step 1: Remove Trailing Spaces in Column Names\n",
        "### 1.1 Check for trailing spaces in column names.\n"
      ],
      "metadata": {
        "id": "Qk07obgubY_2"
      }
    },
    {
      "cell_type": "code",
      "source": [
        "# Check for trailing spaces in column names\n",
        "print(\"Column names before removing trailing spaces:\")\n",
        "print(df.columns.tolist())"
      ],
      "metadata": {
        "colab": {
          "base_uri": "https://localhost:8080/"
        },
        "id": "Kmhs0YCTa-uH",
        "outputId": "a7fffa60-0421-4dd9-fd5c-1a146445c2a9"
      },
      "execution_count": null,
      "outputs": [
        {
          "output_type": "stream",
          "name": "stdout",
          "text": [
            "Column names before removing trailing spaces:\n",
            "['User ID', 'Venue ID', 'Latitude', 'Longitude', 'Check-in Time', 'Day', 'Previous Venue ID', 'Venue Name', 'Venue Category ']\n"
          ]
        }
      ]
    },
    {
      "cell_type": "markdown",
      "source": [
        "### 1.2 Remove trailing spaces in column names.\n"
      ],
      "metadata": {
        "id": "wFZIsoyRd8jd"
      }
    },
    {
      "cell_type": "code",
      "source": [
        "# Strip whitespace from column names\n",
        "df.columns = df.columns.str.strip()\n",
        "\n",
        "# Verify column names after stripping spaces\n",
        "print(\"Column names after removing trailing spaces:\")\n",
        "print(df.columns.tolist())"
      ],
      "metadata": {
        "colab": {
          "base_uri": "https://localhost:8080/"
        },
        "id": "E8H-Ay-3eAPD",
        "outputId": "bcfd0545-9302-4eea-a559-56c7e5846694"
      },
      "execution_count": null,
      "outputs": [
        {
          "output_type": "stream",
          "name": "stdout",
          "text": [
            "Column names after removing trailing spaces:\n",
            "['User ID', 'Venue ID', 'Latitude', 'Longitude', 'Check-in Time', 'Day', 'Previous Venue ID', 'Venue Name', 'Venue Category']\n"
          ]
        }
      ]
    },
    {
      "cell_type": "markdown",
      "source": [
        "## Step 2: Handle Missing Values\n",
        "### 2.1 Check for missing values in each column.\n"
      ],
      "metadata": {
        "id": "wtGtNTmIZr4J"
      }
    },
    {
      "cell_type": "code",
      "source": [
        "# Check for missing values in each column\n",
        "missing_values = df.isnull().sum()\n",
        "print(\"Missing values in each column:\")\n",
        "print(missing_values)\n",
        "\n",
        "# Display number of rows before handling missing values\n",
        "print(f\"\\nNumber of rows before handling missing values: {len(df)}\")"
      ],
      "metadata": {
        "colab": {
          "base_uri": "https://localhost:8080/"
        },
        "id": "PYFFrkB8ZsM4",
        "outputId": "8d343f6f-c0fc-47ca-ca7b-11240e19fd6b"
      },
      "execution_count": null,
      "outputs": [
        {
          "output_type": "stream",
          "name": "stdout",
          "text": [
            "Missing values in each column:\n",
            "User ID               0\n",
            "Venue ID              0\n",
            "Latitude              0\n",
            "Longitude             0\n",
            "Check-in Time         0\n",
            "Day                   0\n",
            "Previous Venue ID    55\n",
            "Venue Name            5\n",
            "Venue Category        2\n",
            "dtype: int64\n",
            "\n",
            "Number of rows before handling missing values: 992\n"
          ]
        }
      ]
    },
    {
      "cell_type": "markdown",
      "source": [
        "### 2.2 Fill missing values where applicable or drop rows if necessary.\n"
      ],
      "metadata": {
        "id": "BGDqdRWiekJL"
      }
    },
    {
      "cell_type": "code",
      "source": [
        "# Fill missing \"Previous Venue ID\" with \"None\"\n",
        "df['Previous Venue ID'].fillna('None', inplace=True)\n",
        "\n",
        "# # ***just for now -unntill we complete the missing values***\n",
        "# # Fill missing \"Venue Name\" with \"Unknown\"\n",
        "# df['Venue Name'].fillna('Unknown', inplace=True)\n",
        "\n",
        "# # Fill missing \"Venue Category\" with \"Unknown\"\n",
        "# df['Venue Category'].fillna('Unknown', inplace=True)\n",
        "\n",
        "# # Drop rows where 'Venue Name' or 'Venue Category' is missing\n",
        "df = df.dropna(subset=['Venue Name', 'Venue Category'])\n",
        "\n",
        "# Verify that missing values have been handled\n",
        "print(df.isnull().sum())\n",
        "\n",
        "# Display number of rows after handling missing values\n",
        "print(f\"\\nNumber of rows after handling missing values: {len(df)}\")"
      ],
      "metadata": {
        "colab": {
          "base_uri": "https://localhost:8080/"
        },
        "id": "JChJJ7gNZ8OY",
        "outputId": "4441dd97-c1e7-4209-81b6-acae6448d815"
      },
      "execution_count": null,
      "outputs": [
        {
          "output_type": "stream",
          "name": "stdout",
          "text": [
            "User ID              0\n",
            "Venue ID             0\n",
            "Latitude             0\n",
            "Longitude            0\n",
            "Check-in Time        0\n",
            "Day                  0\n",
            "Previous Venue ID    0\n",
            "Venue Name           0\n",
            "Venue Category       0\n",
            "dtype: int64\n",
            "\n",
            "Number of rows after handling missing values: 987\n"
          ]
        },
        {
          "output_type": "stream",
          "name": "stderr",
          "text": [
            "<ipython-input-7-e15e91ebf988>:2: FutureWarning: A value is trying to be set on a copy of a DataFrame or Series through chained assignment using an inplace method.\n",
            "The behavior will change in pandas 3.0. This inplace method will never work because the intermediate object on which we are setting values always behaves as a copy.\n",
            "\n",
            "For example, when doing 'df[col].method(value, inplace=True)', try using 'df.method({col: value}, inplace=True)' or df[col] = df[col].method(value) instead, to perform the operation inplace on the original object.\n",
            "\n",
            "\n",
            "  df['Previous Venue ID'].fillna('None', inplace=True)\n"
          ]
        }
      ]
    },
    {
      "cell_type": "markdown",
      "source": [
        "## Step 3: Convert Columns to Correct Formats & Ensure Proper ID Handling\n",
        "### 3.1 Check the data type for each original column.\n"
      ],
      "metadata": {
        "id": "M_4DB9GQbxOl"
      }
    },
    {
      "cell_type": "code",
      "source": [
        "# Check the data types of columns\n",
        "print(\"Data types before conversion:\")\n",
        "print(df.dtypes)"
      ],
      "metadata": {
        "colab": {
          "base_uri": "https://localhost:8080/"
        },
        "id": "IqTGRJMiahOl",
        "outputId": "95a1c707-88d1-419c-f4a2-8947bbb421b4"
      },
      "execution_count": null,
      "outputs": [
        {
          "output_type": "stream",
          "name": "stdout",
          "text": [
            "Data types before conversion:\n",
            "User ID                       int64\n",
            "Venue ID                     object\n",
            "Latitude                    float64\n",
            "Longitude                   float64\n",
            "Check-in Time        datetime64[ns]\n",
            "Day                          object\n",
            "Previous Venue ID            object\n",
            "Venue Name                   object\n",
            "Venue Category               object\n",
            "dtype: object\n"
          ]
        }
      ]
    },
    {
      "cell_type": "markdown",
      "source": [
        "### 3.2.1 Convert Check-in Time to datetime format\n"
      ],
      "metadata": {
        "id": "u2x6ZRQviHd6"
      }
    },
    {
      "cell_type": "code",
      "source": [
        "# Display the first few rows of the original 'Check-in Time' column\n",
        "print(f\"Original 'Check-in Time' Values: \\n{df['Check-in Time'].head()}\\n\")\n",
        "\n",
        "# Convert 'Check-in Time' to datetime format\n",
        "df['Check-in Time'] = pd.to_datetime(df['Check-in Time'], format='%m/%d/%y %H:%M', errors='coerce')\n",
        "\n",
        "# Display the first few rows of the converted 'Check-in Time' column\n",
        "print(f\"Converted 'Check-in Time' Values: \\n{df['Check-in Time'].head()}\\n\")\n",
        "\n",
        "# Check for NaT value\n",
        "nat_count = df['Check-in Time'].isna().sum()\n",
        "print(f\"Number of 'NaT' values after conversion: {nat_count}\\n\")\n",
        "\n",
        "# Display rows with NaT values (if any)\n",
        "if nat_count > 0:\n",
        "    print(\"Rows with 'NaT' values:\\n\")\n",
        "    print(df[df['Check-in Time'].isna()])"
      ],
      "metadata": {
        "colab": {
          "base_uri": "https://localhost:8080/"
        },
        "id": "9eXjevP2iHxL",
        "outputId": "3c5b59c4-4a42-4783-8f3c-e1e2e0fd9b43"
      },
      "execution_count": null,
      "outputs": [
        {
          "output_type": "stream",
          "name": "stdout",
          "text": [
            "Original 'Check-in Time' Values: \n",
            "0   2024-09-11 20:18:00\n",
            "1   2024-09-11 20:42:00\n",
            "2   2022-08-01 20:39:00\n",
            "3   2022-08-01 21:39:00\n",
            "4   2022-07-31 13:47:00\n",
            "Name: Check-in Time, dtype: datetime64[ns]\n",
            "\n",
            "Converted 'Check-in Time' Values: \n",
            "0   2024-09-11 20:18:00\n",
            "1   2024-09-11 20:42:00\n",
            "2   2022-08-01 20:39:00\n",
            "3   2022-08-01 21:39:00\n",
            "4   2022-07-31 13:47:00\n",
            "Name: Check-in Time, dtype: datetime64[ns]\n",
            "\n",
            "Number of 'NaT' values after conversion: 0\n",
            "\n"
          ]
        },
        {
          "output_type": "stream",
          "name": "stderr",
          "text": [
            "<ipython-input-9-af3a96dfdc0a>:5: SettingWithCopyWarning: \n",
            "A value is trying to be set on a copy of a slice from a DataFrame.\n",
            "Try using .loc[row_indexer,col_indexer] = value instead\n",
            "\n",
            "See the caveats in the documentation: https://pandas.pydata.org/pandas-docs/stable/user_guide/indexing.html#returning-a-view-versus-a-copy\n",
            "  df['Check-in Time'] = pd.to_datetime(df['Check-in Time'], format='%m/%d/%y %H:%M', errors='coerce')\n"
          ]
        }
      ]
    },
    {
      "cell_type": "markdown",
      "source": [
        "\n",
        "\n",
        "### 3.2.2 Convert User ID, Venue ID, and Previous Venue ID to appropriate types\n",
        "\n"
      ],
      "metadata": {
        "id": "E6ujD8UajTk-"
      }
    },
    {
      "cell_type": "code",
      "source": [
        "df['User ID'] = df['User ID'].astype(int)\n",
        "df['Venue ID'] = df['Venue ID'].astype(str)\n",
        "df['Previous Venue ID'] = df['Previous Venue ID'].astype(str)"
      ],
      "metadata": {
        "id": "0GBo7xmLjY2U",
        "colab": {
          "base_uri": "https://localhost:8080/"
        },
        "outputId": "8da34d55-e619-4b8f-fc99-74dc4424ce7d"
      },
      "execution_count": null,
      "outputs": [
        {
          "output_type": "stream",
          "name": "stderr",
          "text": [
            "<ipython-input-10-be09f0f56460>:1: SettingWithCopyWarning: \n",
            "A value is trying to be set on a copy of a slice from a DataFrame.\n",
            "Try using .loc[row_indexer,col_indexer] = value instead\n",
            "\n",
            "See the caveats in the documentation: https://pandas.pydata.org/pandas-docs/stable/user_guide/indexing.html#returning-a-view-versus-a-copy\n",
            "  df['User ID'] = df['User ID'].astype(int)\n",
            "<ipython-input-10-be09f0f56460>:2: SettingWithCopyWarning: \n",
            "A value is trying to be set on a copy of a slice from a DataFrame.\n",
            "Try using .loc[row_indexer,col_indexer] = value instead\n",
            "\n",
            "See the caveats in the documentation: https://pandas.pydata.org/pandas-docs/stable/user_guide/indexing.html#returning-a-view-versus-a-copy\n",
            "  df['Venue ID'] = df['Venue ID'].astype(str)\n",
            "<ipython-input-10-be09f0f56460>:3: SettingWithCopyWarning: \n",
            "A value is trying to be set on a copy of a slice from a DataFrame.\n",
            "Try using .loc[row_indexer,col_indexer] = value instead\n",
            "\n",
            "See the caveats in the documentation: https://pandas.pydata.org/pandas-docs/stable/user_guide/indexing.html#returning-a-view-versus-a-copy\n",
            "  df['Previous Venue ID'] = df['Previous Venue ID'].astype(str)\n"
          ]
        }
      ]
    },
    {
      "cell_type": "markdown",
      "source": [
        "### 3.2.3 Ensure latitude and longitude have consistent precision\n"
      ],
      "metadata": {
        "id": "DOmTqyrPjgTS"
      }
    },
    {
      "cell_type": "code",
      "source": [
        "df['Latitude'] = df['Latitude'].round(6)\n",
        "df['Longitude'] = df['Longitude'].round(6)"
      ],
      "metadata": {
        "id": "LBDab62ejg0N",
        "colab": {
          "base_uri": "https://localhost:8080/"
        },
        "outputId": "37d508ac-91a3-442f-becd-f35c59aabe9c"
      },
      "execution_count": null,
      "outputs": [
        {
          "output_type": "stream",
          "name": "stderr",
          "text": [
            "<ipython-input-11-05e6a5c1ac9c>:1: SettingWithCopyWarning: \n",
            "A value is trying to be set on a copy of a slice from a DataFrame.\n",
            "Try using .loc[row_indexer,col_indexer] = value instead\n",
            "\n",
            "See the caveats in the documentation: https://pandas.pydata.org/pandas-docs/stable/user_guide/indexing.html#returning-a-view-versus-a-copy\n",
            "  df['Latitude'] = df['Latitude'].round(6)\n",
            "<ipython-input-11-05e6a5c1ac9c>:2: SettingWithCopyWarning: \n",
            "A value is trying to be set on a copy of a slice from a DataFrame.\n",
            "Try using .loc[row_indexer,col_indexer] = value instead\n",
            "\n",
            "See the caveats in the documentation: https://pandas.pydata.org/pandas-docs/stable/user_guide/indexing.html#returning-a-view-versus-a-copy\n",
            "  df['Longitude'] = df['Longitude'].round(6)\n"
          ]
        }
      ]
    },
    {
      "cell_type": "markdown",
      "source": [
        "### 3.2.5 Clean and Unify the Days Column"
      ],
      "metadata": {
        "id": "MYUne7ycHOi8"
      }
    },
    {
      "cell_type": "code",
      "source": [
        "# Display unique values to confirm cleaning\n",
        "print(\"Cleaned 'Day' column unique values before cleaning:\")\n",
        "print(df['Day'].unique())\n",
        "\n",
        "# Strip spaces and ensure the first letter is capitalized\n",
        "df['Day'] = df['Day'].str.strip()\n",
        "\n",
        "# Display unique values to confirm cleaning\n",
        "print(\"Cleaned 'Day' column unique values after cleaning:\")\n",
        "print(df['Day'].unique())\n"
      ],
      "metadata": {
        "colab": {
          "base_uri": "https://localhost:8080/"
        },
        "id": "HLSUkFPvHZPy",
        "outputId": "218eea18-8515-4d37-c1a7-b5cd38b3e553"
      },
      "execution_count": null,
      "outputs": [
        {
          "output_type": "stream",
          "name": "stdout",
          "text": [
            "Cleaned 'Day' column unique values before cleaning:\n",
            "['Wednesday' 'Monday' 'Sunday' 'Saturday' 'Friday' 'Thursday' 'Tuesday '\n",
            " 'Wednesday ' 'Tuesday' 'Monday ']\n",
            "Cleaned 'Day' column unique values after cleaning:\n",
            "['Wednesday' 'Monday' 'Sunday' 'Saturday' 'Friday' 'Thursday' 'Tuesday']\n"
          ]
        }
      ]
    },
    {
      "cell_type": "markdown",
      "source": [
        "### 3.3 Verify that column formats have been correctly converted\n"
      ],
      "metadata": {
        "id": "mNztY4pqjmMM"
      }
    },
    {
      "cell_type": "code",
      "source": [
        "# Verify column formats after conversion\n",
        "print(\"Data types after conversion:\\n\", df.dtypes)\n",
        "\n",
        "# Display a sample of the dataset to confirm\n",
        "df.head()"
      ],
      "metadata": {
        "colab": {
          "base_uri": "https://localhost:8080/",
          "height": 608
        },
        "id": "_l1V8pu4jphq",
        "outputId": "31fde3f3-a91a-495a-bb65-4a748007a8ff"
      },
      "execution_count": null,
      "outputs": [
        {
          "output_type": "stream",
          "name": "stdout",
          "text": [
            "Data types after conversion:\n",
            " User ID                       int64\n",
            "Venue ID                     object\n",
            "Latitude                    float64\n",
            "Longitude                   float64\n",
            "Check-in Time        datetime64[ns]\n",
            "Day                          object\n",
            "Previous Venue ID            object\n",
            "Venue Name                   object\n",
            "Venue Category               object\n",
            "dtype: object\n"
          ]
        },
        {
          "output_type": "execute_result",
          "data": {
            "text/plain": [
              "   User ID Venue ID   Latitude  Longitude       Check-in Time        Day  \\\n",
              "0        1      V01  24.693367  46.598449 2024-09-11 20:18:00  Wednesday   \n",
              "1        1      V02  24.733212  46.645169 2024-09-11 20:42:00  Wednesday   \n",
              "2        1      V03  24.722389  46.678917 2022-08-01 20:39:00     Monday   \n",
              "3        1      V04  24.713180  46.675823 2022-08-01 21:39:00     Monday   \n",
              "4        1      V05  24.858572  46.646492 2022-07-31 13:47:00     Sunday   \n",
              "\n",
              "  Previous Venue ID            Venue Name       Venue Category  \n",
              "0              None  BELMONT Coffee House          Coffee Shop  \n",
              "1               V01               KHOLASA          Coffee Shop  \n",
              "2               V05                Shazin  Miscellaneous Store  \n",
              "3               V03           SHOE PALACE           Shoe Store  \n",
              "4               V06             Starbucks          Coffee Shop  "
            ],
            "text/html": [
              "\n",
              "  <div id=\"df-6559a751-b413-4860-b9d7-0b2cc5d50c61\" class=\"colab-df-container\">\n",
              "    <div>\n",
              "<style scoped>\n",
              "    .dataframe tbody tr th:only-of-type {\n",
              "        vertical-align: middle;\n",
              "    }\n",
              "\n",
              "    .dataframe tbody tr th {\n",
              "        vertical-align: top;\n",
              "    }\n",
              "\n",
              "    .dataframe thead th {\n",
              "        text-align: right;\n",
              "    }\n",
              "</style>\n",
              "<table border=\"1\" class=\"dataframe\">\n",
              "  <thead>\n",
              "    <tr style=\"text-align: right;\">\n",
              "      <th></th>\n",
              "      <th>User ID</th>\n",
              "      <th>Venue ID</th>\n",
              "      <th>Latitude</th>\n",
              "      <th>Longitude</th>\n",
              "      <th>Check-in Time</th>\n",
              "      <th>Day</th>\n",
              "      <th>Previous Venue ID</th>\n",
              "      <th>Venue Name</th>\n",
              "      <th>Venue Category</th>\n",
              "    </tr>\n",
              "  </thead>\n",
              "  <tbody>\n",
              "    <tr>\n",
              "      <th>0</th>\n",
              "      <td>1</td>\n",
              "      <td>V01</td>\n",
              "      <td>24.693367</td>\n",
              "      <td>46.598449</td>\n",
              "      <td>2024-09-11 20:18:00</td>\n",
              "      <td>Wednesday</td>\n",
              "      <td>None</td>\n",
              "      <td>BELMONT Coffee House</td>\n",
              "      <td>Coffee Shop</td>\n",
              "    </tr>\n",
              "    <tr>\n",
              "      <th>1</th>\n",
              "      <td>1</td>\n",
              "      <td>V02</td>\n",
              "      <td>24.733212</td>\n",
              "      <td>46.645169</td>\n",
              "      <td>2024-09-11 20:42:00</td>\n",
              "      <td>Wednesday</td>\n",
              "      <td>V01</td>\n",
              "      <td>KHOLASA</td>\n",
              "      <td>Coffee Shop</td>\n",
              "    </tr>\n",
              "    <tr>\n",
              "      <th>2</th>\n",
              "      <td>1</td>\n",
              "      <td>V03</td>\n",
              "      <td>24.722389</td>\n",
              "      <td>46.678917</td>\n",
              "      <td>2022-08-01 20:39:00</td>\n",
              "      <td>Monday</td>\n",
              "      <td>V05</td>\n",
              "      <td>Shazin</td>\n",
              "      <td>Miscellaneous Store</td>\n",
              "    </tr>\n",
              "    <tr>\n",
              "      <th>3</th>\n",
              "      <td>1</td>\n",
              "      <td>V04</td>\n",
              "      <td>24.713180</td>\n",
              "      <td>46.675823</td>\n",
              "      <td>2022-08-01 21:39:00</td>\n",
              "      <td>Monday</td>\n",
              "      <td>V03</td>\n",
              "      <td>SHOE PALACE</td>\n",
              "      <td>Shoe Store</td>\n",
              "    </tr>\n",
              "    <tr>\n",
              "      <th>4</th>\n",
              "      <td>1</td>\n",
              "      <td>V05</td>\n",
              "      <td>24.858572</td>\n",
              "      <td>46.646492</td>\n",
              "      <td>2022-07-31 13:47:00</td>\n",
              "      <td>Sunday</td>\n",
              "      <td>V06</td>\n",
              "      <td>Starbucks</td>\n",
              "      <td>Coffee Shop</td>\n",
              "    </tr>\n",
              "  </tbody>\n",
              "</table>\n",
              "</div>\n",
              "    <div class=\"colab-df-buttons\">\n",
              "\n",
              "  <div class=\"colab-df-container\">\n",
              "    <button class=\"colab-df-convert\" onclick=\"convertToInteractive('df-6559a751-b413-4860-b9d7-0b2cc5d50c61')\"\n",
              "            title=\"Convert this dataframe to an interactive table.\"\n",
              "            style=\"display:none;\">\n",
              "\n",
              "  <svg xmlns=\"http://www.w3.org/2000/svg\" height=\"24px\" viewBox=\"0 -960 960 960\">\n",
              "    <path d=\"M120-120v-720h720v720H120Zm60-500h600v-160H180v160Zm220 220h160v-160H400v160Zm0 220h160v-160H400v160ZM180-400h160v-160H180v160Zm440 0h160v-160H620v160ZM180-180h160v-160H180v160Zm440 0h160v-160H620v160Z\"/>\n",
              "  </svg>\n",
              "    </button>\n",
              "\n",
              "  <style>\n",
              "    .colab-df-container {\n",
              "      display:flex;\n",
              "      gap: 12px;\n",
              "    }\n",
              "\n",
              "    .colab-df-convert {\n",
              "      background-color: #E8F0FE;\n",
              "      border: none;\n",
              "      border-radius: 50%;\n",
              "      cursor: pointer;\n",
              "      display: none;\n",
              "      fill: #1967D2;\n",
              "      height: 32px;\n",
              "      padding: 0 0 0 0;\n",
              "      width: 32px;\n",
              "    }\n",
              "\n",
              "    .colab-df-convert:hover {\n",
              "      background-color: #E2EBFA;\n",
              "      box-shadow: 0px 1px 2px rgba(60, 64, 67, 0.3), 0px 1px 3px 1px rgba(60, 64, 67, 0.15);\n",
              "      fill: #174EA6;\n",
              "    }\n",
              "\n",
              "    .colab-df-buttons div {\n",
              "      margin-bottom: 4px;\n",
              "    }\n",
              "\n",
              "    [theme=dark] .colab-df-convert {\n",
              "      background-color: #3B4455;\n",
              "      fill: #D2E3FC;\n",
              "    }\n",
              "\n",
              "    [theme=dark] .colab-df-convert:hover {\n",
              "      background-color: #434B5C;\n",
              "      box-shadow: 0px 1px 3px 1px rgba(0, 0, 0, 0.15);\n",
              "      filter: drop-shadow(0px 1px 2px rgba(0, 0, 0, 0.3));\n",
              "      fill: #FFFFFF;\n",
              "    }\n",
              "  </style>\n",
              "\n",
              "    <script>\n",
              "      const buttonEl =\n",
              "        document.querySelector('#df-6559a751-b413-4860-b9d7-0b2cc5d50c61 button.colab-df-convert');\n",
              "      buttonEl.style.display =\n",
              "        google.colab.kernel.accessAllowed ? 'block' : 'none';\n",
              "\n",
              "      async function convertToInteractive(key) {\n",
              "        const element = document.querySelector('#df-6559a751-b413-4860-b9d7-0b2cc5d50c61');\n",
              "        const dataTable =\n",
              "          await google.colab.kernel.invokeFunction('convertToInteractive',\n",
              "                                                    [key], {});\n",
              "        if (!dataTable) return;\n",
              "\n",
              "        const docLinkHtml = 'Like what you see? Visit the ' +\n",
              "          '<a target=\"_blank\" href=https://colab.research.google.com/notebooks/data_table.ipynb>data table notebook</a>'\n",
              "          + ' to learn more about interactive tables.';\n",
              "        element.innerHTML = '';\n",
              "        dataTable['output_type'] = 'display_data';\n",
              "        await google.colab.output.renderOutput(dataTable, element);\n",
              "        const docLink = document.createElement('div');\n",
              "        docLink.innerHTML = docLinkHtml;\n",
              "        element.appendChild(docLink);\n",
              "      }\n",
              "    </script>\n",
              "  </div>\n",
              "\n",
              "\n",
              "<div id=\"df-55c4bd2b-dc42-4a15-b201-453d7c13e153\">\n",
              "  <button class=\"colab-df-quickchart\" onclick=\"quickchart('df-55c4bd2b-dc42-4a15-b201-453d7c13e153')\"\n",
              "            title=\"Suggest charts\"\n",
              "            style=\"display:none;\">\n",
              "\n",
              "<svg xmlns=\"http://www.w3.org/2000/svg\" height=\"24px\"viewBox=\"0 0 24 24\"\n",
              "     width=\"24px\">\n",
              "    <g>\n",
              "        <path d=\"M19 3H5c-1.1 0-2 .9-2 2v14c0 1.1.9 2 2 2h14c1.1 0 2-.9 2-2V5c0-1.1-.9-2-2-2zM9 17H7v-7h2v7zm4 0h-2V7h2v10zm4 0h-2v-4h2v4z\"/>\n",
              "    </g>\n",
              "</svg>\n",
              "  </button>\n",
              "\n",
              "<style>\n",
              "  .colab-df-quickchart {\n",
              "      --bg-color: #E8F0FE;\n",
              "      --fill-color: #1967D2;\n",
              "      --hover-bg-color: #E2EBFA;\n",
              "      --hover-fill-color: #174EA6;\n",
              "      --disabled-fill-color: #AAA;\n",
              "      --disabled-bg-color: #DDD;\n",
              "  }\n",
              "\n",
              "  [theme=dark] .colab-df-quickchart {\n",
              "      --bg-color: #3B4455;\n",
              "      --fill-color: #D2E3FC;\n",
              "      --hover-bg-color: #434B5C;\n",
              "      --hover-fill-color: #FFFFFF;\n",
              "      --disabled-bg-color: #3B4455;\n",
              "      --disabled-fill-color: #666;\n",
              "  }\n",
              "\n",
              "  .colab-df-quickchart {\n",
              "    background-color: var(--bg-color);\n",
              "    border: none;\n",
              "    border-radius: 50%;\n",
              "    cursor: pointer;\n",
              "    display: none;\n",
              "    fill: var(--fill-color);\n",
              "    height: 32px;\n",
              "    padding: 0;\n",
              "    width: 32px;\n",
              "  }\n",
              "\n",
              "  .colab-df-quickchart:hover {\n",
              "    background-color: var(--hover-bg-color);\n",
              "    box-shadow: 0 1px 2px rgba(60, 64, 67, 0.3), 0 1px 3px 1px rgba(60, 64, 67, 0.15);\n",
              "    fill: var(--button-hover-fill-color);\n",
              "  }\n",
              "\n",
              "  .colab-df-quickchart-complete:disabled,\n",
              "  .colab-df-quickchart-complete:disabled:hover {\n",
              "    background-color: var(--disabled-bg-color);\n",
              "    fill: var(--disabled-fill-color);\n",
              "    box-shadow: none;\n",
              "  }\n",
              "\n",
              "  .colab-df-spinner {\n",
              "    border: 2px solid var(--fill-color);\n",
              "    border-color: transparent;\n",
              "    border-bottom-color: var(--fill-color);\n",
              "    animation:\n",
              "      spin 1s steps(1) infinite;\n",
              "  }\n",
              "\n",
              "  @keyframes spin {\n",
              "    0% {\n",
              "      border-color: transparent;\n",
              "      border-bottom-color: var(--fill-color);\n",
              "      border-left-color: var(--fill-color);\n",
              "    }\n",
              "    20% {\n",
              "      border-color: transparent;\n",
              "      border-left-color: var(--fill-color);\n",
              "      border-top-color: var(--fill-color);\n",
              "    }\n",
              "    30% {\n",
              "      border-color: transparent;\n",
              "      border-left-color: var(--fill-color);\n",
              "      border-top-color: var(--fill-color);\n",
              "      border-right-color: var(--fill-color);\n",
              "    }\n",
              "    40% {\n",
              "      border-color: transparent;\n",
              "      border-right-color: var(--fill-color);\n",
              "      border-top-color: var(--fill-color);\n",
              "    }\n",
              "    60% {\n",
              "      border-color: transparent;\n",
              "      border-right-color: var(--fill-color);\n",
              "    }\n",
              "    80% {\n",
              "      border-color: transparent;\n",
              "      border-right-color: var(--fill-color);\n",
              "      border-bottom-color: var(--fill-color);\n",
              "    }\n",
              "    90% {\n",
              "      border-color: transparent;\n",
              "      border-bottom-color: var(--fill-color);\n",
              "    }\n",
              "  }\n",
              "</style>\n",
              "\n",
              "  <script>\n",
              "    async function quickchart(key) {\n",
              "      const quickchartButtonEl =\n",
              "        document.querySelector('#' + key + ' button');\n",
              "      quickchartButtonEl.disabled = true;  // To prevent multiple clicks.\n",
              "      quickchartButtonEl.classList.add('colab-df-spinner');\n",
              "      try {\n",
              "        const charts = await google.colab.kernel.invokeFunction(\n",
              "            'suggestCharts', [key], {});\n",
              "      } catch (error) {\n",
              "        console.error('Error during call to suggestCharts:', error);\n",
              "      }\n",
              "      quickchartButtonEl.classList.remove('colab-df-spinner');\n",
              "      quickchartButtonEl.classList.add('colab-df-quickchart-complete');\n",
              "    }\n",
              "    (() => {\n",
              "      let quickchartButtonEl =\n",
              "        document.querySelector('#df-55c4bd2b-dc42-4a15-b201-453d7c13e153 button');\n",
              "      quickchartButtonEl.style.display =\n",
              "        google.colab.kernel.accessAllowed ? 'block' : 'none';\n",
              "    })();\n",
              "  </script>\n",
              "</div>\n",
              "\n",
              "    </div>\n",
              "  </div>\n"
            ],
            "application/vnd.google.colaboratory.intrinsic+json": {
              "type": "dataframe",
              "variable_name": "df",
              "summary": "{\n  \"name\": \"df\",\n  \"rows\": 987,\n  \"fields\": [\n    {\n      \"column\": \"User ID\",\n      \"properties\": {\n        \"dtype\": \"number\",\n        \"std\": 7,\n        \"min\": 1,\n        \"max\": 23,\n        \"num_unique_values\": 23,\n        \"samples\": [\n          16,\n          10,\n          1\n        ],\n        \"semantic_type\": \"\",\n        \"description\": \"\"\n      }\n    },\n    {\n      \"column\": \"Venue ID\",\n      \"properties\": {\n        \"dtype\": \"string\",\n        \"num_unique_values\": 587,\n        \"samples\": [\n          \"V528\",\n          \"V292\",\n          \"V520\"\n        ],\n        \"semantic_type\": \"\",\n        \"description\": \"\"\n      }\n    },\n    {\n      \"column\": \"Latitude\",\n      \"properties\": {\n        \"dtype\": \"number\",\n        \"std\": 2.2050378225120277,\n        \"min\": 18.238822,\n        \"max\": 46.818889,\n        \"num_unique_values\": 530,\n        \"samples\": [\n          24.743139,\n          24.710611,\n          24.888484\n        ],\n        \"semantic_type\": \"\",\n        \"description\": \"\"\n      }\n    },\n    {\n      \"column\": \"Longitude\",\n      \"properties\": {\n        \"dtype\": \"number\",\n        \"std\": 2.191730084762503,\n        \"min\": 24.783306,\n        \"max\": 46.854944,\n        \"num_unique_values\": 536,\n        \"samples\": [\n          46.70675,\n          46.57775,\n          46.67259\n        ],\n        \"semantic_type\": \"\",\n        \"description\": \"\"\n      }\n    },\n    {\n      \"column\": \"Check-in Time\",\n      \"properties\": {\n        \"dtype\": \"date\",\n        \"min\": \"2020-12-20 21:41:00\",\n        \"max\": \"2025-01-28 22:57:00\",\n        \"num_unique_values\": 983,\n        \"samples\": [\n          \"2024-08-26 22:03:00\",\n          \"2025-01-28 21:18:00\",\n          \"2024-08-31 18:39:00\"\n        ],\n        \"semantic_type\": \"\",\n        \"description\": \"\"\n      }\n    },\n    {\n      \"column\": \"Day\",\n      \"properties\": {\n        \"dtype\": \"category\",\n        \"num_unique_values\": 7,\n        \"samples\": [\n          \"Wednesday\",\n          \"Monday\",\n          \"Thursday\"\n        ],\n        \"semantic_type\": \"\",\n        \"description\": \"\"\n      }\n    },\n    {\n      \"column\": \"Previous Venue ID\",\n      \"properties\": {\n        \"dtype\": \"string\",\n        \"num_unique_values\": 559,\n        \"samples\": [\n          \"V180\",\n          \"V487\",\n          \"V60\"\n        ],\n        \"semantic_type\": \"\",\n        \"description\": \"\"\n      }\n    },\n    {\n      \"column\": \"Venue Name\",\n      \"properties\": {\n        \"dtype\": \"string\",\n        \"num_unique_values\": 508,\n        \"samples\": [\n          \"\\u0634\\u0627\\u0647\\u064a \\u0644\\u0645\\u0629\",\n          \"Secret Garden\",\n          \"COBEE Coffee\"\n        ],\n        \"semantic_type\": \"\",\n        \"description\": \"\"\n      }\n    },\n    {\n      \"column\": \"Venue Category\",\n      \"properties\": {\n        \"dtype\": \"category\",\n        \"num_unique_values\": 137,\n        \"samples\": [\n          \"Health Food Store\",\n          \"Mexican Restaurant\",\n          \"Country Park\"\n        ],\n        \"semantic_type\": \"\",\n        \"description\": \"\"\n      }\n    }\n  ]\n}"
            }
          },
          "metadata": {},
          "execution_count": 13
        }
      ]
    },
    {
      "cell_type": "markdown",
      "source": [
        "## Step 4: Remove Duplicate Rows\n",
        "### 4.1 Check for duplicate rows.\n"
      ],
      "metadata": {
        "id": "1ads4Fetcjlk"
      }
    },
    {
      "cell_type": "code",
      "source": [
        "# Check for duplicate rows\n",
        "duplicates = df.duplicated().sum()\n",
        "print(f\"Number of duplicate rows: {duplicates}\")"
      ],
      "metadata": {
        "colab": {
          "base_uri": "https://localhost:8080/"
        },
        "id": "cgEFL7Trb48A",
        "outputId": "2e570bd8-fd27-457a-ee75-b46be70fcc54"
      },
      "execution_count": null,
      "outputs": [
        {
          "output_type": "stream",
          "name": "stdout",
          "text": [
            "Number of duplicate rows: 0\n"
          ]
        }
      ]
    },
    {
      "cell_type": "markdown",
      "source": [
        "### 4.2 Remove any duplicate rows (if any).\n"
      ],
      "metadata": {
        "id": "wKtkvtv-mvRr"
      }
    },
    {
      "cell_type": "code",
      "source": [
        "# Remove duplicate rows\n",
        "df = df.drop_duplicates()\n",
        "\n",
        "# Verify that duplicates have been removed\n",
        "duplicates_after = df.duplicated().sum()\n",
        "print(f\"Number of duplicate rows after removal: {duplicates_after}\")"
      ],
      "metadata": {
        "colab": {
          "base_uri": "https://localhost:8080/"
        },
        "id": "uZJIyjxomvpu",
        "outputId": "800b93e1-78b0-4484-809d-c34452fb6e12"
      },
      "execution_count": null,
      "outputs": [
        {
          "output_type": "stream",
          "name": "stdout",
          "text": [
            "Number of duplicate rows after removal: 0\n"
          ]
        }
      ]
    },
    {
      "cell_type": "markdown",
      "source": [
        "## Step 5: Order the Dataset by User ID\n",
        "### 5.1 Order the rows by User ID.\n"
      ],
      "metadata": {
        "id": "7UmZbk_1YU5a"
      }
    },
    {
      "cell_type": "code",
      "source": [
        "# Order the dataset by User ID\n",
        "df = df.sort_values(by=['User ID', 'Check-in Time'])\n",
        "\n",
        "# Reset the index after sorting\n",
        "df = df.reset_index(drop=True)\n",
        "\n",
        "# Verify the ordering\n",
        "df.head(50)"
      ],
      "metadata": {
        "colab": {
          "base_uri": "https://localhost:8080/",
          "height": 1000
        },
        "id": "dNR1cOhHYYy_",
        "outputId": "a8d5e108-9b68-48d3-b637-c63b25c393e9"
      },
      "execution_count": null,
      "outputs": [
        {
          "output_type": "execute_result",
          "data": {
            "text/plain": [
              "    User ID Venue ID   Latitude  Longitude       Check-in Time        Day  \\\n",
              "0         1     V231  24.767113  46.659294 2021-01-05 22:31:00    Tuesday   \n",
              "1         1      V67  24.772194  46.698083 2021-01-05 23:52:00    Tuesday   \n",
              "2         1     V232  24.790579  46.612207 2021-01-06 23:59:00  Wednesday   \n",
              "3         1     V233  24.760748  46.716174 2021-01-09 20:12:00   Saturday   \n",
              "4         1     V234  24.741122  46.636161 2021-01-27 11:39:00  Wednesday   \n",
              "5         1     V233  24.760748  46.716174 2021-01-27 15:16:00  Wednesday   \n",
              "6         1     V108  24.739278  46.627694 2021-01-27 16:38:00  Wednesday   \n",
              "7         1     V235  24.736002  46.631105 2021-03-25 22:51:00   Thursday   \n",
              "8         1     V214  24.663909  46.683211 2021-04-18 00:04:00     Sunday   \n",
              "9         1     V215  24.765366  46.641621 2021-04-18 00:52:00     Sunday   \n",
              "10        1     V216  24.759619  46.639500 2021-04-18 01:09:00     Sunday   \n",
              "11        1     V217  24.730288  46.590478 2021-05-16 23:37:00     Sunday   \n",
              "12        1     V204  24.690694  46.684528 2021-05-17 00:04:00     Monday   \n",
              "13        1     V218  24.707578  46.708657 2021-06-15 22:07:00    Tuesday   \n",
              "14        1     V219  24.721270  46.656313 2021-08-02 20:40:00     Monday   \n",
              "15        1     V220  24.804064  46.674060 2021-09-15 23:35:00  Wednesday   \n",
              "16        1     V221  24.795269  46.655149 2021-10-27 21:11:00  Wednesday   \n",
              "17        1     V173  24.690222  46.685028 2021-11-01 18:02:00     Monday   \n",
              "18        1     V222  24.689708  46.684999 2021-11-01 18:45:00     Monday   \n",
              "19        1     V223  18.238822  42.581651 2021-12-08 20:45:00  Wednesday   \n",
              "20        1     V224  24.765479  46.603982 2022-01-07 22:04:00     Friday   \n",
              "21        1     V225  24.704074  46.706258 2022-01-31 20:40:00     Monday   \n",
              "22        1     V226  24.835229  46.729585 2022-02-01 14:33:00    Tuesday   \n",
              "23        1     V227  24.791020  46.611071 2022-02-03 17:46:00   Thursday   \n",
              "24        1     V228  24.816879  46.665885 2022-02-16 19:54:00  Wednesday   \n",
              "25        1     V229  24.750282  46.623683 2022-03-17 21:12:00   Thursday   \n",
              "26        1     V230  24.738741  46.635276 2022-03-30 10:01:00  Wednesday   \n",
              "27        1      V08  24.851020  46.673805 2022-05-09 08:15:00     Monday   \n",
              "28        1      V08  24.851020  46.673805 2022-05-12 08:24:00     Friday   \n",
              "29        1      V08  24.851020  46.673805 2022-05-23 07:11:00     Monday   \n",
              "30        1      V07  24.888484  46.618860 2022-06-04 19:46:00   Saturday   \n",
              "31        1      V06  24.958437  46.702795 2022-07-30 11:59:00   Saturday   \n",
              "32        1      V05  24.858572  46.646492 2022-07-31 13:47:00     Sunday   \n",
              "33        1      V03  24.722389  46.678917 2022-08-01 20:39:00     Monday   \n",
              "34        1      V04  24.713180  46.675823 2022-08-01 21:39:00     Monday   \n",
              "35        1      V01  24.693367  46.598449 2024-09-11 20:18:00  Wednesday   \n",
              "36        1      V02  24.733212  46.645169 2024-09-11 20:42:00  Wednesday   \n",
              "37        2      V60  24.664490  46.644720 2022-07-11 12:47:00     Monday   \n",
              "38        2      V09  24.778083  46.662694 2022-08-29 20:07:00     Monday   \n",
              "39        2      V11  24.726230  46.652404 2022-09-14 00:00:00  Wednesday   \n",
              "40        2      V12  24.757000  46.607444 2022-09-15 23:45:00   Thursday   \n",
              "41        2      V09  24.778083  46.662694 2022-09-25 13:03:00     Sunday   \n",
              "42        2      V14  24.793015  46.649209 2022-09-26 21:16:00     Monday   \n",
              "43        2      V09  24.778083  46.662694 2022-09-28 08:31:00  Wednesday   \n",
              "44        2      V15  24.695139  46.684694 2022-10-19 08:30:00  Wednesday   \n",
              "45        2      V16  24.675198  46.625123 2022-10-29 21:50:00  Wednesday   \n",
              "46        2      V61  24.693167  46.632194 2022-12-15 20:21:00   Thursday   \n",
              "47        2      V12  24.757000  46.607444 2022-12-15 22:16:00   Thursday   \n",
              "48        2      V63  24.731833  46.648000 2022-12-24 14:11:00   Saturday   \n",
              "49        2      V64  24.940833  46.713500 2023-01-08 10:36:00     Sunday   \n",
              "\n",
              "   Previous Venue ID                         Venue Name  \\\n",
              "0               None                         Margherita   \n",
              "1               V231                          Riverwalk   \n",
              "2                V67                        AMC Cinemas   \n",
              "3               V232                         Third Café   \n",
              "4               V233                     Caribou Coffee   \n",
              "5               V234                         Third Café   \n",
              "6               V233                             U Walk   \n",
              "7               V108                        Kahwet Azmi   \n",
              "8               None                          Starbucks   \n",
              "9               V214   King Abdullah Financial District   \n",
              "10              V215                      SALT Campsite   \n",
              "11              V216                              Eclat   \n",
              "12              V217                                LPM   \n",
              "13              V204                               Toqa   \n",
              "14              V218                          TOLAT ETR   \n",
              "15              V219                              RATIO   \n",
              "16              V220                   The Library Club   \n",
              "17              V221            Entrecote Cafe de Paris   \n",
              "18              V173                  Mamo Michelangelo   \n",
              "19              V222                       DOUGH SOURCE   \n",
              "20              V223                        TOQA COFFEE   \n",
              "21              V224                        Billionaire   \n",
              "22              V225                             LEAP22   \n",
              "23              V226                    Burger Boutique   \n",
              "24              V227                            Richoux   \n",
              "25              V228                        Blue Garden   \n",
              "26              V229                       CROWNE PLAZA   \n",
              "27              None                          Starbucks   \n",
              "28               V08                          Starbucks   \n",
              "29               V08                          Starbucks   \n",
              "30               V08                             Veloce   \n",
              "31               V07  King Khalid International Airport   \n",
              "32               V06                          Starbucks   \n",
              "33               V05                             Shazin   \n",
              "34               V03                        SHOE PALACE   \n",
              "35              None               BELMONT Coffee House   \n",
              "36               V01                            KHOLASA   \n",
              "37               V16                          Al Diwann   \n",
              "38              None                          Ghandoura   \n",
              "39               V10                      Shadow Lounge   \n",
              "40               V11                       Monkey House   \n",
              "41               V13                          Ghandoura   \n",
              "42               V09                             Flame    \n",
              "43               V14                          Ghandoura   \n",
              "44               V09                             Bossco   \n",
              "45               V15                        Crazy Pizza   \n",
              "46               V60               North Audley Cantine   \n",
              "47               V61                       Monkey House   \n",
              "48               V62                            Arabica   \n",
              "49               V63                King Khalid Airport   \n",
              "\n",
              "               Venue Category  \n",
              "0          Italian Restaurant  \n",
              "1                       Plaza  \n",
              "2               Movie Theater  \n",
              "3                 Coffee Shop  \n",
              "4                 Coffee Shop  \n",
              "5                 Coffee Shop  \n",
              "6                       Plaza  \n",
              "7         Lebanese Restaurant  \n",
              "8                 Coffee Shop  \n",
              "9             Business Center  \n",
              "10               Burger Joint  \n",
              "11                Coffee Shop  \n",
              "12         French Restaurant   \n",
              "13                Coffee Shop  \n",
              "14              Perfume Store  \n",
              "15                Coffee Shop  \n",
              "16                Social Club  \n",
              "17           Swiss Restaurant  \n",
              "18         Italian Restaurant  \n",
              "19                 Restaurant  \n",
              "20                Coffee Shop  \n",
              "21         Italian Restaurant  \n",
              "22                 Convention  \n",
              "23               Burger Joint  \n",
              "24         English Restaurant  \n",
              "25        Lebanese Restaurant  \n",
              "26                      Hotel  \n",
              "27                Coffee Shop  \n",
              "28                Coffee Shop  \n",
              "29                Coffee Shop  \n",
              "30                Coffee Shop  \n",
              "31      International Airport  \n",
              "32                Coffee Shop  \n",
              "33        Miscellaneous Store  \n",
              "34                 Shoe Store  \n",
              "35                Coffee Shop  \n",
              "36                Coffee Shop  \n",
              "37        Government Building  \n",
              "38                Coffee Shop  \n",
              "39                     Lounge  \n",
              "40  Latin American Restaurant  \n",
              "41                Coffee Shop  \n",
              "42                Coffee Shop  \n",
              "43                Coffee Shop  \n",
              "44                Coffee Shop  \n",
              "45         Italian Restaurant  \n",
              "46          French Restaurant  \n",
              "47  Latin American Restaurant  \n",
              "48                Coffee Shop  \n",
              "49              Travel Lounge  "
            ],
            "text/html": [
              "\n",
              "  <div id=\"df-3f7925c8-c2fa-418c-b2e7-1acc0dd3b6af\" class=\"colab-df-container\">\n",
              "    <div>\n",
              "<style scoped>\n",
              "    .dataframe tbody tr th:only-of-type {\n",
              "        vertical-align: middle;\n",
              "    }\n",
              "\n",
              "    .dataframe tbody tr th {\n",
              "        vertical-align: top;\n",
              "    }\n",
              "\n",
              "    .dataframe thead th {\n",
              "        text-align: right;\n",
              "    }\n",
              "</style>\n",
              "<table border=\"1\" class=\"dataframe\">\n",
              "  <thead>\n",
              "    <tr style=\"text-align: right;\">\n",
              "      <th></th>\n",
              "      <th>User ID</th>\n",
              "      <th>Venue ID</th>\n",
              "      <th>Latitude</th>\n",
              "      <th>Longitude</th>\n",
              "      <th>Check-in Time</th>\n",
              "      <th>Day</th>\n",
              "      <th>Previous Venue ID</th>\n",
              "      <th>Venue Name</th>\n",
              "      <th>Venue Category</th>\n",
              "    </tr>\n",
              "  </thead>\n",
              "  <tbody>\n",
              "    <tr>\n",
              "      <th>0</th>\n",
              "      <td>1</td>\n",
              "      <td>V231</td>\n",
              "      <td>24.767113</td>\n",
              "      <td>46.659294</td>\n",
              "      <td>2021-01-05 22:31:00</td>\n",
              "      <td>Tuesday</td>\n",
              "      <td>None</td>\n",
              "      <td>Margherita</td>\n",
              "      <td>Italian Restaurant</td>\n",
              "    </tr>\n",
              "    <tr>\n",
              "      <th>1</th>\n",
              "      <td>1</td>\n",
              "      <td>V67</td>\n",
              "      <td>24.772194</td>\n",
              "      <td>46.698083</td>\n",
              "      <td>2021-01-05 23:52:00</td>\n",
              "      <td>Tuesday</td>\n",
              "      <td>V231</td>\n",
              "      <td>Riverwalk</td>\n",
              "      <td>Plaza</td>\n",
              "    </tr>\n",
              "    <tr>\n",
              "      <th>2</th>\n",
              "      <td>1</td>\n",
              "      <td>V232</td>\n",
              "      <td>24.790579</td>\n",
              "      <td>46.612207</td>\n",
              "      <td>2021-01-06 23:59:00</td>\n",
              "      <td>Wednesday</td>\n",
              "      <td>V67</td>\n",
              "      <td>AMC Cinemas</td>\n",
              "      <td>Movie Theater</td>\n",
              "    </tr>\n",
              "    <tr>\n",
              "      <th>3</th>\n",
              "      <td>1</td>\n",
              "      <td>V233</td>\n",
              "      <td>24.760748</td>\n",
              "      <td>46.716174</td>\n",
              "      <td>2021-01-09 20:12:00</td>\n",
              "      <td>Saturday</td>\n",
              "      <td>V232</td>\n",
              "      <td>Third Café</td>\n",
              "      <td>Coffee Shop</td>\n",
              "    </tr>\n",
              "    <tr>\n",
              "      <th>4</th>\n",
              "      <td>1</td>\n",
              "      <td>V234</td>\n",
              "      <td>24.741122</td>\n",
              "      <td>46.636161</td>\n",
              "      <td>2021-01-27 11:39:00</td>\n",
              "      <td>Wednesday</td>\n",
              "      <td>V233</td>\n",
              "      <td>Caribou Coffee</td>\n",
              "      <td>Coffee Shop</td>\n",
              "    </tr>\n",
              "    <tr>\n",
              "      <th>5</th>\n",
              "      <td>1</td>\n",
              "      <td>V233</td>\n",
              "      <td>24.760748</td>\n",
              "      <td>46.716174</td>\n",
              "      <td>2021-01-27 15:16:00</td>\n",
              "      <td>Wednesday</td>\n",
              "      <td>V234</td>\n",
              "      <td>Third Café</td>\n",
              "      <td>Coffee Shop</td>\n",
              "    </tr>\n",
              "    <tr>\n",
              "      <th>6</th>\n",
              "      <td>1</td>\n",
              "      <td>V108</td>\n",
              "      <td>24.739278</td>\n",
              "      <td>46.627694</td>\n",
              "      <td>2021-01-27 16:38:00</td>\n",
              "      <td>Wednesday</td>\n",
              "      <td>V233</td>\n",
              "      <td>U Walk</td>\n",
              "      <td>Plaza</td>\n",
              "    </tr>\n",
              "    <tr>\n",
              "      <th>7</th>\n",
              "      <td>1</td>\n",
              "      <td>V235</td>\n",
              "      <td>24.736002</td>\n",
              "      <td>46.631105</td>\n",
              "      <td>2021-03-25 22:51:00</td>\n",
              "      <td>Thursday</td>\n",
              "      <td>V108</td>\n",
              "      <td>Kahwet Azmi</td>\n",
              "      <td>Lebanese Restaurant</td>\n",
              "    </tr>\n",
              "    <tr>\n",
              "      <th>8</th>\n",
              "      <td>1</td>\n",
              "      <td>V214</td>\n",
              "      <td>24.663909</td>\n",
              "      <td>46.683211</td>\n",
              "      <td>2021-04-18 00:04:00</td>\n",
              "      <td>Sunday</td>\n",
              "      <td>None</td>\n",
              "      <td>Starbucks</td>\n",
              "      <td>Coffee Shop</td>\n",
              "    </tr>\n",
              "    <tr>\n",
              "      <th>9</th>\n",
              "      <td>1</td>\n",
              "      <td>V215</td>\n",
              "      <td>24.765366</td>\n",
              "      <td>46.641621</td>\n",
              "      <td>2021-04-18 00:52:00</td>\n",
              "      <td>Sunday</td>\n",
              "      <td>V214</td>\n",
              "      <td>King Abdullah Financial District</td>\n",
              "      <td>Business Center</td>\n",
              "    </tr>\n",
              "    <tr>\n",
              "      <th>10</th>\n",
              "      <td>1</td>\n",
              "      <td>V216</td>\n",
              "      <td>24.759619</td>\n",
              "      <td>46.639500</td>\n",
              "      <td>2021-04-18 01:09:00</td>\n",
              "      <td>Sunday</td>\n",
              "      <td>V215</td>\n",
              "      <td>SALT Campsite</td>\n",
              "      <td>Burger Joint</td>\n",
              "    </tr>\n",
              "    <tr>\n",
              "      <th>11</th>\n",
              "      <td>1</td>\n",
              "      <td>V217</td>\n",
              "      <td>24.730288</td>\n",
              "      <td>46.590478</td>\n",
              "      <td>2021-05-16 23:37:00</td>\n",
              "      <td>Sunday</td>\n",
              "      <td>V216</td>\n",
              "      <td>Eclat</td>\n",
              "      <td>Coffee Shop</td>\n",
              "    </tr>\n",
              "    <tr>\n",
              "      <th>12</th>\n",
              "      <td>1</td>\n",
              "      <td>V204</td>\n",
              "      <td>24.690694</td>\n",
              "      <td>46.684528</td>\n",
              "      <td>2021-05-17 00:04:00</td>\n",
              "      <td>Monday</td>\n",
              "      <td>V217</td>\n",
              "      <td>LPM</td>\n",
              "      <td>French Restaurant</td>\n",
              "    </tr>\n",
              "    <tr>\n",
              "      <th>13</th>\n",
              "      <td>1</td>\n",
              "      <td>V218</td>\n",
              "      <td>24.707578</td>\n",
              "      <td>46.708657</td>\n",
              "      <td>2021-06-15 22:07:00</td>\n",
              "      <td>Tuesday</td>\n",
              "      <td>V204</td>\n",
              "      <td>Toqa</td>\n",
              "      <td>Coffee Shop</td>\n",
              "    </tr>\n",
              "    <tr>\n",
              "      <th>14</th>\n",
              "      <td>1</td>\n",
              "      <td>V219</td>\n",
              "      <td>24.721270</td>\n",
              "      <td>46.656313</td>\n",
              "      <td>2021-08-02 20:40:00</td>\n",
              "      <td>Monday</td>\n",
              "      <td>V218</td>\n",
              "      <td>TOLAT ETR</td>\n",
              "      <td>Perfume Store</td>\n",
              "    </tr>\n",
              "    <tr>\n",
              "      <th>15</th>\n",
              "      <td>1</td>\n",
              "      <td>V220</td>\n",
              "      <td>24.804064</td>\n",
              "      <td>46.674060</td>\n",
              "      <td>2021-09-15 23:35:00</td>\n",
              "      <td>Wednesday</td>\n",
              "      <td>V219</td>\n",
              "      <td>RATIO</td>\n",
              "      <td>Coffee Shop</td>\n",
              "    </tr>\n",
              "    <tr>\n",
              "      <th>16</th>\n",
              "      <td>1</td>\n",
              "      <td>V221</td>\n",
              "      <td>24.795269</td>\n",
              "      <td>46.655149</td>\n",
              "      <td>2021-10-27 21:11:00</td>\n",
              "      <td>Wednesday</td>\n",
              "      <td>V220</td>\n",
              "      <td>The Library Club</td>\n",
              "      <td>Social Club</td>\n",
              "    </tr>\n",
              "    <tr>\n",
              "      <th>17</th>\n",
              "      <td>1</td>\n",
              "      <td>V173</td>\n",
              "      <td>24.690222</td>\n",
              "      <td>46.685028</td>\n",
              "      <td>2021-11-01 18:02:00</td>\n",
              "      <td>Monday</td>\n",
              "      <td>V221</td>\n",
              "      <td>Entrecote Cafe de Paris</td>\n",
              "      <td>Swiss Restaurant</td>\n",
              "    </tr>\n",
              "    <tr>\n",
              "      <th>18</th>\n",
              "      <td>1</td>\n",
              "      <td>V222</td>\n",
              "      <td>24.689708</td>\n",
              "      <td>46.684999</td>\n",
              "      <td>2021-11-01 18:45:00</td>\n",
              "      <td>Monday</td>\n",
              "      <td>V173</td>\n",
              "      <td>Mamo Michelangelo</td>\n",
              "      <td>Italian Restaurant</td>\n",
              "    </tr>\n",
              "    <tr>\n",
              "      <th>19</th>\n",
              "      <td>1</td>\n",
              "      <td>V223</td>\n",
              "      <td>18.238822</td>\n",
              "      <td>42.581651</td>\n",
              "      <td>2021-12-08 20:45:00</td>\n",
              "      <td>Wednesday</td>\n",
              "      <td>V222</td>\n",
              "      <td>DOUGH SOURCE</td>\n",
              "      <td>Restaurant</td>\n",
              "    </tr>\n",
              "    <tr>\n",
              "      <th>20</th>\n",
              "      <td>1</td>\n",
              "      <td>V224</td>\n",
              "      <td>24.765479</td>\n",
              "      <td>46.603982</td>\n",
              "      <td>2022-01-07 22:04:00</td>\n",
              "      <td>Friday</td>\n",
              "      <td>V223</td>\n",
              "      <td>TOQA COFFEE</td>\n",
              "      <td>Coffee Shop</td>\n",
              "    </tr>\n",
              "    <tr>\n",
              "      <th>21</th>\n",
              "      <td>1</td>\n",
              "      <td>V225</td>\n",
              "      <td>24.704074</td>\n",
              "      <td>46.706258</td>\n",
              "      <td>2022-01-31 20:40:00</td>\n",
              "      <td>Monday</td>\n",
              "      <td>V224</td>\n",
              "      <td>Billionaire</td>\n",
              "      <td>Italian Restaurant</td>\n",
              "    </tr>\n",
              "    <tr>\n",
              "      <th>22</th>\n",
              "      <td>1</td>\n",
              "      <td>V226</td>\n",
              "      <td>24.835229</td>\n",
              "      <td>46.729585</td>\n",
              "      <td>2022-02-01 14:33:00</td>\n",
              "      <td>Tuesday</td>\n",
              "      <td>V225</td>\n",
              "      <td>LEAP22</td>\n",
              "      <td>Convention</td>\n",
              "    </tr>\n",
              "    <tr>\n",
              "      <th>23</th>\n",
              "      <td>1</td>\n",
              "      <td>V227</td>\n",
              "      <td>24.791020</td>\n",
              "      <td>46.611071</td>\n",
              "      <td>2022-02-03 17:46:00</td>\n",
              "      <td>Thursday</td>\n",
              "      <td>V226</td>\n",
              "      <td>Burger Boutique</td>\n",
              "      <td>Burger Joint</td>\n",
              "    </tr>\n",
              "    <tr>\n",
              "      <th>24</th>\n",
              "      <td>1</td>\n",
              "      <td>V228</td>\n",
              "      <td>24.816879</td>\n",
              "      <td>46.665885</td>\n",
              "      <td>2022-02-16 19:54:00</td>\n",
              "      <td>Wednesday</td>\n",
              "      <td>V227</td>\n",
              "      <td>Richoux</td>\n",
              "      <td>English Restaurant</td>\n",
              "    </tr>\n",
              "    <tr>\n",
              "      <th>25</th>\n",
              "      <td>1</td>\n",
              "      <td>V229</td>\n",
              "      <td>24.750282</td>\n",
              "      <td>46.623683</td>\n",
              "      <td>2022-03-17 21:12:00</td>\n",
              "      <td>Thursday</td>\n",
              "      <td>V228</td>\n",
              "      <td>Blue Garden</td>\n",
              "      <td>Lebanese Restaurant</td>\n",
              "    </tr>\n",
              "    <tr>\n",
              "      <th>26</th>\n",
              "      <td>1</td>\n",
              "      <td>V230</td>\n",
              "      <td>24.738741</td>\n",
              "      <td>46.635276</td>\n",
              "      <td>2022-03-30 10:01:00</td>\n",
              "      <td>Wednesday</td>\n",
              "      <td>V229</td>\n",
              "      <td>CROWNE PLAZA</td>\n",
              "      <td>Hotel</td>\n",
              "    </tr>\n",
              "    <tr>\n",
              "      <th>27</th>\n",
              "      <td>1</td>\n",
              "      <td>V08</td>\n",
              "      <td>24.851020</td>\n",
              "      <td>46.673805</td>\n",
              "      <td>2022-05-09 08:15:00</td>\n",
              "      <td>Monday</td>\n",
              "      <td>None</td>\n",
              "      <td>Starbucks</td>\n",
              "      <td>Coffee Shop</td>\n",
              "    </tr>\n",
              "    <tr>\n",
              "      <th>28</th>\n",
              "      <td>1</td>\n",
              "      <td>V08</td>\n",
              "      <td>24.851020</td>\n",
              "      <td>46.673805</td>\n",
              "      <td>2022-05-12 08:24:00</td>\n",
              "      <td>Friday</td>\n",
              "      <td>V08</td>\n",
              "      <td>Starbucks</td>\n",
              "      <td>Coffee Shop</td>\n",
              "    </tr>\n",
              "    <tr>\n",
              "      <th>29</th>\n",
              "      <td>1</td>\n",
              "      <td>V08</td>\n",
              "      <td>24.851020</td>\n",
              "      <td>46.673805</td>\n",
              "      <td>2022-05-23 07:11:00</td>\n",
              "      <td>Monday</td>\n",
              "      <td>V08</td>\n",
              "      <td>Starbucks</td>\n",
              "      <td>Coffee Shop</td>\n",
              "    </tr>\n",
              "    <tr>\n",
              "      <th>30</th>\n",
              "      <td>1</td>\n",
              "      <td>V07</td>\n",
              "      <td>24.888484</td>\n",
              "      <td>46.618860</td>\n",
              "      <td>2022-06-04 19:46:00</td>\n",
              "      <td>Saturday</td>\n",
              "      <td>V08</td>\n",
              "      <td>Veloce</td>\n",
              "      <td>Coffee Shop</td>\n",
              "    </tr>\n",
              "    <tr>\n",
              "      <th>31</th>\n",
              "      <td>1</td>\n",
              "      <td>V06</td>\n",
              "      <td>24.958437</td>\n",
              "      <td>46.702795</td>\n",
              "      <td>2022-07-30 11:59:00</td>\n",
              "      <td>Saturday</td>\n",
              "      <td>V07</td>\n",
              "      <td>King Khalid International Airport</td>\n",
              "      <td>International Airport</td>\n",
              "    </tr>\n",
              "    <tr>\n",
              "      <th>32</th>\n",
              "      <td>1</td>\n",
              "      <td>V05</td>\n",
              "      <td>24.858572</td>\n",
              "      <td>46.646492</td>\n",
              "      <td>2022-07-31 13:47:00</td>\n",
              "      <td>Sunday</td>\n",
              "      <td>V06</td>\n",
              "      <td>Starbucks</td>\n",
              "      <td>Coffee Shop</td>\n",
              "    </tr>\n",
              "    <tr>\n",
              "      <th>33</th>\n",
              "      <td>1</td>\n",
              "      <td>V03</td>\n",
              "      <td>24.722389</td>\n",
              "      <td>46.678917</td>\n",
              "      <td>2022-08-01 20:39:00</td>\n",
              "      <td>Monday</td>\n",
              "      <td>V05</td>\n",
              "      <td>Shazin</td>\n",
              "      <td>Miscellaneous Store</td>\n",
              "    </tr>\n",
              "    <tr>\n",
              "      <th>34</th>\n",
              "      <td>1</td>\n",
              "      <td>V04</td>\n",
              "      <td>24.713180</td>\n",
              "      <td>46.675823</td>\n",
              "      <td>2022-08-01 21:39:00</td>\n",
              "      <td>Monday</td>\n",
              "      <td>V03</td>\n",
              "      <td>SHOE PALACE</td>\n",
              "      <td>Shoe Store</td>\n",
              "    </tr>\n",
              "    <tr>\n",
              "      <th>35</th>\n",
              "      <td>1</td>\n",
              "      <td>V01</td>\n",
              "      <td>24.693367</td>\n",
              "      <td>46.598449</td>\n",
              "      <td>2024-09-11 20:18:00</td>\n",
              "      <td>Wednesday</td>\n",
              "      <td>None</td>\n",
              "      <td>BELMONT Coffee House</td>\n",
              "      <td>Coffee Shop</td>\n",
              "    </tr>\n",
              "    <tr>\n",
              "      <th>36</th>\n",
              "      <td>1</td>\n",
              "      <td>V02</td>\n",
              "      <td>24.733212</td>\n",
              "      <td>46.645169</td>\n",
              "      <td>2024-09-11 20:42:00</td>\n",
              "      <td>Wednesday</td>\n",
              "      <td>V01</td>\n",
              "      <td>KHOLASA</td>\n",
              "      <td>Coffee Shop</td>\n",
              "    </tr>\n",
              "    <tr>\n",
              "      <th>37</th>\n",
              "      <td>2</td>\n",
              "      <td>V60</td>\n",
              "      <td>24.664490</td>\n",
              "      <td>46.644720</td>\n",
              "      <td>2022-07-11 12:47:00</td>\n",
              "      <td>Monday</td>\n",
              "      <td>V16</td>\n",
              "      <td>Al Diwann</td>\n",
              "      <td>Government Building</td>\n",
              "    </tr>\n",
              "    <tr>\n",
              "      <th>38</th>\n",
              "      <td>2</td>\n",
              "      <td>V09</td>\n",
              "      <td>24.778083</td>\n",
              "      <td>46.662694</td>\n",
              "      <td>2022-08-29 20:07:00</td>\n",
              "      <td>Monday</td>\n",
              "      <td>None</td>\n",
              "      <td>Ghandoura</td>\n",
              "      <td>Coffee Shop</td>\n",
              "    </tr>\n",
              "    <tr>\n",
              "      <th>39</th>\n",
              "      <td>2</td>\n",
              "      <td>V11</td>\n",
              "      <td>24.726230</td>\n",
              "      <td>46.652404</td>\n",
              "      <td>2022-09-14 00:00:00</td>\n",
              "      <td>Wednesday</td>\n",
              "      <td>V10</td>\n",
              "      <td>Shadow Lounge</td>\n",
              "      <td>Lounge</td>\n",
              "    </tr>\n",
              "    <tr>\n",
              "      <th>40</th>\n",
              "      <td>2</td>\n",
              "      <td>V12</td>\n",
              "      <td>24.757000</td>\n",
              "      <td>46.607444</td>\n",
              "      <td>2022-09-15 23:45:00</td>\n",
              "      <td>Thursday</td>\n",
              "      <td>V11</td>\n",
              "      <td>Monkey House</td>\n",
              "      <td>Latin American Restaurant</td>\n",
              "    </tr>\n",
              "    <tr>\n",
              "      <th>41</th>\n",
              "      <td>2</td>\n",
              "      <td>V09</td>\n",
              "      <td>24.778083</td>\n",
              "      <td>46.662694</td>\n",
              "      <td>2022-09-25 13:03:00</td>\n",
              "      <td>Sunday</td>\n",
              "      <td>V13</td>\n",
              "      <td>Ghandoura</td>\n",
              "      <td>Coffee Shop</td>\n",
              "    </tr>\n",
              "    <tr>\n",
              "      <th>42</th>\n",
              "      <td>2</td>\n",
              "      <td>V14</td>\n",
              "      <td>24.793015</td>\n",
              "      <td>46.649209</td>\n",
              "      <td>2022-09-26 21:16:00</td>\n",
              "      <td>Monday</td>\n",
              "      <td>V09</td>\n",
              "      <td>Flame</td>\n",
              "      <td>Coffee Shop</td>\n",
              "    </tr>\n",
              "    <tr>\n",
              "      <th>43</th>\n",
              "      <td>2</td>\n",
              "      <td>V09</td>\n",
              "      <td>24.778083</td>\n",
              "      <td>46.662694</td>\n",
              "      <td>2022-09-28 08:31:00</td>\n",
              "      <td>Wednesday</td>\n",
              "      <td>V14</td>\n",
              "      <td>Ghandoura</td>\n",
              "      <td>Coffee Shop</td>\n",
              "    </tr>\n",
              "    <tr>\n",
              "      <th>44</th>\n",
              "      <td>2</td>\n",
              "      <td>V15</td>\n",
              "      <td>24.695139</td>\n",
              "      <td>46.684694</td>\n",
              "      <td>2022-10-19 08:30:00</td>\n",
              "      <td>Wednesday</td>\n",
              "      <td>V09</td>\n",
              "      <td>Bossco</td>\n",
              "      <td>Coffee Shop</td>\n",
              "    </tr>\n",
              "    <tr>\n",
              "      <th>45</th>\n",
              "      <td>2</td>\n",
              "      <td>V16</td>\n",
              "      <td>24.675198</td>\n",
              "      <td>46.625123</td>\n",
              "      <td>2022-10-29 21:50:00</td>\n",
              "      <td>Wednesday</td>\n",
              "      <td>V15</td>\n",
              "      <td>Crazy Pizza</td>\n",
              "      <td>Italian Restaurant</td>\n",
              "    </tr>\n",
              "    <tr>\n",
              "      <th>46</th>\n",
              "      <td>2</td>\n",
              "      <td>V61</td>\n",
              "      <td>24.693167</td>\n",
              "      <td>46.632194</td>\n",
              "      <td>2022-12-15 20:21:00</td>\n",
              "      <td>Thursday</td>\n",
              "      <td>V60</td>\n",
              "      <td>North Audley Cantine</td>\n",
              "      <td>French Restaurant</td>\n",
              "    </tr>\n",
              "    <tr>\n",
              "      <th>47</th>\n",
              "      <td>2</td>\n",
              "      <td>V12</td>\n",
              "      <td>24.757000</td>\n",
              "      <td>46.607444</td>\n",
              "      <td>2022-12-15 22:16:00</td>\n",
              "      <td>Thursday</td>\n",
              "      <td>V61</td>\n",
              "      <td>Monkey House</td>\n",
              "      <td>Latin American Restaurant</td>\n",
              "    </tr>\n",
              "    <tr>\n",
              "      <th>48</th>\n",
              "      <td>2</td>\n",
              "      <td>V63</td>\n",
              "      <td>24.731833</td>\n",
              "      <td>46.648000</td>\n",
              "      <td>2022-12-24 14:11:00</td>\n",
              "      <td>Saturday</td>\n",
              "      <td>V62</td>\n",
              "      <td>Arabica</td>\n",
              "      <td>Coffee Shop</td>\n",
              "    </tr>\n",
              "    <tr>\n",
              "      <th>49</th>\n",
              "      <td>2</td>\n",
              "      <td>V64</td>\n",
              "      <td>24.940833</td>\n",
              "      <td>46.713500</td>\n",
              "      <td>2023-01-08 10:36:00</td>\n",
              "      <td>Sunday</td>\n",
              "      <td>V63</td>\n",
              "      <td>King Khalid Airport</td>\n",
              "      <td>Travel Lounge</td>\n",
              "    </tr>\n",
              "  </tbody>\n",
              "</table>\n",
              "</div>\n",
              "    <div class=\"colab-df-buttons\">\n",
              "\n",
              "  <div class=\"colab-df-container\">\n",
              "    <button class=\"colab-df-convert\" onclick=\"convertToInteractive('df-3f7925c8-c2fa-418c-b2e7-1acc0dd3b6af')\"\n",
              "            title=\"Convert this dataframe to an interactive table.\"\n",
              "            style=\"display:none;\">\n",
              "\n",
              "  <svg xmlns=\"http://www.w3.org/2000/svg\" height=\"24px\" viewBox=\"0 -960 960 960\">\n",
              "    <path d=\"M120-120v-720h720v720H120Zm60-500h600v-160H180v160Zm220 220h160v-160H400v160Zm0 220h160v-160H400v160ZM180-400h160v-160H180v160Zm440 0h160v-160H620v160ZM180-180h160v-160H180v160Zm440 0h160v-160H620v160Z\"/>\n",
              "  </svg>\n",
              "    </button>\n",
              "\n",
              "  <style>\n",
              "    .colab-df-container {\n",
              "      display:flex;\n",
              "      gap: 12px;\n",
              "    }\n",
              "\n",
              "    .colab-df-convert {\n",
              "      background-color: #E8F0FE;\n",
              "      border: none;\n",
              "      border-radius: 50%;\n",
              "      cursor: pointer;\n",
              "      display: none;\n",
              "      fill: #1967D2;\n",
              "      height: 32px;\n",
              "      padding: 0 0 0 0;\n",
              "      width: 32px;\n",
              "    }\n",
              "\n",
              "    .colab-df-convert:hover {\n",
              "      background-color: #E2EBFA;\n",
              "      box-shadow: 0px 1px 2px rgba(60, 64, 67, 0.3), 0px 1px 3px 1px rgba(60, 64, 67, 0.15);\n",
              "      fill: #174EA6;\n",
              "    }\n",
              "\n",
              "    .colab-df-buttons div {\n",
              "      margin-bottom: 4px;\n",
              "    }\n",
              "\n",
              "    [theme=dark] .colab-df-convert {\n",
              "      background-color: #3B4455;\n",
              "      fill: #D2E3FC;\n",
              "    }\n",
              "\n",
              "    [theme=dark] .colab-df-convert:hover {\n",
              "      background-color: #434B5C;\n",
              "      box-shadow: 0px 1px 3px 1px rgba(0, 0, 0, 0.15);\n",
              "      filter: drop-shadow(0px 1px 2px rgba(0, 0, 0, 0.3));\n",
              "      fill: #FFFFFF;\n",
              "    }\n",
              "  </style>\n",
              "\n",
              "    <script>\n",
              "      const buttonEl =\n",
              "        document.querySelector('#df-3f7925c8-c2fa-418c-b2e7-1acc0dd3b6af button.colab-df-convert');\n",
              "      buttonEl.style.display =\n",
              "        google.colab.kernel.accessAllowed ? 'block' : 'none';\n",
              "\n",
              "      async function convertToInteractive(key) {\n",
              "        const element = document.querySelector('#df-3f7925c8-c2fa-418c-b2e7-1acc0dd3b6af');\n",
              "        const dataTable =\n",
              "          await google.colab.kernel.invokeFunction('convertToInteractive',\n",
              "                                                    [key], {});\n",
              "        if (!dataTable) return;\n",
              "\n",
              "        const docLinkHtml = 'Like what you see? Visit the ' +\n",
              "          '<a target=\"_blank\" href=https://colab.research.google.com/notebooks/data_table.ipynb>data table notebook</a>'\n",
              "          + ' to learn more about interactive tables.';\n",
              "        element.innerHTML = '';\n",
              "        dataTable['output_type'] = 'display_data';\n",
              "        await google.colab.output.renderOutput(dataTable, element);\n",
              "        const docLink = document.createElement('div');\n",
              "        docLink.innerHTML = docLinkHtml;\n",
              "        element.appendChild(docLink);\n",
              "      }\n",
              "    </script>\n",
              "  </div>\n",
              "\n",
              "\n",
              "<div id=\"df-7ef02681-f1ea-4d0a-a536-860a6f5f2554\">\n",
              "  <button class=\"colab-df-quickchart\" onclick=\"quickchart('df-7ef02681-f1ea-4d0a-a536-860a6f5f2554')\"\n",
              "            title=\"Suggest charts\"\n",
              "            style=\"display:none;\">\n",
              "\n",
              "<svg xmlns=\"http://www.w3.org/2000/svg\" height=\"24px\"viewBox=\"0 0 24 24\"\n",
              "     width=\"24px\">\n",
              "    <g>\n",
              "        <path d=\"M19 3H5c-1.1 0-2 .9-2 2v14c0 1.1.9 2 2 2h14c1.1 0 2-.9 2-2V5c0-1.1-.9-2-2-2zM9 17H7v-7h2v7zm4 0h-2V7h2v10zm4 0h-2v-4h2v4z\"/>\n",
              "    </g>\n",
              "</svg>\n",
              "  </button>\n",
              "\n",
              "<style>\n",
              "  .colab-df-quickchart {\n",
              "      --bg-color: #E8F0FE;\n",
              "      --fill-color: #1967D2;\n",
              "      --hover-bg-color: #E2EBFA;\n",
              "      --hover-fill-color: #174EA6;\n",
              "      --disabled-fill-color: #AAA;\n",
              "      --disabled-bg-color: #DDD;\n",
              "  }\n",
              "\n",
              "  [theme=dark] .colab-df-quickchart {\n",
              "      --bg-color: #3B4455;\n",
              "      --fill-color: #D2E3FC;\n",
              "      --hover-bg-color: #434B5C;\n",
              "      --hover-fill-color: #FFFFFF;\n",
              "      --disabled-bg-color: #3B4455;\n",
              "      --disabled-fill-color: #666;\n",
              "  }\n",
              "\n",
              "  .colab-df-quickchart {\n",
              "    background-color: var(--bg-color);\n",
              "    border: none;\n",
              "    border-radius: 50%;\n",
              "    cursor: pointer;\n",
              "    display: none;\n",
              "    fill: var(--fill-color);\n",
              "    height: 32px;\n",
              "    padding: 0;\n",
              "    width: 32px;\n",
              "  }\n",
              "\n",
              "  .colab-df-quickchart:hover {\n",
              "    background-color: var(--hover-bg-color);\n",
              "    box-shadow: 0 1px 2px rgba(60, 64, 67, 0.3), 0 1px 3px 1px rgba(60, 64, 67, 0.15);\n",
              "    fill: var(--button-hover-fill-color);\n",
              "  }\n",
              "\n",
              "  .colab-df-quickchart-complete:disabled,\n",
              "  .colab-df-quickchart-complete:disabled:hover {\n",
              "    background-color: var(--disabled-bg-color);\n",
              "    fill: var(--disabled-fill-color);\n",
              "    box-shadow: none;\n",
              "  }\n",
              "\n",
              "  .colab-df-spinner {\n",
              "    border: 2px solid var(--fill-color);\n",
              "    border-color: transparent;\n",
              "    border-bottom-color: var(--fill-color);\n",
              "    animation:\n",
              "      spin 1s steps(1) infinite;\n",
              "  }\n",
              "\n",
              "  @keyframes spin {\n",
              "    0% {\n",
              "      border-color: transparent;\n",
              "      border-bottom-color: var(--fill-color);\n",
              "      border-left-color: var(--fill-color);\n",
              "    }\n",
              "    20% {\n",
              "      border-color: transparent;\n",
              "      border-left-color: var(--fill-color);\n",
              "      border-top-color: var(--fill-color);\n",
              "    }\n",
              "    30% {\n",
              "      border-color: transparent;\n",
              "      border-left-color: var(--fill-color);\n",
              "      border-top-color: var(--fill-color);\n",
              "      border-right-color: var(--fill-color);\n",
              "    }\n",
              "    40% {\n",
              "      border-color: transparent;\n",
              "      border-right-color: var(--fill-color);\n",
              "      border-top-color: var(--fill-color);\n",
              "    }\n",
              "    60% {\n",
              "      border-color: transparent;\n",
              "      border-right-color: var(--fill-color);\n",
              "    }\n",
              "    80% {\n",
              "      border-color: transparent;\n",
              "      border-right-color: var(--fill-color);\n",
              "      border-bottom-color: var(--fill-color);\n",
              "    }\n",
              "    90% {\n",
              "      border-color: transparent;\n",
              "      border-bottom-color: var(--fill-color);\n",
              "    }\n",
              "  }\n",
              "</style>\n",
              "\n",
              "  <script>\n",
              "    async function quickchart(key) {\n",
              "      const quickchartButtonEl =\n",
              "        document.querySelector('#' + key + ' button');\n",
              "      quickchartButtonEl.disabled = true;  // To prevent multiple clicks.\n",
              "      quickchartButtonEl.classList.add('colab-df-spinner');\n",
              "      try {\n",
              "        const charts = await google.colab.kernel.invokeFunction(\n",
              "            'suggestCharts', [key], {});\n",
              "      } catch (error) {\n",
              "        console.error('Error during call to suggestCharts:', error);\n",
              "      }\n",
              "      quickchartButtonEl.classList.remove('colab-df-spinner');\n",
              "      quickchartButtonEl.classList.add('colab-df-quickchart-complete');\n",
              "    }\n",
              "    (() => {\n",
              "      let quickchartButtonEl =\n",
              "        document.querySelector('#df-7ef02681-f1ea-4d0a-a536-860a6f5f2554 button');\n",
              "      quickchartButtonEl.style.display =\n",
              "        google.colab.kernel.accessAllowed ? 'block' : 'none';\n",
              "    })();\n",
              "  </script>\n",
              "</div>\n",
              "\n",
              "    </div>\n",
              "  </div>\n"
            ],
            "application/vnd.google.colaboratory.intrinsic+json": {
              "type": "dataframe",
              "variable_name": "df",
              "summary": "{\n  \"name\": \"df\",\n  \"rows\": 987,\n  \"fields\": [\n    {\n      \"column\": \"User ID\",\n      \"properties\": {\n        \"dtype\": \"number\",\n        \"std\": 7,\n        \"min\": 1,\n        \"max\": 23,\n        \"num_unique_values\": 23,\n        \"samples\": [\n          16,\n          10,\n          1\n        ],\n        \"semantic_type\": \"\",\n        \"description\": \"\"\n      }\n    },\n    {\n      \"column\": \"Venue ID\",\n      \"properties\": {\n        \"dtype\": \"string\",\n        \"num_unique_values\": 587,\n        \"samples\": [\n          \"V492\",\n          \"V102\",\n          \"V484\"\n        ],\n        \"semantic_type\": \"\",\n        \"description\": \"\"\n      }\n    },\n    {\n      \"column\": \"Latitude\",\n      \"properties\": {\n        \"dtype\": \"number\",\n        \"std\": 2.205037822512029,\n        \"min\": 18.238822,\n        \"max\": 46.818889,\n        \"num_unique_values\": 530,\n        \"samples\": [\n          24.707861,\n          24.808222,\n          24.736002\n        ],\n        \"semantic_type\": \"\",\n        \"description\": \"\"\n      }\n    },\n    {\n      \"column\": \"Longitude\",\n      \"properties\": {\n        \"dtype\": \"number\",\n        \"std\": 2.1917300847625043,\n        \"min\": 24.783306,\n        \"max\": 46.854944,\n        \"num_unique_values\": 536,\n        \"samples\": [\n          46.680694,\n          46.773806,\n          46.57775\n        ],\n        \"semantic_type\": \"\",\n        \"description\": \"\"\n      }\n    },\n    {\n      \"column\": \"Check-in Time\",\n      \"properties\": {\n        \"dtype\": \"date\",\n        \"min\": \"2020-12-20 21:41:00\",\n        \"max\": \"2025-01-28 22:57:00\",\n        \"num_unique_values\": 983,\n        \"samples\": [\n          \"2025-01-03 23:08:00\",\n          \"2024-11-14 14:20:00\",\n          \"2025-01-09 20:03:00\"\n        ],\n        \"semantic_type\": \"\",\n        \"description\": \"\"\n      }\n    },\n    {\n      \"column\": \"Day\",\n      \"properties\": {\n        \"dtype\": \"category\",\n        \"num_unique_values\": 7,\n        \"samples\": [\n          \"Tuesday\",\n          \"Wednesday\",\n          \"Monday\"\n        ],\n        \"semantic_type\": \"\",\n        \"description\": \"\"\n      }\n    },\n    {\n      \"column\": \"Previous Venue ID\",\n      \"properties\": {\n        \"dtype\": \"string\",\n        \"num_unique_values\": 559,\n        \"samples\": [\n          \"V35\",\n          \"V418\",\n          \"V19\"\n        ],\n        \"semantic_type\": \"\",\n        \"description\": \"\"\n      }\n    },\n    {\n      \"column\": \"Venue Name\",\n      \"properties\": {\n        \"dtype\": \"string\",\n        \"num_unique_values\": 508,\n        \"samples\": [\n          \"Riyadh Park Mall\",\n          \"Cartier\",\n          \"Sarena SAFEIS\"\n        ],\n        \"semantic_type\": \"\",\n        \"description\": \"\"\n      }\n    },\n    {\n      \"column\": \"Venue Category\",\n      \"properties\": {\n        \"dtype\": \"category\",\n        \"num_unique_values\": 137,\n        \"samples\": [\n          \"Juice Bar \",\n          \"Toy Store\",\n          \"Convention\"\n        ],\n        \"semantic_type\": \"\",\n        \"description\": \"\"\n      }\n    }\n  ]\n}"
            }
          },
          "metadata": {},
          "execution_count": 16
        }
      ]
    },
    {
      "cell_type": "markdown",
      "source": [
        "### 5.2 Verify that each user's Previous Venue ID corresponds to the Venue ID of the previous row (except the first row of the user).\n"
      ],
      "metadata": {
        "id": "fBeYmdUOo9f5"
      }
    },
    {
      "cell_type": "code",
      "source": [
        "# Check the consistency of Previous Venue ID\n",
        "inconsistencies = []\n",
        "\n",
        "# Loop through each user's data and check if Previous Venue ID is consistent\n",
        "for user_id in df['User ID'].unique():\n",
        "    user_data = df[df['User ID'] == user_id].reset_index(drop=True)\n",
        "\n",
        "    for i in range(1, len(user_data)):\n",
        "        if user_data.loc[i, 'Previous Venue ID'] != user_data.loc[i - 1, 'Venue ID']:\n",
        "            inconsistencies.append({\n",
        "                'User ID': user_id,\n",
        "                'Current Row': i,\n",
        "                'Previous Venue ID': user_data.loc[i, 'Previous Venue ID'],\n",
        "                'Expected Venue ID': user_data.loc[i - 1, 'Venue ID']\n",
        "            })\n",
        "\n",
        "# Display inconsistencies, if any\n",
        "if inconsistencies:\n",
        "    print(\"\\nInconsistencies found:\")\n",
        "    for issue in inconsistencies:\n",
        "        print(f\"User ID {issue['User ID']}: Row {issue['Current Row']} has Previous Venue ID '{issue['Previous Venue ID']}' but expected '{issue['Expected Venue ID']}'\")\n",
        "else:\n",
        "    print(\"\\nNo inconsistencies found in Previous Venue IDs.\")"
      ],
      "metadata": {
        "colab": {
          "base_uri": "https://localhost:8080/"
        },
        "id": "r-W5F2QupJ1m",
        "outputId": "0d04eac2-e879-4700-86ca-f9a3979156d2"
      },
      "execution_count": null,
      "outputs": [
        {
          "output_type": "stream",
          "name": "stdout",
          "text": [
            "\n",
            "Inconsistencies found:\n",
            "User ID 1: Row 8 has Previous Venue ID 'None' but expected 'V235'\n",
            "User ID 1: Row 27 has Previous Venue ID 'None' but expected 'V230'\n",
            "User ID 1: Row 35 has Previous Venue ID 'None' but expected 'V04'\n",
            "User ID 2: Row 1 has Previous Venue ID 'None' but expected 'V60'\n",
            "User ID 2: Row 2 has Previous Venue ID 'V10' but expected 'V09'\n",
            "User ID 2: Row 4 has Previous Venue ID 'V13' but expected 'V12'\n",
            "User ID 2: Row 9 has Previous Venue ID 'V60' but expected 'V16'\n",
            "User ID 2: Row 11 has Previous Venue ID 'V62' but expected 'V12'\n",
            "User ID 2: Row 15 has Previous Venue ID 'V13' but expected 'V66'\n",
            "User ID 2: Row 18 has Previous Venue ID 'V13' but expected 'V09'\n",
            "User ID 4: Row 9 has Previous Venue ID 'None' but expected 'V132'\n",
            "User ID 4: Row 11 has Previous Venue ID 'V26' but expected 'V133'\n",
            "User ID 4: Row 12 has Previous Venue ID 'None' but expected 'V134'\n",
            "User ID 4: Row 17 has Previous Venue ID 'None' but expected 'V137'\n",
            "User ID 4: Row 21 has Previous Venue ID 'None' but expected 'V141'\n",
            "User ID 4: Row 23 has Previous Venue ID 'None' but expected 'V143'\n",
            "User ID 4: Row 24 has Previous Venue ID 'None' but expected 'V144'\n",
            "User ID 4: Row 25 has Previous Venue ID 'None' but expected 'V145'\n",
            "User ID 4: Row 26 has Previous Venue ID 'V146' but expected 'V132'\n",
            "User ID 4: Row 27 has Previous Venue ID 'V132' but expected 'V129'\n",
            "User ID 4: Row 28 has Previous Venue ID 'None' but expected 'V146'\n",
            "User ID 4: Row 29 has Previous Venue ID 'None' but expected 'V147'\n",
            "User ID 4: Row 32 has Previous Venue ID 'None' but expected 'V206'\n",
            "User ID 4: Row 33 has Previous Venue ID 'None' but expected 'V207'\n",
            "User ID 4: Row 36 has Previous Venue ID 'None' but expected 'V28'\n",
            "User ID 4: Row 41 has Previous Venue ID 'V27' but expected 'V33'\n",
            "User ID 4: Row 42 has Previous Venue ID 'V33' but expected 'V31'\n",
            "User ID 4: Row 43 has Previous Venue ID 'V33' but expected 'V34'\n",
            "User ID 4: Row 44 has Previous Venue ID 'V34' but expected 'V27'\n",
            "User ID 9: Row 23 has Previous Venue ID 'V155' but expected 'V154'\n",
            "User ID 10: Row 8 has Previous Venue ID 'None' but expected 'V342'\n",
            "User ID 10: Row 26 has Previous Venue ID 'V192' but expected 'V09'\n",
            "User ID 10: Row 33 has Previous Venue ID 'None' but expected 'V165'\n",
            "User ID 12: Row 7 has Previous Venue ID 'None' but expected 'V188'\n",
            "User ID 12: Row 9 has Previous Venue ID 'None' but expected 'V190'\n",
            "User ID 12: Row 16 has Previous Venue ID 'None' but expected 'V196'\n",
            "User ID 12: Row 18 has Previous Venue ID 'None' but expected 'V188'\n",
            "User ID 12: Row 19 has Previous Venue ID 'None' but expected 'V189'\n",
            "User ID 12: Row 20 has Previous Venue ID 'None' but expected 'V197'\n",
            "User ID 12: Row 24 has Previous Venue ID 'None' but expected 'V200'\n",
            "User ID 12: Row 25 has Previous Venue ID 'None' but expected 'V201'\n",
            "User ID 12: Row 27 has Previous Venue ID 'None' but expected 'V202'\n",
            "User ID 12: Row 28 has Previous Venue ID 'None' but expected 'V148'\n",
            "User ID 12: Row 35 has Previous Venue ID 'None' but expected 'V283'\n",
            "User ID 12: Row 36 has Previous Venue ID 'None' but expected 'V282'\n",
            "User ID 12: Row 42 has Previous Venue ID 'None' but expected 'V284'\n",
            "User ID 12: Row 44 has Previous Venue ID 'None' but expected 'V286'\n",
            "User ID 12: Row 46 has Previous Venue ID 'None' but expected 'V286'\n",
            "User ID 12: Row 47 has Previous Venue ID 'V288' but expected 'V287'\n",
            "User ID 12: Row 48 has Previous Venue ID 'V287' but expected 'V184'\n",
            "User ID 12: Row 49 has Previous Venue ID 'V184' but expected 'V288'\n",
            "User ID 15: Row 12 has Previous Venue ID 'V392' but expected 'V111'\n",
            "User ID 15: Row 13 has Previous Venue ID 'V111' but expected 'V393'\n",
            "User ID 15: Row 14 has Previous Venue ID 'V393' but expected 'V392'\n",
            "User ID 17: Row 1 has Previous Venue ID 'None' but expected 'V345'\n",
            "User ID 17: Row 20 has Previous Venue ID 'V345' but expected 'V435'\n",
            "User ID 18: Row 25 has Previous Venue ID 'V421' but expected 'V420'\n",
            "User ID 19: Row 26 has Previous Venue ID 'V477' but expected 'V476'\n",
            "User ID 22: Row 44 has Previous Venue ID 'V82' but expected 'V120'\n",
            "User ID 23: Row 10 has Previous Venue ID 'V38' but expected 'V548'\n",
            "User ID 23: Row 46 has Previous Venue ID 'V558' but expected 'V561'\n"
          ]
        }
      ]
    },
    {
      "cell_type": "markdown",
      "source": [
        "### 5.3 Fix inconsistencies in Previous Venue IDs\n"
      ],
      "metadata": {
        "id": "jkGYEM8it54_"
      }
    },
    {
      "cell_type": "code",
      "source": [
        "# Fix inconsistencies by strictly assigning correct Previous Venue IDs with index alignment\n",
        "for user_id in df['User ID'].unique():\n",
        "    user_data = df[df['User ID'] == user_id]\n",
        "\n",
        "    # Set the first row's Previous Venue ID to None\n",
        "    first_index = user_data.index[0]\n",
        "    df.loc[first_index, 'Previous Venue ID'] = None\n",
        "\n",
        "    # Fix inconsistencies for remaining rows\n",
        "    for i in range(1, len(user_data)):\n",
        "        current_index = user_data.index[i]\n",
        "        previous_index = user_data.index[i - 1]\n",
        "\n",
        "        # Set Previous Venue ID to the Venue ID of the previous row\n",
        "        df.loc[current_index, 'Previous Venue ID'] = df.loc[previous_index, 'Venue ID']\n",
        "\n",
        "# Verify that inconsistencies have been fixed\n",
        "inconsistencies_after_fix = []\n",
        "\n",
        "for user_id in df['User ID'].unique():\n",
        "    user_data = df[df['User ID'] == user_id].reset_index(drop=True)\n",
        "\n",
        "    for i in range(1, len(user_data)):\n",
        "        if user_data.loc[i, 'Previous Venue ID'] != user_data.loc[i - 1, 'Venue ID']:\n",
        "            inconsistencies_after_fix.append({\n",
        "                'User ID': user_id,\n",
        "                'Current Row': i,\n",
        "                'Previous Venue ID': user_data.loc[i, 'Previous Venue ID'],\n",
        "                'Expected Venue ID': user_data.loc[i - 1, 'Venue ID']\n",
        "            })\n",
        "\n",
        "if inconsistencies_after_fix:\n",
        "    print(\"Inconsistencies still exist after fixing:\")\n",
        "    print(inconsistencies_after_fix)\n",
        "else:\n",
        "    print(\"All inconsistencies have been fixed successfully.\")"
      ],
      "metadata": {
        "colab": {
          "base_uri": "https://localhost:8080/"
        },
        "id": "uhLjZI-Ct7Vn",
        "outputId": "680a3869-3320-440c-fe2c-14ae83747bdd"
      },
      "execution_count": null,
      "outputs": [
        {
          "output_type": "stream",
          "name": "stdout",
          "text": [
            "All inconsistencies have been fixed successfully.\n"
          ]
        }
      ]
    },
    {
      "cell_type": "markdown",
      "source": [
        "### 5.4 Verify the correctness of Previous Venue IDs\n"
      ],
      "metadata": {
        "id": "n0GvAxBgwUIu"
      }
    },
    {
      "cell_type": "code",
      "source": [
        "# Verify the ordering and correctness of Previous Venue IDs\n",
        "print(\"First 50 rows of the dataset after ordering and fixing inconsistencies:\")\n",
        "df.head(50)"
      ],
      "metadata": {
        "colab": {
          "base_uri": "https://localhost:8080/",
          "height": 1000
        },
        "id": "aDkjdvFywWXW",
        "outputId": "5532eae4-b11f-4d3a-e2ec-d0be7cd176f6"
      },
      "execution_count": null,
      "outputs": [
        {
          "output_type": "stream",
          "name": "stdout",
          "text": [
            "First 50 rows of the dataset after ordering and fixing inconsistencies:\n"
          ]
        },
        {
          "output_type": "execute_result",
          "data": {
            "text/plain": [
              "    User ID Venue ID   Latitude  Longitude       Check-in Time        Day  \\\n",
              "0         1     V231  24.767113  46.659294 2021-01-05 22:31:00    Tuesday   \n",
              "1         1      V67  24.772194  46.698083 2021-01-05 23:52:00    Tuesday   \n",
              "2         1     V232  24.790579  46.612207 2021-01-06 23:59:00  Wednesday   \n",
              "3         1     V233  24.760748  46.716174 2021-01-09 20:12:00   Saturday   \n",
              "4         1     V234  24.741122  46.636161 2021-01-27 11:39:00  Wednesday   \n",
              "5         1     V233  24.760748  46.716174 2021-01-27 15:16:00  Wednesday   \n",
              "6         1     V108  24.739278  46.627694 2021-01-27 16:38:00  Wednesday   \n",
              "7         1     V235  24.736002  46.631105 2021-03-25 22:51:00   Thursday   \n",
              "8         1     V214  24.663909  46.683211 2021-04-18 00:04:00     Sunday   \n",
              "9         1     V215  24.765366  46.641621 2021-04-18 00:52:00     Sunday   \n",
              "10        1     V216  24.759619  46.639500 2021-04-18 01:09:00     Sunday   \n",
              "11        1     V217  24.730288  46.590478 2021-05-16 23:37:00     Sunday   \n",
              "12        1     V204  24.690694  46.684528 2021-05-17 00:04:00     Monday   \n",
              "13        1     V218  24.707578  46.708657 2021-06-15 22:07:00    Tuesday   \n",
              "14        1     V219  24.721270  46.656313 2021-08-02 20:40:00     Monday   \n",
              "15        1     V220  24.804064  46.674060 2021-09-15 23:35:00  Wednesday   \n",
              "16        1     V221  24.795269  46.655149 2021-10-27 21:11:00  Wednesday   \n",
              "17        1     V173  24.690222  46.685028 2021-11-01 18:02:00     Monday   \n",
              "18        1     V222  24.689708  46.684999 2021-11-01 18:45:00     Monday   \n",
              "19        1     V223  18.238822  42.581651 2021-12-08 20:45:00  Wednesday   \n",
              "20        1     V224  24.765479  46.603982 2022-01-07 22:04:00     Friday   \n",
              "21        1     V225  24.704074  46.706258 2022-01-31 20:40:00     Monday   \n",
              "22        1     V226  24.835229  46.729585 2022-02-01 14:33:00    Tuesday   \n",
              "23        1     V227  24.791020  46.611071 2022-02-03 17:46:00   Thursday   \n",
              "24        1     V228  24.816879  46.665885 2022-02-16 19:54:00  Wednesday   \n",
              "25        1     V229  24.750282  46.623683 2022-03-17 21:12:00   Thursday   \n",
              "26        1     V230  24.738741  46.635276 2022-03-30 10:01:00  Wednesday   \n",
              "27        1      V08  24.851020  46.673805 2022-05-09 08:15:00     Monday   \n",
              "28        1      V08  24.851020  46.673805 2022-05-12 08:24:00     Friday   \n",
              "29        1      V08  24.851020  46.673805 2022-05-23 07:11:00     Monday   \n",
              "30        1      V07  24.888484  46.618860 2022-06-04 19:46:00   Saturday   \n",
              "31        1      V06  24.958437  46.702795 2022-07-30 11:59:00   Saturday   \n",
              "32        1      V05  24.858572  46.646492 2022-07-31 13:47:00     Sunday   \n",
              "33        1      V03  24.722389  46.678917 2022-08-01 20:39:00     Monday   \n",
              "34        1      V04  24.713180  46.675823 2022-08-01 21:39:00     Monday   \n",
              "35        1      V01  24.693367  46.598449 2024-09-11 20:18:00  Wednesday   \n",
              "36        1      V02  24.733212  46.645169 2024-09-11 20:42:00  Wednesday   \n",
              "37        2      V60  24.664490  46.644720 2022-07-11 12:47:00     Monday   \n",
              "38        2      V09  24.778083  46.662694 2022-08-29 20:07:00     Monday   \n",
              "39        2      V11  24.726230  46.652404 2022-09-14 00:00:00  Wednesday   \n",
              "40        2      V12  24.757000  46.607444 2022-09-15 23:45:00   Thursday   \n",
              "41        2      V09  24.778083  46.662694 2022-09-25 13:03:00     Sunday   \n",
              "42        2      V14  24.793015  46.649209 2022-09-26 21:16:00     Monday   \n",
              "43        2      V09  24.778083  46.662694 2022-09-28 08:31:00  Wednesday   \n",
              "44        2      V15  24.695139  46.684694 2022-10-19 08:30:00  Wednesday   \n",
              "45        2      V16  24.675198  46.625123 2022-10-29 21:50:00  Wednesday   \n",
              "46        2      V61  24.693167  46.632194 2022-12-15 20:21:00   Thursday   \n",
              "47        2      V12  24.757000  46.607444 2022-12-15 22:16:00   Thursday   \n",
              "48        2      V63  24.731833  46.648000 2022-12-24 14:11:00   Saturday   \n",
              "49        2      V64  24.940833  46.713500 2023-01-08 10:36:00     Sunday   \n",
              "\n",
              "   Previous Venue ID                         Venue Name  \\\n",
              "0               None                         Margherita   \n",
              "1               V231                          Riverwalk   \n",
              "2                V67                        AMC Cinemas   \n",
              "3               V232                         Third Café   \n",
              "4               V233                     Caribou Coffee   \n",
              "5               V234                         Third Café   \n",
              "6               V233                             U Walk   \n",
              "7               V108                        Kahwet Azmi   \n",
              "8               V235                          Starbucks   \n",
              "9               V214   King Abdullah Financial District   \n",
              "10              V215                      SALT Campsite   \n",
              "11              V216                              Eclat   \n",
              "12              V217                                LPM   \n",
              "13              V204                               Toqa   \n",
              "14              V218                          TOLAT ETR   \n",
              "15              V219                              RATIO   \n",
              "16              V220                   The Library Club   \n",
              "17              V221            Entrecote Cafe de Paris   \n",
              "18              V173                  Mamo Michelangelo   \n",
              "19              V222                       DOUGH SOURCE   \n",
              "20              V223                        TOQA COFFEE   \n",
              "21              V224                        Billionaire   \n",
              "22              V225                             LEAP22   \n",
              "23              V226                    Burger Boutique   \n",
              "24              V227                            Richoux   \n",
              "25              V228                        Blue Garden   \n",
              "26              V229                       CROWNE PLAZA   \n",
              "27              V230                          Starbucks   \n",
              "28               V08                          Starbucks   \n",
              "29               V08                          Starbucks   \n",
              "30               V08                             Veloce   \n",
              "31               V07  King Khalid International Airport   \n",
              "32               V06                          Starbucks   \n",
              "33               V05                             Shazin   \n",
              "34               V03                        SHOE PALACE   \n",
              "35               V04               BELMONT Coffee House   \n",
              "36               V01                            KHOLASA   \n",
              "37              None                          Al Diwann   \n",
              "38               V60                          Ghandoura   \n",
              "39               V09                      Shadow Lounge   \n",
              "40               V11                       Monkey House   \n",
              "41               V12                          Ghandoura   \n",
              "42               V09                             Flame    \n",
              "43               V14                          Ghandoura   \n",
              "44               V09                             Bossco   \n",
              "45               V15                        Crazy Pizza   \n",
              "46               V16               North Audley Cantine   \n",
              "47               V61                       Monkey House   \n",
              "48               V12                            Arabica   \n",
              "49               V63                King Khalid Airport   \n",
              "\n",
              "               Venue Category  \n",
              "0          Italian Restaurant  \n",
              "1                       Plaza  \n",
              "2               Movie Theater  \n",
              "3                 Coffee Shop  \n",
              "4                 Coffee Shop  \n",
              "5                 Coffee Shop  \n",
              "6                       Plaza  \n",
              "7         Lebanese Restaurant  \n",
              "8                 Coffee Shop  \n",
              "9             Business Center  \n",
              "10               Burger Joint  \n",
              "11                Coffee Shop  \n",
              "12         French Restaurant   \n",
              "13                Coffee Shop  \n",
              "14              Perfume Store  \n",
              "15                Coffee Shop  \n",
              "16                Social Club  \n",
              "17           Swiss Restaurant  \n",
              "18         Italian Restaurant  \n",
              "19                 Restaurant  \n",
              "20                Coffee Shop  \n",
              "21         Italian Restaurant  \n",
              "22                 Convention  \n",
              "23               Burger Joint  \n",
              "24         English Restaurant  \n",
              "25        Lebanese Restaurant  \n",
              "26                      Hotel  \n",
              "27                Coffee Shop  \n",
              "28                Coffee Shop  \n",
              "29                Coffee Shop  \n",
              "30                Coffee Shop  \n",
              "31      International Airport  \n",
              "32                Coffee Shop  \n",
              "33        Miscellaneous Store  \n",
              "34                 Shoe Store  \n",
              "35                Coffee Shop  \n",
              "36                Coffee Shop  \n",
              "37        Government Building  \n",
              "38                Coffee Shop  \n",
              "39                     Lounge  \n",
              "40  Latin American Restaurant  \n",
              "41                Coffee Shop  \n",
              "42                Coffee Shop  \n",
              "43                Coffee Shop  \n",
              "44                Coffee Shop  \n",
              "45         Italian Restaurant  \n",
              "46          French Restaurant  \n",
              "47  Latin American Restaurant  \n",
              "48                Coffee Shop  \n",
              "49              Travel Lounge  "
            ],
            "text/html": [
              "\n",
              "  <div id=\"df-b2c955f3-6300-494c-a1da-565c209ad5d5\" class=\"colab-df-container\">\n",
              "    <div>\n",
              "<style scoped>\n",
              "    .dataframe tbody tr th:only-of-type {\n",
              "        vertical-align: middle;\n",
              "    }\n",
              "\n",
              "    .dataframe tbody tr th {\n",
              "        vertical-align: top;\n",
              "    }\n",
              "\n",
              "    .dataframe thead th {\n",
              "        text-align: right;\n",
              "    }\n",
              "</style>\n",
              "<table border=\"1\" class=\"dataframe\">\n",
              "  <thead>\n",
              "    <tr style=\"text-align: right;\">\n",
              "      <th></th>\n",
              "      <th>User ID</th>\n",
              "      <th>Venue ID</th>\n",
              "      <th>Latitude</th>\n",
              "      <th>Longitude</th>\n",
              "      <th>Check-in Time</th>\n",
              "      <th>Day</th>\n",
              "      <th>Previous Venue ID</th>\n",
              "      <th>Venue Name</th>\n",
              "      <th>Venue Category</th>\n",
              "    </tr>\n",
              "  </thead>\n",
              "  <tbody>\n",
              "    <tr>\n",
              "      <th>0</th>\n",
              "      <td>1</td>\n",
              "      <td>V231</td>\n",
              "      <td>24.767113</td>\n",
              "      <td>46.659294</td>\n",
              "      <td>2021-01-05 22:31:00</td>\n",
              "      <td>Tuesday</td>\n",
              "      <td>None</td>\n",
              "      <td>Margherita</td>\n",
              "      <td>Italian Restaurant</td>\n",
              "    </tr>\n",
              "    <tr>\n",
              "      <th>1</th>\n",
              "      <td>1</td>\n",
              "      <td>V67</td>\n",
              "      <td>24.772194</td>\n",
              "      <td>46.698083</td>\n",
              "      <td>2021-01-05 23:52:00</td>\n",
              "      <td>Tuesday</td>\n",
              "      <td>V231</td>\n",
              "      <td>Riverwalk</td>\n",
              "      <td>Plaza</td>\n",
              "    </tr>\n",
              "    <tr>\n",
              "      <th>2</th>\n",
              "      <td>1</td>\n",
              "      <td>V232</td>\n",
              "      <td>24.790579</td>\n",
              "      <td>46.612207</td>\n",
              "      <td>2021-01-06 23:59:00</td>\n",
              "      <td>Wednesday</td>\n",
              "      <td>V67</td>\n",
              "      <td>AMC Cinemas</td>\n",
              "      <td>Movie Theater</td>\n",
              "    </tr>\n",
              "    <tr>\n",
              "      <th>3</th>\n",
              "      <td>1</td>\n",
              "      <td>V233</td>\n",
              "      <td>24.760748</td>\n",
              "      <td>46.716174</td>\n",
              "      <td>2021-01-09 20:12:00</td>\n",
              "      <td>Saturday</td>\n",
              "      <td>V232</td>\n",
              "      <td>Third Café</td>\n",
              "      <td>Coffee Shop</td>\n",
              "    </tr>\n",
              "    <tr>\n",
              "      <th>4</th>\n",
              "      <td>1</td>\n",
              "      <td>V234</td>\n",
              "      <td>24.741122</td>\n",
              "      <td>46.636161</td>\n",
              "      <td>2021-01-27 11:39:00</td>\n",
              "      <td>Wednesday</td>\n",
              "      <td>V233</td>\n",
              "      <td>Caribou Coffee</td>\n",
              "      <td>Coffee Shop</td>\n",
              "    </tr>\n",
              "    <tr>\n",
              "      <th>5</th>\n",
              "      <td>1</td>\n",
              "      <td>V233</td>\n",
              "      <td>24.760748</td>\n",
              "      <td>46.716174</td>\n",
              "      <td>2021-01-27 15:16:00</td>\n",
              "      <td>Wednesday</td>\n",
              "      <td>V234</td>\n",
              "      <td>Third Café</td>\n",
              "      <td>Coffee Shop</td>\n",
              "    </tr>\n",
              "    <tr>\n",
              "      <th>6</th>\n",
              "      <td>1</td>\n",
              "      <td>V108</td>\n",
              "      <td>24.739278</td>\n",
              "      <td>46.627694</td>\n",
              "      <td>2021-01-27 16:38:00</td>\n",
              "      <td>Wednesday</td>\n",
              "      <td>V233</td>\n",
              "      <td>U Walk</td>\n",
              "      <td>Plaza</td>\n",
              "    </tr>\n",
              "    <tr>\n",
              "      <th>7</th>\n",
              "      <td>1</td>\n",
              "      <td>V235</td>\n",
              "      <td>24.736002</td>\n",
              "      <td>46.631105</td>\n",
              "      <td>2021-03-25 22:51:00</td>\n",
              "      <td>Thursday</td>\n",
              "      <td>V108</td>\n",
              "      <td>Kahwet Azmi</td>\n",
              "      <td>Lebanese Restaurant</td>\n",
              "    </tr>\n",
              "    <tr>\n",
              "      <th>8</th>\n",
              "      <td>1</td>\n",
              "      <td>V214</td>\n",
              "      <td>24.663909</td>\n",
              "      <td>46.683211</td>\n",
              "      <td>2021-04-18 00:04:00</td>\n",
              "      <td>Sunday</td>\n",
              "      <td>V235</td>\n",
              "      <td>Starbucks</td>\n",
              "      <td>Coffee Shop</td>\n",
              "    </tr>\n",
              "    <tr>\n",
              "      <th>9</th>\n",
              "      <td>1</td>\n",
              "      <td>V215</td>\n",
              "      <td>24.765366</td>\n",
              "      <td>46.641621</td>\n",
              "      <td>2021-04-18 00:52:00</td>\n",
              "      <td>Sunday</td>\n",
              "      <td>V214</td>\n",
              "      <td>King Abdullah Financial District</td>\n",
              "      <td>Business Center</td>\n",
              "    </tr>\n",
              "    <tr>\n",
              "      <th>10</th>\n",
              "      <td>1</td>\n",
              "      <td>V216</td>\n",
              "      <td>24.759619</td>\n",
              "      <td>46.639500</td>\n",
              "      <td>2021-04-18 01:09:00</td>\n",
              "      <td>Sunday</td>\n",
              "      <td>V215</td>\n",
              "      <td>SALT Campsite</td>\n",
              "      <td>Burger Joint</td>\n",
              "    </tr>\n",
              "    <tr>\n",
              "      <th>11</th>\n",
              "      <td>1</td>\n",
              "      <td>V217</td>\n",
              "      <td>24.730288</td>\n",
              "      <td>46.590478</td>\n",
              "      <td>2021-05-16 23:37:00</td>\n",
              "      <td>Sunday</td>\n",
              "      <td>V216</td>\n",
              "      <td>Eclat</td>\n",
              "      <td>Coffee Shop</td>\n",
              "    </tr>\n",
              "    <tr>\n",
              "      <th>12</th>\n",
              "      <td>1</td>\n",
              "      <td>V204</td>\n",
              "      <td>24.690694</td>\n",
              "      <td>46.684528</td>\n",
              "      <td>2021-05-17 00:04:00</td>\n",
              "      <td>Monday</td>\n",
              "      <td>V217</td>\n",
              "      <td>LPM</td>\n",
              "      <td>French Restaurant</td>\n",
              "    </tr>\n",
              "    <tr>\n",
              "      <th>13</th>\n",
              "      <td>1</td>\n",
              "      <td>V218</td>\n",
              "      <td>24.707578</td>\n",
              "      <td>46.708657</td>\n",
              "      <td>2021-06-15 22:07:00</td>\n",
              "      <td>Tuesday</td>\n",
              "      <td>V204</td>\n",
              "      <td>Toqa</td>\n",
              "      <td>Coffee Shop</td>\n",
              "    </tr>\n",
              "    <tr>\n",
              "      <th>14</th>\n",
              "      <td>1</td>\n",
              "      <td>V219</td>\n",
              "      <td>24.721270</td>\n",
              "      <td>46.656313</td>\n",
              "      <td>2021-08-02 20:40:00</td>\n",
              "      <td>Monday</td>\n",
              "      <td>V218</td>\n",
              "      <td>TOLAT ETR</td>\n",
              "      <td>Perfume Store</td>\n",
              "    </tr>\n",
              "    <tr>\n",
              "      <th>15</th>\n",
              "      <td>1</td>\n",
              "      <td>V220</td>\n",
              "      <td>24.804064</td>\n",
              "      <td>46.674060</td>\n",
              "      <td>2021-09-15 23:35:00</td>\n",
              "      <td>Wednesday</td>\n",
              "      <td>V219</td>\n",
              "      <td>RATIO</td>\n",
              "      <td>Coffee Shop</td>\n",
              "    </tr>\n",
              "    <tr>\n",
              "      <th>16</th>\n",
              "      <td>1</td>\n",
              "      <td>V221</td>\n",
              "      <td>24.795269</td>\n",
              "      <td>46.655149</td>\n",
              "      <td>2021-10-27 21:11:00</td>\n",
              "      <td>Wednesday</td>\n",
              "      <td>V220</td>\n",
              "      <td>The Library Club</td>\n",
              "      <td>Social Club</td>\n",
              "    </tr>\n",
              "    <tr>\n",
              "      <th>17</th>\n",
              "      <td>1</td>\n",
              "      <td>V173</td>\n",
              "      <td>24.690222</td>\n",
              "      <td>46.685028</td>\n",
              "      <td>2021-11-01 18:02:00</td>\n",
              "      <td>Monday</td>\n",
              "      <td>V221</td>\n",
              "      <td>Entrecote Cafe de Paris</td>\n",
              "      <td>Swiss Restaurant</td>\n",
              "    </tr>\n",
              "    <tr>\n",
              "      <th>18</th>\n",
              "      <td>1</td>\n",
              "      <td>V222</td>\n",
              "      <td>24.689708</td>\n",
              "      <td>46.684999</td>\n",
              "      <td>2021-11-01 18:45:00</td>\n",
              "      <td>Monday</td>\n",
              "      <td>V173</td>\n",
              "      <td>Mamo Michelangelo</td>\n",
              "      <td>Italian Restaurant</td>\n",
              "    </tr>\n",
              "    <tr>\n",
              "      <th>19</th>\n",
              "      <td>1</td>\n",
              "      <td>V223</td>\n",
              "      <td>18.238822</td>\n",
              "      <td>42.581651</td>\n",
              "      <td>2021-12-08 20:45:00</td>\n",
              "      <td>Wednesday</td>\n",
              "      <td>V222</td>\n",
              "      <td>DOUGH SOURCE</td>\n",
              "      <td>Restaurant</td>\n",
              "    </tr>\n",
              "    <tr>\n",
              "      <th>20</th>\n",
              "      <td>1</td>\n",
              "      <td>V224</td>\n",
              "      <td>24.765479</td>\n",
              "      <td>46.603982</td>\n",
              "      <td>2022-01-07 22:04:00</td>\n",
              "      <td>Friday</td>\n",
              "      <td>V223</td>\n",
              "      <td>TOQA COFFEE</td>\n",
              "      <td>Coffee Shop</td>\n",
              "    </tr>\n",
              "    <tr>\n",
              "      <th>21</th>\n",
              "      <td>1</td>\n",
              "      <td>V225</td>\n",
              "      <td>24.704074</td>\n",
              "      <td>46.706258</td>\n",
              "      <td>2022-01-31 20:40:00</td>\n",
              "      <td>Monday</td>\n",
              "      <td>V224</td>\n",
              "      <td>Billionaire</td>\n",
              "      <td>Italian Restaurant</td>\n",
              "    </tr>\n",
              "    <tr>\n",
              "      <th>22</th>\n",
              "      <td>1</td>\n",
              "      <td>V226</td>\n",
              "      <td>24.835229</td>\n",
              "      <td>46.729585</td>\n",
              "      <td>2022-02-01 14:33:00</td>\n",
              "      <td>Tuesday</td>\n",
              "      <td>V225</td>\n",
              "      <td>LEAP22</td>\n",
              "      <td>Convention</td>\n",
              "    </tr>\n",
              "    <tr>\n",
              "      <th>23</th>\n",
              "      <td>1</td>\n",
              "      <td>V227</td>\n",
              "      <td>24.791020</td>\n",
              "      <td>46.611071</td>\n",
              "      <td>2022-02-03 17:46:00</td>\n",
              "      <td>Thursday</td>\n",
              "      <td>V226</td>\n",
              "      <td>Burger Boutique</td>\n",
              "      <td>Burger Joint</td>\n",
              "    </tr>\n",
              "    <tr>\n",
              "      <th>24</th>\n",
              "      <td>1</td>\n",
              "      <td>V228</td>\n",
              "      <td>24.816879</td>\n",
              "      <td>46.665885</td>\n",
              "      <td>2022-02-16 19:54:00</td>\n",
              "      <td>Wednesday</td>\n",
              "      <td>V227</td>\n",
              "      <td>Richoux</td>\n",
              "      <td>English Restaurant</td>\n",
              "    </tr>\n",
              "    <tr>\n",
              "      <th>25</th>\n",
              "      <td>1</td>\n",
              "      <td>V229</td>\n",
              "      <td>24.750282</td>\n",
              "      <td>46.623683</td>\n",
              "      <td>2022-03-17 21:12:00</td>\n",
              "      <td>Thursday</td>\n",
              "      <td>V228</td>\n",
              "      <td>Blue Garden</td>\n",
              "      <td>Lebanese Restaurant</td>\n",
              "    </tr>\n",
              "    <tr>\n",
              "      <th>26</th>\n",
              "      <td>1</td>\n",
              "      <td>V230</td>\n",
              "      <td>24.738741</td>\n",
              "      <td>46.635276</td>\n",
              "      <td>2022-03-30 10:01:00</td>\n",
              "      <td>Wednesday</td>\n",
              "      <td>V229</td>\n",
              "      <td>CROWNE PLAZA</td>\n",
              "      <td>Hotel</td>\n",
              "    </tr>\n",
              "    <tr>\n",
              "      <th>27</th>\n",
              "      <td>1</td>\n",
              "      <td>V08</td>\n",
              "      <td>24.851020</td>\n",
              "      <td>46.673805</td>\n",
              "      <td>2022-05-09 08:15:00</td>\n",
              "      <td>Monday</td>\n",
              "      <td>V230</td>\n",
              "      <td>Starbucks</td>\n",
              "      <td>Coffee Shop</td>\n",
              "    </tr>\n",
              "    <tr>\n",
              "      <th>28</th>\n",
              "      <td>1</td>\n",
              "      <td>V08</td>\n",
              "      <td>24.851020</td>\n",
              "      <td>46.673805</td>\n",
              "      <td>2022-05-12 08:24:00</td>\n",
              "      <td>Friday</td>\n",
              "      <td>V08</td>\n",
              "      <td>Starbucks</td>\n",
              "      <td>Coffee Shop</td>\n",
              "    </tr>\n",
              "    <tr>\n",
              "      <th>29</th>\n",
              "      <td>1</td>\n",
              "      <td>V08</td>\n",
              "      <td>24.851020</td>\n",
              "      <td>46.673805</td>\n",
              "      <td>2022-05-23 07:11:00</td>\n",
              "      <td>Monday</td>\n",
              "      <td>V08</td>\n",
              "      <td>Starbucks</td>\n",
              "      <td>Coffee Shop</td>\n",
              "    </tr>\n",
              "    <tr>\n",
              "      <th>30</th>\n",
              "      <td>1</td>\n",
              "      <td>V07</td>\n",
              "      <td>24.888484</td>\n",
              "      <td>46.618860</td>\n",
              "      <td>2022-06-04 19:46:00</td>\n",
              "      <td>Saturday</td>\n",
              "      <td>V08</td>\n",
              "      <td>Veloce</td>\n",
              "      <td>Coffee Shop</td>\n",
              "    </tr>\n",
              "    <tr>\n",
              "      <th>31</th>\n",
              "      <td>1</td>\n",
              "      <td>V06</td>\n",
              "      <td>24.958437</td>\n",
              "      <td>46.702795</td>\n",
              "      <td>2022-07-30 11:59:00</td>\n",
              "      <td>Saturday</td>\n",
              "      <td>V07</td>\n",
              "      <td>King Khalid International Airport</td>\n",
              "      <td>International Airport</td>\n",
              "    </tr>\n",
              "    <tr>\n",
              "      <th>32</th>\n",
              "      <td>1</td>\n",
              "      <td>V05</td>\n",
              "      <td>24.858572</td>\n",
              "      <td>46.646492</td>\n",
              "      <td>2022-07-31 13:47:00</td>\n",
              "      <td>Sunday</td>\n",
              "      <td>V06</td>\n",
              "      <td>Starbucks</td>\n",
              "      <td>Coffee Shop</td>\n",
              "    </tr>\n",
              "    <tr>\n",
              "      <th>33</th>\n",
              "      <td>1</td>\n",
              "      <td>V03</td>\n",
              "      <td>24.722389</td>\n",
              "      <td>46.678917</td>\n",
              "      <td>2022-08-01 20:39:00</td>\n",
              "      <td>Monday</td>\n",
              "      <td>V05</td>\n",
              "      <td>Shazin</td>\n",
              "      <td>Miscellaneous Store</td>\n",
              "    </tr>\n",
              "    <tr>\n",
              "      <th>34</th>\n",
              "      <td>1</td>\n",
              "      <td>V04</td>\n",
              "      <td>24.713180</td>\n",
              "      <td>46.675823</td>\n",
              "      <td>2022-08-01 21:39:00</td>\n",
              "      <td>Monday</td>\n",
              "      <td>V03</td>\n",
              "      <td>SHOE PALACE</td>\n",
              "      <td>Shoe Store</td>\n",
              "    </tr>\n",
              "    <tr>\n",
              "      <th>35</th>\n",
              "      <td>1</td>\n",
              "      <td>V01</td>\n",
              "      <td>24.693367</td>\n",
              "      <td>46.598449</td>\n",
              "      <td>2024-09-11 20:18:00</td>\n",
              "      <td>Wednesday</td>\n",
              "      <td>V04</td>\n",
              "      <td>BELMONT Coffee House</td>\n",
              "      <td>Coffee Shop</td>\n",
              "    </tr>\n",
              "    <tr>\n",
              "      <th>36</th>\n",
              "      <td>1</td>\n",
              "      <td>V02</td>\n",
              "      <td>24.733212</td>\n",
              "      <td>46.645169</td>\n",
              "      <td>2024-09-11 20:42:00</td>\n",
              "      <td>Wednesday</td>\n",
              "      <td>V01</td>\n",
              "      <td>KHOLASA</td>\n",
              "      <td>Coffee Shop</td>\n",
              "    </tr>\n",
              "    <tr>\n",
              "      <th>37</th>\n",
              "      <td>2</td>\n",
              "      <td>V60</td>\n",
              "      <td>24.664490</td>\n",
              "      <td>46.644720</td>\n",
              "      <td>2022-07-11 12:47:00</td>\n",
              "      <td>Monday</td>\n",
              "      <td>None</td>\n",
              "      <td>Al Diwann</td>\n",
              "      <td>Government Building</td>\n",
              "    </tr>\n",
              "    <tr>\n",
              "      <th>38</th>\n",
              "      <td>2</td>\n",
              "      <td>V09</td>\n",
              "      <td>24.778083</td>\n",
              "      <td>46.662694</td>\n",
              "      <td>2022-08-29 20:07:00</td>\n",
              "      <td>Monday</td>\n",
              "      <td>V60</td>\n",
              "      <td>Ghandoura</td>\n",
              "      <td>Coffee Shop</td>\n",
              "    </tr>\n",
              "    <tr>\n",
              "      <th>39</th>\n",
              "      <td>2</td>\n",
              "      <td>V11</td>\n",
              "      <td>24.726230</td>\n",
              "      <td>46.652404</td>\n",
              "      <td>2022-09-14 00:00:00</td>\n",
              "      <td>Wednesday</td>\n",
              "      <td>V09</td>\n",
              "      <td>Shadow Lounge</td>\n",
              "      <td>Lounge</td>\n",
              "    </tr>\n",
              "    <tr>\n",
              "      <th>40</th>\n",
              "      <td>2</td>\n",
              "      <td>V12</td>\n",
              "      <td>24.757000</td>\n",
              "      <td>46.607444</td>\n",
              "      <td>2022-09-15 23:45:00</td>\n",
              "      <td>Thursday</td>\n",
              "      <td>V11</td>\n",
              "      <td>Monkey House</td>\n",
              "      <td>Latin American Restaurant</td>\n",
              "    </tr>\n",
              "    <tr>\n",
              "      <th>41</th>\n",
              "      <td>2</td>\n",
              "      <td>V09</td>\n",
              "      <td>24.778083</td>\n",
              "      <td>46.662694</td>\n",
              "      <td>2022-09-25 13:03:00</td>\n",
              "      <td>Sunday</td>\n",
              "      <td>V12</td>\n",
              "      <td>Ghandoura</td>\n",
              "      <td>Coffee Shop</td>\n",
              "    </tr>\n",
              "    <tr>\n",
              "      <th>42</th>\n",
              "      <td>2</td>\n",
              "      <td>V14</td>\n",
              "      <td>24.793015</td>\n",
              "      <td>46.649209</td>\n",
              "      <td>2022-09-26 21:16:00</td>\n",
              "      <td>Monday</td>\n",
              "      <td>V09</td>\n",
              "      <td>Flame</td>\n",
              "      <td>Coffee Shop</td>\n",
              "    </tr>\n",
              "    <tr>\n",
              "      <th>43</th>\n",
              "      <td>2</td>\n",
              "      <td>V09</td>\n",
              "      <td>24.778083</td>\n",
              "      <td>46.662694</td>\n",
              "      <td>2022-09-28 08:31:00</td>\n",
              "      <td>Wednesday</td>\n",
              "      <td>V14</td>\n",
              "      <td>Ghandoura</td>\n",
              "      <td>Coffee Shop</td>\n",
              "    </tr>\n",
              "    <tr>\n",
              "      <th>44</th>\n",
              "      <td>2</td>\n",
              "      <td>V15</td>\n",
              "      <td>24.695139</td>\n",
              "      <td>46.684694</td>\n",
              "      <td>2022-10-19 08:30:00</td>\n",
              "      <td>Wednesday</td>\n",
              "      <td>V09</td>\n",
              "      <td>Bossco</td>\n",
              "      <td>Coffee Shop</td>\n",
              "    </tr>\n",
              "    <tr>\n",
              "      <th>45</th>\n",
              "      <td>2</td>\n",
              "      <td>V16</td>\n",
              "      <td>24.675198</td>\n",
              "      <td>46.625123</td>\n",
              "      <td>2022-10-29 21:50:00</td>\n",
              "      <td>Wednesday</td>\n",
              "      <td>V15</td>\n",
              "      <td>Crazy Pizza</td>\n",
              "      <td>Italian Restaurant</td>\n",
              "    </tr>\n",
              "    <tr>\n",
              "      <th>46</th>\n",
              "      <td>2</td>\n",
              "      <td>V61</td>\n",
              "      <td>24.693167</td>\n",
              "      <td>46.632194</td>\n",
              "      <td>2022-12-15 20:21:00</td>\n",
              "      <td>Thursday</td>\n",
              "      <td>V16</td>\n",
              "      <td>North Audley Cantine</td>\n",
              "      <td>French Restaurant</td>\n",
              "    </tr>\n",
              "    <tr>\n",
              "      <th>47</th>\n",
              "      <td>2</td>\n",
              "      <td>V12</td>\n",
              "      <td>24.757000</td>\n",
              "      <td>46.607444</td>\n",
              "      <td>2022-12-15 22:16:00</td>\n",
              "      <td>Thursday</td>\n",
              "      <td>V61</td>\n",
              "      <td>Monkey House</td>\n",
              "      <td>Latin American Restaurant</td>\n",
              "    </tr>\n",
              "    <tr>\n",
              "      <th>48</th>\n",
              "      <td>2</td>\n",
              "      <td>V63</td>\n",
              "      <td>24.731833</td>\n",
              "      <td>46.648000</td>\n",
              "      <td>2022-12-24 14:11:00</td>\n",
              "      <td>Saturday</td>\n",
              "      <td>V12</td>\n",
              "      <td>Arabica</td>\n",
              "      <td>Coffee Shop</td>\n",
              "    </tr>\n",
              "    <tr>\n",
              "      <th>49</th>\n",
              "      <td>2</td>\n",
              "      <td>V64</td>\n",
              "      <td>24.940833</td>\n",
              "      <td>46.713500</td>\n",
              "      <td>2023-01-08 10:36:00</td>\n",
              "      <td>Sunday</td>\n",
              "      <td>V63</td>\n",
              "      <td>King Khalid Airport</td>\n",
              "      <td>Travel Lounge</td>\n",
              "    </tr>\n",
              "  </tbody>\n",
              "</table>\n",
              "</div>\n",
              "    <div class=\"colab-df-buttons\">\n",
              "\n",
              "  <div class=\"colab-df-container\">\n",
              "    <button class=\"colab-df-convert\" onclick=\"convertToInteractive('df-b2c955f3-6300-494c-a1da-565c209ad5d5')\"\n",
              "            title=\"Convert this dataframe to an interactive table.\"\n",
              "            style=\"display:none;\">\n",
              "\n",
              "  <svg xmlns=\"http://www.w3.org/2000/svg\" height=\"24px\" viewBox=\"0 -960 960 960\">\n",
              "    <path d=\"M120-120v-720h720v720H120Zm60-500h600v-160H180v160Zm220 220h160v-160H400v160Zm0 220h160v-160H400v160ZM180-400h160v-160H180v160Zm440 0h160v-160H620v160ZM180-180h160v-160H180v160Zm440 0h160v-160H620v160Z\"/>\n",
              "  </svg>\n",
              "    </button>\n",
              "\n",
              "  <style>\n",
              "    .colab-df-container {\n",
              "      display:flex;\n",
              "      gap: 12px;\n",
              "    }\n",
              "\n",
              "    .colab-df-convert {\n",
              "      background-color: #E8F0FE;\n",
              "      border: none;\n",
              "      border-radius: 50%;\n",
              "      cursor: pointer;\n",
              "      display: none;\n",
              "      fill: #1967D2;\n",
              "      height: 32px;\n",
              "      padding: 0 0 0 0;\n",
              "      width: 32px;\n",
              "    }\n",
              "\n",
              "    .colab-df-convert:hover {\n",
              "      background-color: #E2EBFA;\n",
              "      box-shadow: 0px 1px 2px rgba(60, 64, 67, 0.3), 0px 1px 3px 1px rgba(60, 64, 67, 0.15);\n",
              "      fill: #174EA6;\n",
              "    }\n",
              "\n",
              "    .colab-df-buttons div {\n",
              "      margin-bottom: 4px;\n",
              "    }\n",
              "\n",
              "    [theme=dark] .colab-df-convert {\n",
              "      background-color: #3B4455;\n",
              "      fill: #D2E3FC;\n",
              "    }\n",
              "\n",
              "    [theme=dark] .colab-df-convert:hover {\n",
              "      background-color: #434B5C;\n",
              "      box-shadow: 0px 1px 3px 1px rgba(0, 0, 0, 0.15);\n",
              "      filter: drop-shadow(0px 1px 2px rgba(0, 0, 0, 0.3));\n",
              "      fill: #FFFFFF;\n",
              "    }\n",
              "  </style>\n",
              "\n",
              "    <script>\n",
              "      const buttonEl =\n",
              "        document.querySelector('#df-b2c955f3-6300-494c-a1da-565c209ad5d5 button.colab-df-convert');\n",
              "      buttonEl.style.display =\n",
              "        google.colab.kernel.accessAllowed ? 'block' : 'none';\n",
              "\n",
              "      async function convertToInteractive(key) {\n",
              "        const element = document.querySelector('#df-b2c955f3-6300-494c-a1da-565c209ad5d5');\n",
              "        const dataTable =\n",
              "          await google.colab.kernel.invokeFunction('convertToInteractive',\n",
              "                                                    [key], {});\n",
              "        if (!dataTable) return;\n",
              "\n",
              "        const docLinkHtml = 'Like what you see? Visit the ' +\n",
              "          '<a target=\"_blank\" href=https://colab.research.google.com/notebooks/data_table.ipynb>data table notebook</a>'\n",
              "          + ' to learn more about interactive tables.';\n",
              "        element.innerHTML = '';\n",
              "        dataTable['output_type'] = 'display_data';\n",
              "        await google.colab.output.renderOutput(dataTable, element);\n",
              "        const docLink = document.createElement('div');\n",
              "        docLink.innerHTML = docLinkHtml;\n",
              "        element.appendChild(docLink);\n",
              "      }\n",
              "    </script>\n",
              "  </div>\n",
              "\n",
              "\n",
              "<div id=\"df-28e81aa1-a39b-47f6-97af-1e3a34602608\">\n",
              "  <button class=\"colab-df-quickchart\" onclick=\"quickchart('df-28e81aa1-a39b-47f6-97af-1e3a34602608')\"\n",
              "            title=\"Suggest charts\"\n",
              "            style=\"display:none;\">\n",
              "\n",
              "<svg xmlns=\"http://www.w3.org/2000/svg\" height=\"24px\"viewBox=\"0 0 24 24\"\n",
              "     width=\"24px\">\n",
              "    <g>\n",
              "        <path d=\"M19 3H5c-1.1 0-2 .9-2 2v14c0 1.1.9 2 2 2h14c1.1 0 2-.9 2-2V5c0-1.1-.9-2-2-2zM9 17H7v-7h2v7zm4 0h-2V7h2v10zm4 0h-2v-4h2v4z\"/>\n",
              "    </g>\n",
              "</svg>\n",
              "  </button>\n",
              "\n",
              "<style>\n",
              "  .colab-df-quickchart {\n",
              "      --bg-color: #E8F0FE;\n",
              "      --fill-color: #1967D2;\n",
              "      --hover-bg-color: #E2EBFA;\n",
              "      --hover-fill-color: #174EA6;\n",
              "      --disabled-fill-color: #AAA;\n",
              "      --disabled-bg-color: #DDD;\n",
              "  }\n",
              "\n",
              "  [theme=dark] .colab-df-quickchart {\n",
              "      --bg-color: #3B4455;\n",
              "      --fill-color: #D2E3FC;\n",
              "      --hover-bg-color: #434B5C;\n",
              "      --hover-fill-color: #FFFFFF;\n",
              "      --disabled-bg-color: #3B4455;\n",
              "      --disabled-fill-color: #666;\n",
              "  }\n",
              "\n",
              "  .colab-df-quickchart {\n",
              "    background-color: var(--bg-color);\n",
              "    border: none;\n",
              "    border-radius: 50%;\n",
              "    cursor: pointer;\n",
              "    display: none;\n",
              "    fill: var(--fill-color);\n",
              "    height: 32px;\n",
              "    padding: 0;\n",
              "    width: 32px;\n",
              "  }\n",
              "\n",
              "  .colab-df-quickchart:hover {\n",
              "    background-color: var(--hover-bg-color);\n",
              "    box-shadow: 0 1px 2px rgba(60, 64, 67, 0.3), 0 1px 3px 1px rgba(60, 64, 67, 0.15);\n",
              "    fill: var(--button-hover-fill-color);\n",
              "  }\n",
              "\n",
              "  .colab-df-quickchart-complete:disabled,\n",
              "  .colab-df-quickchart-complete:disabled:hover {\n",
              "    background-color: var(--disabled-bg-color);\n",
              "    fill: var(--disabled-fill-color);\n",
              "    box-shadow: none;\n",
              "  }\n",
              "\n",
              "  .colab-df-spinner {\n",
              "    border: 2px solid var(--fill-color);\n",
              "    border-color: transparent;\n",
              "    border-bottom-color: var(--fill-color);\n",
              "    animation:\n",
              "      spin 1s steps(1) infinite;\n",
              "  }\n",
              "\n",
              "  @keyframes spin {\n",
              "    0% {\n",
              "      border-color: transparent;\n",
              "      border-bottom-color: var(--fill-color);\n",
              "      border-left-color: var(--fill-color);\n",
              "    }\n",
              "    20% {\n",
              "      border-color: transparent;\n",
              "      border-left-color: var(--fill-color);\n",
              "      border-top-color: var(--fill-color);\n",
              "    }\n",
              "    30% {\n",
              "      border-color: transparent;\n",
              "      border-left-color: var(--fill-color);\n",
              "      border-top-color: var(--fill-color);\n",
              "      border-right-color: var(--fill-color);\n",
              "    }\n",
              "    40% {\n",
              "      border-color: transparent;\n",
              "      border-right-color: var(--fill-color);\n",
              "      border-top-color: var(--fill-color);\n",
              "    }\n",
              "    60% {\n",
              "      border-color: transparent;\n",
              "      border-right-color: var(--fill-color);\n",
              "    }\n",
              "    80% {\n",
              "      border-color: transparent;\n",
              "      border-right-color: var(--fill-color);\n",
              "      border-bottom-color: var(--fill-color);\n",
              "    }\n",
              "    90% {\n",
              "      border-color: transparent;\n",
              "      border-bottom-color: var(--fill-color);\n",
              "    }\n",
              "  }\n",
              "</style>\n",
              "\n",
              "  <script>\n",
              "    async function quickchart(key) {\n",
              "      const quickchartButtonEl =\n",
              "        document.querySelector('#' + key + ' button');\n",
              "      quickchartButtonEl.disabled = true;  // To prevent multiple clicks.\n",
              "      quickchartButtonEl.classList.add('colab-df-spinner');\n",
              "      try {\n",
              "        const charts = await google.colab.kernel.invokeFunction(\n",
              "            'suggestCharts', [key], {});\n",
              "      } catch (error) {\n",
              "        console.error('Error during call to suggestCharts:', error);\n",
              "      }\n",
              "      quickchartButtonEl.classList.remove('colab-df-spinner');\n",
              "      quickchartButtonEl.classList.add('colab-df-quickchart-complete');\n",
              "    }\n",
              "    (() => {\n",
              "      let quickchartButtonEl =\n",
              "        document.querySelector('#df-28e81aa1-a39b-47f6-97af-1e3a34602608 button');\n",
              "      quickchartButtonEl.style.display =\n",
              "        google.colab.kernel.accessAllowed ? 'block' : 'none';\n",
              "    })();\n",
              "  </script>\n",
              "</div>\n",
              "\n",
              "    </div>\n",
              "  </div>\n"
            ],
            "application/vnd.google.colaboratory.intrinsic+json": {
              "type": "dataframe",
              "variable_name": "df",
              "summary": "{\n  \"name\": \"df\",\n  \"rows\": 987,\n  \"fields\": [\n    {\n      \"column\": \"User ID\",\n      \"properties\": {\n        \"dtype\": \"number\",\n        \"std\": 7,\n        \"min\": 1,\n        \"max\": 23,\n        \"num_unique_values\": 23,\n        \"samples\": [\n          16,\n          10,\n          1\n        ],\n        \"semantic_type\": \"\",\n        \"description\": \"\"\n      }\n    },\n    {\n      \"column\": \"Venue ID\",\n      \"properties\": {\n        \"dtype\": \"string\",\n        \"num_unique_values\": 587,\n        \"samples\": [\n          \"V492\",\n          \"V102\",\n          \"V484\"\n        ],\n        \"semantic_type\": \"\",\n        \"description\": \"\"\n      }\n    },\n    {\n      \"column\": \"Latitude\",\n      \"properties\": {\n        \"dtype\": \"number\",\n        \"std\": 2.205037822512029,\n        \"min\": 18.238822,\n        \"max\": 46.818889,\n        \"num_unique_values\": 530,\n        \"samples\": [\n          24.707861,\n          24.808222,\n          24.736002\n        ],\n        \"semantic_type\": \"\",\n        \"description\": \"\"\n      }\n    },\n    {\n      \"column\": \"Longitude\",\n      \"properties\": {\n        \"dtype\": \"number\",\n        \"std\": 2.1917300847625043,\n        \"min\": 24.783306,\n        \"max\": 46.854944,\n        \"num_unique_values\": 536,\n        \"samples\": [\n          46.680694,\n          46.773806,\n          46.57775\n        ],\n        \"semantic_type\": \"\",\n        \"description\": \"\"\n      }\n    },\n    {\n      \"column\": \"Check-in Time\",\n      \"properties\": {\n        \"dtype\": \"date\",\n        \"min\": \"2020-12-20 21:41:00\",\n        \"max\": \"2025-01-28 22:57:00\",\n        \"num_unique_values\": 983,\n        \"samples\": [\n          \"2025-01-03 23:08:00\",\n          \"2024-11-14 14:20:00\",\n          \"2025-01-09 20:03:00\"\n        ],\n        \"semantic_type\": \"\",\n        \"description\": \"\"\n      }\n    },\n    {\n      \"column\": \"Day\",\n      \"properties\": {\n        \"dtype\": \"category\",\n        \"num_unique_values\": 7,\n        \"samples\": [\n          \"Tuesday\",\n          \"Wednesday\",\n          \"Monday\"\n        ],\n        \"semantic_type\": \"\",\n        \"description\": \"\"\n      }\n    },\n    {\n      \"column\": \"Previous Venue ID\",\n      \"properties\": {\n        \"dtype\": \"string\",\n        \"num_unique_values\": 575,\n        \"samples\": [\n          \"V143\",\n          \"V366\",\n          \"V100\"\n        ],\n        \"semantic_type\": \"\",\n        \"description\": \"\"\n      }\n    },\n    {\n      \"column\": \"Venue Name\",\n      \"properties\": {\n        \"dtype\": \"string\",\n        \"num_unique_values\": 508,\n        \"samples\": [\n          \"Riyadh Park Mall\",\n          \"Cartier\",\n          \"Sarena SAFEIS\"\n        ],\n        \"semantic_type\": \"\",\n        \"description\": \"\"\n      }\n    },\n    {\n      \"column\": \"Venue Category\",\n      \"properties\": {\n        \"dtype\": \"category\",\n        \"num_unique_values\": 137,\n        \"samples\": [\n          \"Juice Bar \",\n          \"Toy Store\",\n          \"Convention\"\n        ],\n        \"semantic_type\": \"\",\n        \"description\": \"\"\n      }\n    }\n  ]\n}"
            }
          },
          "metadata": {},
          "execution_count": 19
        }
      ]
    },
    {
      "cell_type": "markdown",
      "source": [
        "## Step 6: Detect & Remove Outliers Based on Geographic Boundaries\n",
        "### 6.1 Visualize initial latitude and longitude values before filtering.\n"
      ],
      "metadata": {
        "id": "2KYHstk4c2zb"
      }
    },
    {
      "cell_type": "code",
      "source": [
        "# Visualize latitude and longitude values before filtering\n",
        "plt.figure(figsize=(10, 5))\n",
        "sns.scatterplot(data=df, x='Longitude', y='Latitude', hue='Latitude', palette='coolwarm', edgecolor='k')\n",
        "plt.title('Scatter Plot of Latitude and Longitude (Before Outlier Removal)')\n",
        "plt.xlabel('Longitude')\n",
        "plt.ylabel('Latitude')\n",
        "plt.show()"
      ],
      "metadata": {
        "colab": {
          "base_uri": "https://localhost:8080/",
          "height": 368
        },
        "id": "6PDHY3xJcrkb",
        "outputId": "976b59ec-8e04-4da6-ccf7-b55fd66c98ba"
      },
      "execution_count": null,
      "outputs": [
        {
          "output_type": "display_data",
          "data": {
            "text/plain": [
              "<Figure size 1000x500 with 1 Axes>"
            ],
            "image/png": "[encoded data removed]"
          },
          "metadata": {}
        }
      ]
    },
    {
      "cell_type": "markdown",
      "source": [
        "### 6.2 Filter latitude and longitude to ensure they fall within Riyadh’s approximate boundaries.\n",
        "- Latitude: 24.4° ≤ Latitude ≤ 25.1°  \n",
        "- Longitude: 46.4° ≤ Longitude ≤ 47.2°\n"
      ],
      "metadata": {
        "id": "tui8fpYhyrKc"
      }
    },
    {
      "cell_type": "code",
      "source": [
        "# Filter rows based on geographic boundaries of Riyadh\n",
        "filtered_df = df[\n",
        "    (df['Latitude'] >= 24.4) & (df['Latitude'] <= 25.1) &\n",
        "    (df['Longitude'] >= 46.4) & (df['Longitude'] <= 47.2)\n",
        "]\n",
        "\n",
        "# Display the number of rows before and after filtering\n",
        "print(f\"Number of rows before filtering: {len(df)}\")\n",
        "print(f\"Number of rows after filtering: {len(filtered_df)}\")"
      ],
      "metadata": {
        "colab": {
          "base_uri": "https://localhost:8080/"
        },
        "id": "Y6JeXEnzystU",
        "outputId": "5459c601-706b-4050-825c-d01cdefc3c8c"
      },
      "execution_count": null,
      "outputs": [
        {
          "output_type": "stream",
          "name": "stdout",
          "text": [
            "Number of rows before filtering: 987\n",
            "Number of rows after filtering: 968\n"
          ]
        }
      ]
    },
    {
      "cell_type": "markdown",
      "source": [
        "### 6.3 Display the filtered latitude and longitude values.\n"
      ],
      "metadata": {
        "id": "HHvbhop-zE1g"
      }
    },
    {
      "cell_type": "code",
      "source": [
        "# Identify and display the deleted outliers\n",
        "outliers = df[~df.index.isin(filtered_df.index)]\n",
        "\n",
        "# Display the first few outliers\n",
        "print(\"Deleted outliers (latitude and longitude values outside Riyadh's boundaries):\")\n",
        "print(outliers[['Latitude', 'Longitude']])\n"
      ],
      "metadata": {
        "colab": {
          "base_uri": "https://localhost:8080/"
        },
        "id": "025P8wdEzKPf",
        "outputId": "b3bab44c-ae0a-478e-89a8-0c20e0afefda"
      },
      "execution_count": null,
      "outputs": [
        {
          "output_type": "stream",
          "name": "stdout",
          "text": [
            "Deleted outliers (latitude and longitude values outside Riyadh's boundaries):\n",
            "      Latitude  Longitude\n",
            "19   18.238822  42.581651\n",
            "71   46.638306  24.874917\n",
            "72   46.818889  24.871139\n",
            "73   46.638306  24.874917\n",
            "74   46.606833  24.812694\n",
            "75   46.652250  24.783306\n",
            "221  24.775083  46.371167\n",
            "227  25.354083  46.452000\n",
            "230  24.775083  46.371167\n",
            "274  24.599528  46.133750\n",
            "371  24.775083  46.371167\n",
            "379  25.101889  46.645861\n",
            "396  46.621000  24.815444\n",
            "407  46.621000  24.815444\n",
            "408  46.636556  24.790250\n",
            "413  46.621000  24.815444\n",
            "423  46.621000  24.815444\n",
            "852  24.461833  46.251639\n",
            "872  24.461833  46.251639\n"
          ]
        }
      ]
    },
    {
      "cell_type": "code",
      "source": [
        "# Reassign filtered data to df\n",
        "df = filtered_df\n",
        "\n",
        "# Visualize filtered latitude and longitude values\n",
        "sns.scatterplot(data=df, x='Longitude', y='Latitude', hue='Latitude', palette='coolwarm', edgecolor='k')\n",
        "plt.title('Scatter Plot of Latitude and Longitude (After Outlier Removal)')\n",
        "plt.xlabel('Longitude')\n",
        "plt.ylabel('Latitude')\n",
        "plt.show()"
      ],
      "metadata": {
        "colab": {
          "base_uri": "https://localhost:8080/",
          "height": 472
        },
        "id": "xfC_HFp95fV2",
        "outputId": "2a7918ef-bd08-468e-ab57-464ed0d65e25"
      },
      "execution_count": null,
      "outputs": [
        {
          "output_type": "display_data",
          "data": {
            "text/plain": [
              "<Figure size 640x480 with 1 Axes>"
            ],
            "image/png": "[encoded data removed]"
          },
          "metadata": {}
        }
      ]
    },
    {
      "cell_type": "markdown",
      "source": [
        "## Step 7: Check and Fix Timestamp Inconsistencies\n",
        "### 7.1 Display the distribution of timestamps before filtering.\n"
      ],
      "metadata": {
        "id": "uilw02D8k-xu"
      }
    },
    {
      "cell_type": "code",
      "source": [
        "# Display basic statistics of the Check-in Time column\n",
        "print(\"Basic statistics of Check-in Time before filtering:\")\n",
        "print(df['Check-in Time'].describe(),\"\\n\")\n",
        "\n",
        "# Histogram to visualize the distribution of timestamps\n",
        "plt.figure(figsize=(10, 5))\n",
        "df['Check-in Time'].hist(bins=30, color='skyblue', edgecolor='black')\n",
        "plt.title('Distribution of Check-in Times Before Filtering')\n",
        "plt.xlabel('Check-in Time')\n",
        "plt.ylabel('Frequency')\n",
        "plt.xticks(rotation=45)\n",
        "plt.show()\n"
      ],
      "metadata": {
        "colab": {
          "base_uri": "https://localhost:8080/",
          "height": 565
        },
        "id": "Zs5tWKfuc8yg",
        "outputId": "da958890-688b-495a-81e8-4761482f07ed"
      },
      "execution_count": null,
      "outputs": [
        {
          "output_type": "stream",
          "name": "stdout",
          "text": [
            "Basic statistics of Check-in Time before filtering:\n",
            "count                              968\n",
            "mean     2023-11-19 07:02:37.438006016\n",
            "min                2020-12-20 21:41:00\n",
            "25%                2023-06-02 17:56:15\n",
            "50%                2024-03-27 01:07:00\n",
            "75%                2024-08-08 00:21:30\n",
            "max                2025-01-28 22:57:00\n",
            "Name: Check-in Time, dtype: object \n",
            "\n"
          ]
        },
        {
          "output_type": "display_data",
          "data": {
            "text/plain": [
              "<Figure size 1000x500 with 1 Axes>"
            ],
            "image/png": "[encoded data removed]"
          },
          "metadata": {}
        }
      ]
    },
    {
      "cell_type": "markdown",
      "source": [
        "### 7.2 Filter out future dates and dates before 2021.\n"
      ],
      "metadata": {
        "id": "GQJrpvR57QF6"
      }
    },
    {
      "cell_type": "code",
      "source": [
        "# Define the date range\n",
        "start_date = '2021-01-01'\n",
        "end_date = datetime.now().strftime('%Y-%m-%d')\n",
        "\n",
        "# Filter the dataframe\n",
        "filtered_timestamps_df = df[\n",
        "    (df['Check-in Time'] >= start_date) & (df['Check-in Time'] <= end_date)\n",
        "]\n",
        "\n",
        "# Display number of rows before and after filtering\n",
        "print(f\"Number of rows before timestamp filtering: {len(df)}\")\n",
        "print(f\"Number of rows after timestamp filtering: {len(filtered_timestamps_df)}\")"
      ],
      "metadata": {
        "colab": {
          "base_uri": "https://localhost:8080/"
        },
        "id": "CkaCGI647Sox",
        "outputId": "077228a8-efbb-4696-a944-c4fad1f0198f"
      },
      "execution_count": null,
      "outputs": [
        {
          "output_type": "stream",
          "name": "stdout",
          "text": [
            "Number of rows before timestamp filtering: 968\n",
            "Number of rows after timestamp filtering: 964\n"
          ]
        }
      ]
    },
    {
      "cell_type": "markdown",
      "source": [
        "### 7.3 Display the distribution of timestamps after filtering.\n"
      ],
      "metadata": {
        "id": "aCYC2svO-DZM"
      }
    },
    {
      "cell_type": "code",
      "source": [
        "# Reassign filtered data to df\n",
        "df = filtered_timestamps_df\n",
        "\n",
        "# Histogram to visualize the distribution of timestamps after filtering\n",
        "plt.figure(figsize=(10, 5))\n",
        "df['Check-in Time'].hist(bins=30, color='skyblue', edgecolor='black')\n",
        "plt.title('Distribution of Check-in Times After Filtering')\n",
        "plt.xlabel('Check-in Time')\n",
        "plt.ylabel('Frequency')\n",
        "plt.xticks(rotation=45)\n",
        "plt.show()"
      ],
      "metadata": {
        "colab": {
          "base_uri": "https://localhost:8080/",
          "height": 392
        },
        "id": "3OsjoTKY-Ef1",
        "outputId": "d959aff8-a5e6-4dcf-d02a-7d63b98e0b71"
      },
      "execution_count": null,
      "outputs": [
        {
          "output_type": "display_data",
          "data": {
            "text/plain": [
              "<Figure size 1000x500 with 1 Axes>"
            ],
            "image/png": "[encoded data removed]"
          },
          "metadata": {}
        }
      ]
    },
    {
      "cell_type": "markdown",
      "source": [
        "## Step 8: Standardize Venue Names\n",
        "### 8.1 Count and print venue names before handling duplicates.\n"
      ],
      "metadata": {
        "id": "ohCM4bvAwQet"
      }
    },
    {
      "cell_type": "code",
      "source": [
        "# Count and display unique venue names before handling duplicates\n",
        "print(\"Number of unique venue names before standardization:\")\n",
        "print(df['Venue Name'].nunique())\n",
        "\n",
        "# Display a sample of venue names\n",
        "print(\"\\nall unique venue names:\")\n",
        "print(sorted(df['Venue Name'].unique()))\n"
      ],
      "metadata": {
        "colab": {
          "base_uri": "https://localhost:8080/"
        },
        "id": "gxkAqcAwwWHT",
        "outputId": "8215e042-caad-461a-f038-e053b0adcad6"
      },
      "execution_count": null,
      "outputs": [
        {
          "output_type": "stream",
          "name": "stdout",
          "text": [
            "Number of unique venue names before standardization:\n",
            "496\n",
            "\n",
            "all unique venue names:\n",
            "['48Avenue Roasting Coffee', '4Padel', '4twins truck', '7 Ribs', '7Ribs', '8 Portions', '88 Shots Café', 'A12 CAFE', 'ALBujairi Terrace', 'ALMamlaka Social Dining', 'AMC Cinemas', 'ATMOSPHERE', 'Abu Waleed Tea', 'Address Café', 'Adic2 Lounge', 'Aelin', 'Agio', 'Agora', 'Ajam Coffee', 'Al Bujairi Terrace', 'Al Diriyah', 'Al Diwann', 'Al Faisaliah Tower', 'Al Faisaliyah Tower', 'Al Falamanki', 'Al Ghadeer Walkway', 'Al Kanari Park', 'Al Mamlaka Social Dining', 'Al Mamlaka Social Dining at Kingdom Center', 'Al Nada Garden', 'Al Nakheel Boulevard', 'Al Nakheel Mall', 'Al Sawedi Park', 'Alawwal Park', 'Alice Lounge', 'Alkharof', 'Alnada', 'Alsafarat', 'Alshurfa', 'Alwaal Albari', \"Anne's Red Hair\", 'Arabica', 'Arabica Roastery ', 'Arbol Lounge', 'Archi', 'Aseeb Najdi Restaurant', 'Aster Sanad Hospital', 'Atmosphere', 'Attache', 'Avindar', 'Aziz Tea', 'BELMONT Cofee House', 'BELMONT Coffee House', 'BELONG ', 'BISAT', 'BLANCA', 'BLVD WORLD', 'BULLSEYE', \"Ba'a Bakehouse\", 'Bab', 'Bagatelle', 'Balcona 99', 'Be Fine', 'Be Karam', 'BeFine', 'Behind Coffee', 'Beit Al Khawaja', 'Belomont Coffee House', 'Belong Speciality Coffee', 'Biga Burger', 'Billionaire', 'Birdlot', 'Blue Garden', 'Blue Pay Bowling ', \"Bob's\", 'Bolevard', 'Bonzai ', 'Bossco', 'Brazil Studio Salon', 'Breehant Roastery', 'Bridlot', 'Burger Boutique', 'Burger Hunch ', 'CIAO', 'CIAO!', 'COBEE Coffee', 'COMFY', 'COYARD Coffee Roasters', 'CROI BAKE HOUSE', 'CROWNE PLAZA', 'CURVE R', 'Cacti Café ', 'Cafe Bateel', 'Café Kitsuné', 'Café Lilou', 'Calamantina', 'Calibrated Coffee Roasters', 'Camel Step Roasters', 'Caoua', 'Caribou Coffee', 'Cartier', 'Catch 22', 'Centria', 'Century Corner', 'Cheminee', 'Chino', 'Chocomelt', 'Coal', 'Coffee Addicts', 'Coffee Maliha', 'Coffee Trees', 'Coffee address', 'Copper', 'Crazy Pizza', 'Cross', 'Crème', 'Cucina Di Yass', 'DA NONNA', 'DOLCI SPECIALI', 'Da Nonna', 'Dank Sandwich', 'Dar Al Auja', 'Dar Ward', 'Deem Plaza', 'Diet Center', 'Digital City', 'Dips-plus', 'Diriyah Biennale', 'Diriyah Festival', 'Diriyah Nignts ', 'Doff ', 'Dopeamine', 'DoubleTree by Hilton Riyadh Financial District', 'Dr.Sulaiman Al Habib Medical Center', 'Drip Coffee', 'Dunkin', 'Dunkin - Drive Thru', \"Dunkin' Donuts\", 'Dwar Alsada', 'ELCT', 'ETTAQ', 'EZE-MOOD', 'Earthy Center | Chiropractic', 'Eataly', 'Eclat', 'Elixir Bunn Coffee Roasters', 'Em Sherif Café', 'Enekas', 'Ennaq Coffee', 'Entrecote Cafe de Paris', 'Entrecote Cafe de Paris ', \"Entrecote Cafe' de Paris at Laysen Valley\", 'Exlixir Bunn Coffee Roasters at Turki Square', 'FELT Speciality Coffee', 'FLAME Specialty Coffee', 'FOAM', 'Fabrica De Cafe', 'Face/off cafe/نبع الدرعيه', 'Falafel Dam', 'Fenaa Alawwal', 'Ferdi', 'Finding Sushi', 'Flame ', 'Floated', 'Four Seasons Hotel', 'Fresh Garden ', 'Full Stop', 'GHANDOURA', 'Ghandoura', 'Gharanada Park', 'Gharanada Walking Track', 'Go Greek', 'Goat Step', 'Good Neighbor', 'Grilled Burger 777', 'Groon Coffee Roasters', 'Groovy', 'Gymkhana', 'HAI Coffee & Roasters', 'HASEEL', 'HATABA', 'HODAJ', 'HUQQA', 'Habibah Sweets', 'Half Million', 'Hamsa W Taghmeesa', 'Hayat Mall', 'Hilton Riyadh Hotel& Residences', 'Hitteen Garden', 'Hjeen Roasters', 'Home Offices', 'I One', 'IDMI Coffee', 'IDMI Coffee Roasting Co.', 'IK Coffee', 'IORTO Lounge', 'IOTA', 'Ice Cream 36 & Coffee', 'Idmi Coffee', 'Iris Café', 'Irqah Walk', 'Ithra United', 'JAZEAN', 'JOE&THE JUICE', 'JYS Specialty Coffee', 'Jabourih ', 'Jadeel', 'Jarir Bookstore', 'Jarlicious', 'Jax District', \"Joe's Cafe\", \"Jon & Vinny's \", 'Just a Space', 'KERNEL', 'KFC', 'KHOLASA', 'KIN', 'Kahwet Azmi', 'Karazah Restaurant', 'Kazouza', 'Kermes Coffee', 'Key Cafe', 'Kicksters', 'King Abdullah Center for Oncology and Liver Disease', 'King Abdullah Financial District', 'King Fahad Cultural Center', 'King Fahad Security College', 'King Faisal Specialist Hospital & Research Center (KFSHRC)', 'King Khalid Airport', 'King Khalid International Airport', 'King Khalid International Airport (RUH)', 'Kingdom Arena', 'Kingdom Centre', 'Klar', 'Knoll Coffee Roasters', 'Knoll Roastery', 'Kraz Speciality Coffee', 'Kraz Specialty coffee', 'Kultura', \"L'ETO\", 'LEAP22', 'LPM', 'La Bonte', 'La Roz Lounge', 'Lahma Wa Fahma', 'Laysen Valley', 'Lazy Cat', 'Le Maschou', 'Le Maschou at Sarh Park', 'Le Preessa', \"Le Relais de I'Entrecote\", \"Life Way's Medical\", 'Lulu Hookah Lounge', 'Lumiere Center', 'Lunch Room', 'Lute Tuwaiq', 'MADO', 'MARGIN', 'MEFIC Center', 'Madeleine', 'Madeo', 'Makan Mall', 'Mama Noura', 'Mamo Michelangelo', 'Mango Juice', 'Mansard Hotel', 'Maqloba', 'Margherita', 'Marriot Riyadh', 'Masgouf London', 'McCafe', \"McDonald's\", 'MindBreak', 'Modest', 'Monkey House', 'Monopoly', 'Mountain in Ad-Dirayah', 'Movenpick Hotel & Residences Riyadh', 'Mst Spa', 'Muvi Boutique', 'Muvi Cinemas', 'Muvi Cinemas at U Walk', 'Myazu', 'Myazú', \"NASHVILLE'S\", 'NASJ', 'NORA Burger', 'NOZOMI Riyadh', 'NOZOMI Riyadh ', 'Nails A Holic', 'Nails Glow', 'Najm Alshawarma', 'Namq', 'Narcissus Hotel and Residence', 'Narcissus Hotel lobby', 'Narcissus The Royal Hotel & Convention', 'Nasj Coffee', 'Nino', 'Nooa ', 'North Audley Cantine', 'November Coffee', 'Nr Spa', 'Nue By Nomad', 'ON OFF Coffee', 'ORIGIN COFFEE', 'ORIGIN COFFEE ROASTERS', 'OUD Square', 'OUIA', 'Ocean Spa', 'Okawa', 'Olivier', 'Olla', 'Ons Coffee Roasters', 'Out of Line', \"P. F. Chang's\", 'PALET', 'PASS ', 'PAVLA', 'PEAKS - The Tent ', 'PEÁKS - The Tent', 'PICK', 'Panorama Mall', 'Park Avenue', 'Patchi Cafe', 'Pattern Concept Store', 'Paws Café', 'Pistrina Bakery', \"Plenty Sld's\", 'PrimeCut', 'Primecut', 'Prince Faisal Bin Fahad Stadium', 'Public', 'Puffery', 'Pure Diamond', 'QUOKKA', 'Queen Anne', 'Quite ', 'RATIO', 'ROA Lounge', 'ROKA at Mid Town', 'ROSHN Front', 'ROSHN Front ', 'ROW Specialty Coffee', \"Raoul's\", 'Red Padel', 'Reel Cinemas', 'Reel Platinum Suites', \"Reference Cafe' and Roastery\", 'Rex Coffe', 'Richony Cafe', 'Richoux', 'Ritzcarlton', 'Riverwalk', 'Riyadh Gallery ', 'Riyadh Golf Courses', 'Riyadh Hills Park', 'Riyadh Park Mall', 'Riyadh Season', 'Riyadh Season Boulevard', 'Riyadh Season Boulevard ', 'Riyadh Shelter Veterinary Clinic', 'Robata', 'Rolex', 'Roma', 'Royal Mall', 'SAAD Square ', 'SALT Campsite', 'SHOE PALACE', 'SHOTS', 'SHiRO', 'SIDRA', 'SOCIABLE', 'SOME COFFEE BAR', 'SOME Coffee Bar', 'SUGARHIVE', 'SUSAM ', 'SUSHISAMBA', 'Saco World', 'Saddle House', 'Salam', 'Salam ', 'Salt', 'Salve Artisan Gelato', 'San Carlo Cicchetti', 'Sanctuary Spa By Beauty Care', 'Sanctuary Spa by Beauty Care', 'Sao Paulo Beauty', \"Sarabeth's\", 'Sarena SAFEIS', 'Secret Garden', 'Section-B', 'Semi', 'Semi Specialty Cafe', 'Sentio Cafe ', 'Seventies Coffee', 'Shadow Lounge', 'Shahrukhan Restaurant', 'Shawarma House', 'Shazin', 'She Burger', 'Shiro ', 'Shml', 'Shorofat Park', 'Shrimp Nation ', 'Shwkat', 'Sicilee Restaurant', 'Signor Sassi', 'Sikkah', 'Six Kings Slams', 'Sobhy Kaber', 'Social Cafe & Roastery', 'Sohba', 'Sohof', 'Some Tea', 'Somewhere', 'Soul Cafe', 'Souq Alawaleen', 'Spinneys', 'Sports Green Halll', 'Starbucks', 'Starbucks Drive Thru', 'Steak House', 'Sugar Hive ', 'Survival Cake', 'Swiss Butter', 'Syrup Stage ', 'TOLAT ETR', 'TOQA COFFEE', 'TRUTH Coffee Roastery', 'Tamimi Markets', 'Tao', 'Tea Colors', 'Temper Café', 'Terminal 2 at King Khalid International Airport (RUH)', 'Terminal 3 at King Khalid International Airport (RUH)', 'Texas Roadhouse', 'The Breakfast Club', 'The Business Gate', 'The Cheesecake Factory', 'The Escape Hotel', 'The Esplanade', 'The Health Bar by RAW', 'The Library Club', 'The Sift', 'The View Mall', 'The Zone', 'Third Café', 'Three Café', 'Tokyo', 'Toqa', 'Treat Salon', 'Trez Lechez', 'Truth Coffee Roastery', 'U Walk', 'ULICA Speciality Coffee', 'Urth Caffe', 'Uskuder Steak House ', 'VEO', 'VOX Cinemas', 'VOX Cinemas ', 'VOX Cinemas Gold', 'Value Cafe', 'Veloce', 'Via Riyadh', 'Villa Fayrouz', 'Volume Coffee Roasters', 'Volume Coffee Roasters at Back Yard', 'Vox Cinemas', 'WHJ CAFÉ', 'Wacafe', 'Wasl Cafe', 'Wed Sweets', 'White Shoe', 'Woods Cafe& Roastery', 'Y97 Specialty Coffee', 'Yamm Roasters', 'Yanni Coffe & Lounge', \"You're Chic Organic Beauty\", 'ZARA at U Walk', 'Zacci ', 'illy Caffe', 'lucy cafe', 'mkth', 'بائع الشاي', 'بطاطس جيزاني', 'حنطية كافيه', 'دوار السعادة', 'شاهي ابراهيم', 'شاهي ابو لمبة', 'شاهي لمة', 'شاي وسمسم', 'كتف', 'مركز التخصصي الطبي', 'مسكوب', 'ممشى طريق أنس بن مالك', 'ممشى ومنتزه عكاظ']\n"
          ]
        }
      ]
    },
    {
      "cell_type": "markdown",
      "source": [
        "### 8.2 Clean and Normalize Venue Names.\n"
      ],
      "metadata": {
        "id": "d0wTwQ0o_gHn"
      }
    },
    {
      "cell_type": "code",
      "source": [
        "# Function to clean venue names by removing non-alphanumeric characters (keeps Arabic and English letters)\n",
        "def clean_text(text):\n",
        "    text = str(text).lower()\n",
        "    text = re.sub(r'[^a-zA-Z0-9\\u0600-\\u06FF\\s]', '', text).strip()\n",
        "    text = re.sub(r'\\s+', ' ', text)  # Normalize multiple spaces to a single space\n",
        "    return text\n",
        "\n",
        "# Apply cleaning to venue names\n",
        "df['Venue Name'] = df['Venue Name'].apply(clean_text)\n",
        "\n",
        "# Count and display unique venue names after cleaning and normalizing\n",
        "print(\"Number of unique venue names after after cleaning and normalizing:\")\n",
        "print(df['Venue Name'].nunique())\n"
      ],
      "metadata": {
        "colab": {
          "base_uri": "https://localhost:8080/"
        },
        "id": "pEwnNCE4waHa",
        "outputId": "147eb3b8-d142-426a-9615-a24b6a05ca1c"
      },
      "execution_count": null,
      "outputs": [
        {
          "output_type": "stream",
          "name": "stdout",
          "text": [
            "Number of unique venue names after after cleaning and normalizing:\n",
            "479\n"
          ]
        },
        {
          "output_type": "stream",
          "name": "stderr",
          "text": [
            "<ipython-input-28-de5ed54d7a17>:9: SettingWithCopyWarning: \n",
            "A value is trying to be set on a copy of a slice from a DataFrame.\n",
            "Try using .loc[row_indexer,col_indexer] = value instead\n",
            "\n",
            "See the caveats in the documentation: https://pandas.pydata.org/pandas-docs/stable/user_guide/indexing.html#returning-a-view-versus-a-copy\n",
            "  df['Venue Name'] = df['Venue Name'].apply(clean_text)\n"
          ]
        }
      ]
    },
    {
      "cell_type": "markdown",
      "source": [
        "### 8.3 Unify similar venue names by Applying Predefined Manual Mappings"
      ],
      "metadata": {
        "id": "FRJADpvuIPjW"
      }
    },
    {
      "cell_type": "code",
      "source": [
        "# Predefined manual mappings\n",
        "venue_name_mapping = {\n",
        "    # Starbucks mappings\n",
        "    \"starbucks coffee\": \"starbucks coffee\",\n",
        "    \"starbucks\": \"starbucks coffee\",\n",
        "    \"starbucks drive thru\": \"starbucks coffee\",\n",
        "    \"starbucks drive-thru\": \"starbucks coffee\",\n",
        "\n",
        "    # Dunkin' Donuts mappings\n",
        "    \"dunkin - drive thru\": \"dunkin' donuts\",\n",
        "    \"dunkin\": \"dunkin' donuts\",\n",
        "    \"dunkin' donuts\": \"dunkin' donuts\",\n",
        "\n",
        "    # VOX Cinemas mappings\n",
        "    \"vox\": \"vox cinemas\",\n",
        "    \"vox cinemas\": \"vox cinemas\",\n",
        "    \"voxcinemas\": \"vox cinemas\",\n",
        "\n",
        "    # Muvi Cinemas mappings\n",
        "    \"muvi\": \"muvi cinemas\",\n",
        "    \"muvi cinemas\": \"muvi cinemas\",\n",
        "    \"muvi boutique\": \"muvi cinemas\",\n",
        "    \"muvi cinemas at u walk\": \"muvi cinemas\",\n",
        "\n",
        "    # Elixir Bunn Coffee Roasters mappings\n",
        "    \"elixir bunn\": \"elixir bunn coffee roasters\",\n",
        "    \"elixir bunn coffee roasters\": \"elixir bunn coffee roasters\",\n",
        "    \"exlixir bunn coffee roasters at turki square\": \"elixir bunn coffee roasters\"\n",
        "}\n",
        "\n",
        "# Apply the manual mapping\n",
        "df['Venue Name'] = df['Venue Name'].replace(venue_name_mapping)\n",
        "\n",
        "# Count and display unique venue names after manual mapping\n",
        "print(\"Number of unique venue names after after manual mapping:\")\n",
        "print(df['Venue Name'].nunique())"
      ],
      "metadata": {
        "colab": {
          "base_uri": "https://localhost:8080/"
        },
        "id": "3ZDsE-PaIP32",
        "outputId": "cdb9d13e-7596-4a23-83bf-02e50063e7bf"
      },
      "execution_count": null,
      "outputs": [
        {
          "output_type": "stream",
          "name": "stdout",
          "text": [
            "Number of unique venue names after after manual mapping:\n",
            "475\n"
          ]
        },
        {
          "output_type": "stream",
          "name": "stderr",
          "text": [
            "<ipython-input-29-0e02ec4c9f11>:32: SettingWithCopyWarning: \n",
            "A value is trying to be set on a copy of a slice from a DataFrame.\n",
            "Try using .loc[row_indexer,col_indexer] = value instead\n",
            "\n",
            "See the caveats in the documentation: https://pandas.pydata.org/pandas-docs/stable/user_guide/indexing.html#returning-a-view-versus-a-copy\n",
            "  df['Venue Name'] = df['Venue Name'].replace(venue_name_mapping)\n"
          ]
        }
      ]
    },
    {
      "cell_type": "markdown",
      "source": [
        "### 8.4 Automatically Detect and Unify Similar Venue Names Using Fuzzy Matching"
      ],
      "metadata": {
        "id": "hilwnsXskciO"
      }
    },
    {
      "cell_type": "code",
      "source": [
        "# Function to perform fuzzy matching on a single name\n",
        "def fuzzy_match_name(name, mapping_keys, threshold=80):\n",
        "    matches = process.extract(name, mapping_keys, limit=1, scorer=fuzz.token_sort_ratio)\n",
        "    if matches and matches[0][1] >= threshold:\n",
        "        return name, matches[0][0]  # Return original name and matched key\n",
        "    return name, None\n",
        "\n",
        "# Perform fuzzy matching only on unmapped venue names\n",
        "unmapped_names = list(set(df['Venue Name']) - set(venue_name_mapping.values()))\n",
        "similarity_threshold = 80\n",
        "\n",
        "# Create a mapping dictionary for fuzzy-matched names\n",
        "fuzzy_mapping = {}\n",
        "for name in unmapped_names:\n",
        "    original, matched = fuzzy_match_name(name, venue_name_mapping.keys(), similarity_threshold)\n",
        "    if matched:\n",
        "        fuzzy_mapping[original] = venue_name_mapping[matched]  # Map to the canonical name\n",
        "\n",
        "# Apply the fuzzy matching mapping\n",
        "df['Venue Name'] = df['Venue Name'].replace(fuzzy_mapping)\n",
        "\n",
        "# Display the results\n",
        "print(f\"Number of unique venue names after mapping: {df['Venue Name'].nunique()}\")\n",
        "print(\"\\nSample of standardized venue names:\")\n",
        "print(df['Venue Name'].sample(10, random_state=1))\n"
      ],
      "metadata": {
        "colab": {
          "base_uri": "https://localhost:8080/"
        },
        "id": "C36e68srkdvF",
        "outputId": "913f4ca9-30a1-4836-a45b-4daf3949bc5a"
      },
      "execution_count": null,
      "outputs": [
        {
          "output_type": "stream",
          "name": "stdout",
          "text": [
            "Number of unique venue names after mapping: 472\n",
            "\n",
            "Sample of standardized venue names:\n",
            "250                       starbucks coffee\n",
            "878                        six kings slams\n",
            "549                                   agio\n",
            "964                          the view mall\n",
            "355                                 belong\n",
            "321    volume coffee roasters at back yard\n",
            "901                            roshn front\n",
            "277                le maschou at sarh park\n",
            "36                                 kholasa\n",
            "84                        starbucks coffee\n",
            "Name: Venue Name, dtype: object\n"
          ]
        },
        {
          "output_type": "stream",
          "name": "stderr",
          "text": [
            "<ipython-input-30-e513dafb6f07>:20: SettingWithCopyWarning: \n",
            "A value is trying to be set on a copy of a slice from a DataFrame.\n",
            "Try using .loc[row_indexer,col_indexer] = value instead\n",
            "\n",
            "See the caveats in the documentation: https://pandas.pydata.org/pandas-docs/stable/user_guide/indexing.html#returning-a-view-versus-a-copy\n",
            "  df['Venue Name'] = df['Venue Name'].replace(fuzzy_mapping)\n"
          ]
        }
      ]
    },
    {
      "cell_type": "code",
      "source": [
        "# Log suggestions before applying fuzzy matching\n",
        "print(\"Fuzzy matching suggestions (for manual review):\")\n",
        "for name, mapped_name in fuzzy_mapping.items():\n",
        "    print(f\"'{name}' → '{mapped_name}'\")"
      ],
      "metadata": {
        "colab": {
          "base_uri": "https://localhost:8080/"
        },
        "id": "CJ-kwLJMlTA3",
        "outputId": "b3259fcc-8aa2-4fef-a39c-42cda5583f76"
      },
      "execution_count": null,
      "outputs": [
        {
          "output_type": "stream",
          "name": "stdout",
          "text": [
            "Fuzzy matching suggestions (for manual review):\n",
            "'dunkin drive thru' → 'dunkin' donuts'\n",
            "'vox cinemas gold' → 'vox cinemas'\n",
            "'dunkin donuts' → 'dunkin' donuts'\n"
          ]
        }
      ]
    },
    {
      "cell_type": "markdown",
      "source": [
        "### 8.5 Count and print venue names after handling duplicates.\n"
      ],
      "metadata": {
        "id": "SLuQLYAB_vnL"
      }
    },
    {
      "cell_type": "code",
      "source": [
        "# Count and display unique venue names after standardization\n",
        "print(\"Number of unique venue names after standardization:\")\n",
        "print(df['Venue Name'].nunique())\n",
        "\n",
        "# Display a sample of standardized venue names\n",
        "print(\"\\nSample of standardized venue names:\")\n",
        "print(df['Venue Name'].sample(10, random_state=1))\n"
      ],
      "metadata": {
        "colab": {
          "base_uri": "https://localhost:8080/"
        },
        "id": "XC6uTi7b_qv4",
        "outputId": "5c264f6f-910b-40df-9f92-2b00d2b51798"
      },
      "execution_count": null,
      "outputs": [
        {
          "output_type": "stream",
          "name": "stdout",
          "text": [
            "Number of unique venue names after standardization:\n",
            "472\n",
            "\n",
            "Sample of standardized venue names:\n",
            "250                       starbucks coffee\n",
            "878                        six kings slams\n",
            "549                                   agio\n",
            "964                          the view mall\n",
            "355                                 belong\n",
            "321    volume coffee roasters at back yard\n",
            "901                            roshn front\n",
            "277                le maschou at sarh park\n",
            "36                                 kholasa\n",
            "84                        starbucks coffee\n",
            "Name: Venue Name, dtype: object\n"
          ]
        }
      ]
    },
    {
      "cell_type": "markdown",
      "source": [
        "## Step 9: Standardize Venue Categories\n",
        "### 9.1 Count and Print Venue Categories Before Handling Duplicates\n"
      ],
      "metadata": {
        "id": "nUjiR1R2n9YB"
      }
    },
    {
      "cell_type": "code",
      "source": [
        "# Count and display unique venue categories before handling duplicates\n",
        "print(\"Number of unique venue categories before standardization:\")\n",
        "print(df['Venue Category'].nunique())\n",
        "\n",
        "# Display all unique venue categories for inspection\n",
        "print(\"\\nAll unique venue categories:\")\n",
        "print(sorted(df['Venue Category'].unique()))"
      ],
      "metadata": {
        "colab": {
          "base_uri": "https://localhost:8080/"
        },
        "id": "gfZFGrnyoIBk",
        "outputId": "60b57db7-c0bd-499c-f235-407877c16ecc"
      },
      "execution_count": null,
      "outputs": [
        {
          "output_type": "stream",
          "name": "stdout",
          "text": [
            "Number of unique venue categories before standardization:\n",
            "131\n",
            "\n",
            "All unique venue categories:\n",
            "['Airport Terminal', 'American Restaurant', 'American Restaurant ', 'American Resturant', 'Art Gallery', 'Arts and Entertainment', 'BBQ Joint', 'Bakery', 'Bookstore', 'Bowling Alley', 'Bowling Alley ', 'Breakfast Spot', 'Burger Joint', 'Business Center', 'Business Park', 'Bussiness Center', 'Cafe', 'Cafe ', \"Cafe'\", 'Café', 'Chinese Restaurant ', 'Chiropractor', 'Chocolate Store', 'Clothing Store', 'Coffe Shop', 'Coffee Court', 'Coffee Roaster', 'Coffee Shop', 'College Stadium', 'Convention', 'Cultural Center', 'Desert Shop', 'Dessert Shop', 'Donut Shop', 'Egyptian Restaurant', 'English Restaurant', 'Entertainment Event', 'Entertainment Service', 'Escape Room', 'Event Space', 'Falafel Restaurant', 'Fast Food Restaurant', 'Festival', 'Food Court', 'Food Court ', 'Food Truck', 'French Restaurant', 'French Restaurant ', 'Fried Chicken Joint', 'Fried Chicken joint', 'Frozen Yogurt Shop', 'Gaming Café', 'Garden', 'Golf Course', 'Government Building', 'Greek Restaurant', 'Hair Salon', 'Hardware Store', 'Health Food Store', 'Health and Beauty Service', 'Hiking Trail', 'Historic Site', 'Historic and Protected Site', 'Hookah Bar', 'Hospital', 'Hospital ', 'Hotel', 'Ice Cream Parlor', 'Indian Restaurant', 'International Airport', 'International Airport ', 'Iraqi Restaurant', 'Italian Restaurant', 'Japaneas Restaurant', 'Japanese Restaurant', 'Japanese Retaurant', 'Jewelry Store ', 'Juice Bar', 'Juice Bar ', 'Latin American Restaurant', 'Lebanese Restaurant', 'Lounge', 'Medical Center', 'Medical Center ', 'Mediterranean Restaurant', 'Mexican Restaurant', 'Middel Eastern Restaurant ', 'Middle Eastern Rastaurant', 'Miscellaneous Store', 'Mountain', 'Movie Theater', 'Nail Salon', 'Neighborhood', 'Office', 'Outdoor Event ', 'Park', 'Pastry Shop', 'Pedestrain Plaza', 'Pedestrian Plaza', 'Perfume Store', 'Pizzeria', 'Plaza', 'Restaurant', 'Salad Restaurant', 'Sandwich Spot', 'Seafood Restaurant', 'Seafood Restaurant ', 'Shawarma Restaurant', 'Shoe Store', 'Shopping Mall', 'Shopping Plaza', 'Snack Place', 'Soccer Stadium', 'Social Club', 'Spa', 'Sports', 'Steakhouse', 'Structure', 'Supermarket', 'Sushi Restaurant', 'Swiss Restaurant', 'Tea Room', 'Tennis Court', 'Tennis Stadium', 'Toy Store', 'Track', 'Travel Lounge', 'Turkish Restaurant', 'Turkish Resturant', 'Veterinarian', 'Watch Store']\n"
          ]
        }
      ]
    },
    {
      "cell_type": "markdown",
      "source": [
        "### 9.2 Clean and Normalize Venue Categories"
      ],
      "metadata": {
        "id": "m7AmIrxboPTu"
      }
    },
    {
      "cell_type": "code",
      "source": [
        "# Function to clean venue categories by removing non-alphanumeric characters (keeps Arabic and English letters)\n",
        "def clean_text(text):\n",
        "    text = str(text).lower()  # Convert to lowercase\n",
        "    text = re.sub(r'[^a-zA-Z0-9\\u0600-\\u06FF\\s]', '', text).strip()  # Remove special characters\n",
        "    text = re.sub(r'\\s+', ' ', text)  # Normalize multiple spaces to a single space\n",
        "    return text\n",
        "\n",
        "# Apply cleaning to venue categories\n",
        "df['Venue Category'] = df['Venue Category'].apply(clean_text)\n",
        "\n",
        "# Count and display unique venue categories after cleaning and normalizing\n",
        "print(\"Number of unique venue categories after cleaning and normalizing:\")\n",
        "print(df['Venue Category'].nunique())"
      ],
      "metadata": {
        "colab": {
          "base_uri": "https://localhost:8080/"
        },
        "id": "D2V2Z6zfoKL0",
        "outputId": "374830ce-d67d-4b0d-9e8e-6f624f83bd70"
      },
      "execution_count": null,
      "outputs": [
        {
          "output_type": "stream",
          "name": "stdout",
          "text": [
            "Number of unique venue categories after cleaning and normalizing:\n",
            "119\n"
          ]
        },
        {
          "output_type": "stream",
          "name": "stderr",
          "text": [
            "<ipython-input-34-b2e0deb546c1>:9: SettingWithCopyWarning: \n",
            "A value is trying to be set on a copy of a slice from a DataFrame.\n",
            "Try using .loc[row_indexer,col_indexer] = value instead\n",
            "\n",
            "See the caveats in the documentation: https://pandas.pydata.org/pandas-docs/stable/user_guide/indexing.html#returning-a-view-versus-a-copy\n",
            "  df['Venue Category'] = df['Venue Category'].apply(clean_text)\n"
          ]
        }
      ]
    },
    {
      "cell_type": "markdown",
      "source": [
        "### 9.3 Unify Similar Venue Categories by Applying Predefined Manual Mappings"
      ],
      "metadata": {
        "id": "MWRCvoPRoVC1"
      }
    },
    {
      "cell_type": "code",
      "source": [
        "# Predefined manual mappings\n",
        "venue_category_mapping = {\n",
        "# Cafés and coffee-related\n",
        "    \"café\": \"coffee shop\",\n",
        "    \"cafe'\": \"coffee shop\",\n",
        "    \"coffe shop\": \"coffee shop\",\n",
        "    \"coffee shop\": \"coffee shop\",\n",
        "    \"coffee court\": \"coffee shop\",\n",
        "    \"coffee roaster\": \"coffee shop\",\n",
        "    \"tea room\": \"coffee shop\",\n",
        "    \"juice bar\": \"coffee shop\",\n",
        "\n",
        "\n",
        "    # Restaurants\n",
        "    \"american resturant\": \"restaurant\",\n",
        "    \"egyptian restaurant\": \"restaurant\",\n",
        "    \"english restaurant\": \"restaurant\",\n",
        "    \"fast food restaurant\": \"restaurant\",\n",
        "    \"french restaurant\": \"restaurant\",\n",
        "    \"french restaurant \": \"restaurant\",\n",
        "    \"fried chicken joint\": \"restaurant\",\n",
        "    \"fried chicken joint \": \"restaurant\",\n",
        "    \"greek restaurant\": \"restaurant\",\n",
        "    \"indian restaurant\": \"restaurant\",\n",
        "    \"iraqi restaurant\": \"restaurant\",\n",
        "    \"italian restaurant\": \"restaurant\",\n",
        "    \"japanese restaurant\": \"restaurant\",\n",
        "    \"japaneas restaurant\": \"restaurant\",\n",
        "    \"japanese retaurant\": \"restaurant\",\n",
        "    \"latin american restaurant\": \"restaurant\",\n",
        "    \"lebanese restaurant\": \"restaurant\",\n",
        "    \"mediterranean restaurant\": \"restaurant\",\n",
        "    \"mexican restaurant\": \"restaurant\",\n",
        "    \"middle eastern rastaurant\": \"restaurant\",\n",
        "    \"seafood restaurant\": \"restaurant\",\n",
        "    \"seafood restaurant \": \"restaurant\",\n",
        "    \"shawarma restaurant\": \"restaurant\",\n",
        "    \"swiss restaurant\": \"restaurant\",\n",
        "    \"turkish restaurant\": \"restaurant\",\n",
        "    \"turkish resturant\": \"restaurant\",\n",
        "    \"bbq joint\": \"restaurant\",\n",
        "    \"burger joint\": \"restaurant\",\n",
        "    \"pizzeria\": \"restaurant\",\n",
        "    \"salad restaurant\": \"restaurant\",\n",
        "    \"sandwich spot\": \"restaurant\",\n",
        "    \"steakhouse\": \"restaurant\",\n",
        "    \"sushi restaurant\": \"restaurant\",\n",
        "    \"health food store\": \"restaurant\",\n",
        "    \"breakfast spot\": \"restaurant\",\n",
        "    \"food truck\": \"casual dining\",\n",
        "    \"food court\": \"casual dining\",\n",
        "    \"food court \": \"casual dining\",\n",
        "\n",
        "    # Entertainment and events\n",
        "    \"movie theater\": \"entertainment\",\n",
        "    \"arts and entertainment\": \"entertainment\",\n",
        "    \"entertainment event\": \"entertainment\",\n",
        "    \"festival\": \"entertainment\",\n",
        "    \"social club\": \"entertainment\",\n",
        "    \"escape room\": \"entertainment\",\n",
        "    \"bowling alley\": \"entertainment\",\n",
        "    \"art gallery\": \"entertainment\",\n",
        "\n",
        "    # Shopping-related venues\n",
        "    \"shopping mall\": \"shopping\",\n",
        "    \"shopping plaza\": \"shopping\",\n",
        "    \"miscellaneous store\": \"shopping\",\n",
        "    \"toy store\": \"shopping\",\n",
        "    \"bookstore\": \"shopping\",\n",
        "    \"clothing store\": \"shopping\",\n",
        "    \"hardware store\": \"shopping\",\n",
        "    \"jewelry store \": \"shopping\",\n",
        "    \"perfume store\": \"shopping\",\n",
        "    \"shoe store\": \"shopping\",\n",
        "    \"watch store\": \"shopping\",\n",
        "\n",
        "    # Food-related (desserts, snacks, etc.)\n",
        "    \"bakery\": \"dessert shop\",\n",
        "    \"chocolate store\": \"dessert shop\",\n",
        "    \"desert shop\": \"dessert shop\",\n",
        "    \"dessert shop\": \"dessert shop\",\n",
        "    \"donut shop\": \"dessert shop\",\n",
        "    \"ice cream parlor\": \"dessert shop\",\n",
        "    \"frozen yogurt shop\": \"dessert shop\",\n",
        "    \"pastry shop\": \"dessert shop\",\n",
        "    \"snack place\": \"dessert shop\",\n",
        "\n",
        "    # Fitness and sports\n",
        "    \"soccer stadium\": \"sports facility\",\n",
        "    \"tennis court\": \"sports facility\",\n",
        "    \"golf course\": \"sports facility\",\n",
        "    \"sports\": \"sports facility\",\n",
        "    \"gym\": \"sports facility\",\n",
        "    \"fitness club\": \"sports facility\",\n",
        "\n",
        "    # Travel and transit\n",
        "    \"airport terminal\": \"travel\",\n",
        "    \"international airport\": \"travel\",\n",
        "    \"travel lounge\": \"travel\",\n",
        "\n",
        "    # Parks and public spaces\n",
        "    \"mountain\": \"park\",\n",
        "    \"park\": \"park\",\n",
        "    \"neighborhood\": \"park\",\n",
        "    \"nighborhood\": \"park\",\n",
        "    \"historic site\": \"park\",\n",
        "    \"historic and protected site\": \"park\",\n",
        "    \"hiking trail\": \"park\",\n",
        "\n",
        "    # Business-related\n",
        "    \"business center\": \"business area\",\n",
        "    \"business park\": \"business area\",\n",
        "    \"convention\": \"business area\",\n",
        "\n",
        "    # Medical and health-related\n",
        "    \"hospital\": \"medical center\",\n",
        "    \"medical center\": \"medical center\",\n",
        "    \"nail salon\": \"spa\",\n",
        "    \"spa\": \"spa\",\n",
        "    \"veterinarian\": \"medical center\",\n",
        "\n",
        "    # Plaza-related\n",
        "    \"pedestrain plaza\": \"plaza\",\n",
        "    \"pedestrian plaza\": \"plaza\",\n",
        "\n",
        "    # Miscellaneous\n",
        "    \"structure\": \"landmark\"\n",
        "}\n",
        "\n",
        "# Apply the manual mapping\n",
        "df['Venue Category'] = df['Venue Category'].replace(venue_category_mapping)\n",
        "\n",
        "# Count and display unique venue categories after manual mapping\n",
        "print(\"Number of unique venue categories after manual mapping:\")\n",
        "print(df['Venue Category'].nunique())"
      ],
      "metadata": {
        "colab": {
          "base_uri": "https://localhost:8080/"
        },
        "id": "w1s2BLOioRvR",
        "outputId": "9e1171b6-493f-4f30-da1c-23881cfae325"
      },
      "execution_count": null,
      "outputs": [
        {
          "output_type": "stream",
          "name": "stdout",
          "text": [
            "Number of unique venue categories after manual mapping:\n",
            "40\n"
          ]
        },
        {
          "output_type": "stream",
          "name": "stderr",
          "text": [
            "<ipython-input-35-c26a0a053891>:131: SettingWithCopyWarning: \n",
            "A value is trying to be set on a copy of a slice from a DataFrame.\n",
            "Try using .loc[row_indexer,col_indexer] = value instead\n",
            "\n",
            "See the caveats in the documentation: https://pandas.pydata.org/pandas-docs/stable/user_guide/indexing.html#returning-a-view-versus-a-copy\n",
            "  df['Venue Category'] = df['Venue Category'].replace(venue_category_mapping)\n"
          ]
        }
      ]
    },
    {
      "cell_type": "markdown",
      "source": [
        "### 9.4 Automatically Detect and Unify Similar Venue Categories Using Fuzzy Matching"
      ],
      "metadata": {
        "id": "Kxy1ntXgooXc"
      }
    },
    {
      "cell_type": "code",
      "source": [
        "# Function to perform fuzzy matching on a single category\n",
        "def fuzzy_match_category(name, mapping_keys, threshold=80):\n",
        "    matches = process.extract(name, mapping_keys, limit=1, scorer=fuzz.token_sort_ratio)\n",
        "    if matches and matches[0][1] >= threshold:\n",
        "        return name, matches[0][0]  # Return original name and matched key\n",
        "    return name, None\n",
        "\n",
        "# Perform fuzzy matching only on unmapped categories\n",
        "unmapped_categories = list(set(df['Venue Category']) - set(venue_category_mapping.values()))\n",
        "similarity_threshold = 80\n",
        "\n",
        "# Create a mapping dictionary for fuzzy-matched categories\n",
        "fuzzy_mapping = {}\n",
        "for name in unmapped_categories:\n",
        "    original, matched = fuzzy_match_category(name, venue_category_mapping.keys(), similarity_threshold)\n",
        "    if matched:\n",
        "        fuzzy_mapping[original] = venue_category_mapping[matched]  # Map to the canonical category\n",
        "\n",
        "# Apply the fuzzy matching mapping\n",
        "df['Venue Category'] = df['Venue Category'].replace(fuzzy_mapping)\n",
        "\n",
        "# Display the results\n",
        "print(f\"Number of unique venue categories after fuzzy matching: {df['Venue Category'].nunique()}\")\n",
        "print(\"\\nSample of standardized venue categories:\")\n",
        "print(df['Venue Category'].sample(10, random_state=1))"
      ],
      "metadata": {
        "colab": {
          "base_uri": "https://localhost:8080/"
        },
        "id": "wQKzHc8AoqT1",
        "outputId": "a5633531-592a-4802-cdd9-f054e0aec83d"
      },
      "execution_count": null,
      "outputs": [
        {
          "output_type": "stream",
          "name": "stdout",
          "text": [
            "Number of unique venue categories after fuzzy matching: 31\n",
            "\n",
            "Sample of standardized venue categories:\n",
            "250       coffee shop\n",
            "878    tennis stadium\n",
            "549        restaurant\n",
            "964          shopping\n",
            "355       coffee shop\n",
            "321       coffee shop\n",
            "901          shopping\n",
            "277        restaurant\n",
            "36        coffee shop\n",
            "84        coffee shop\n",
            "Name: Venue Category, dtype: object\n"
          ]
        },
        {
          "output_type": "stream",
          "name": "stderr",
          "text": [
            "<ipython-input-36-2eb53157494d>:20: SettingWithCopyWarning: \n",
            "A value is trying to be set on a copy of a slice from a DataFrame.\n",
            "Try using .loc[row_indexer,col_indexer] = value instead\n",
            "\n",
            "See the caveats in the documentation: https://pandas.pydata.org/pandas-docs/stable/user_guide/indexing.html#returning-a-view-versus-a-copy\n",
            "  df['Venue Category'] = df['Venue Category'].replace(fuzzy_mapping)\n"
          ]
        }
      ]
    },
    {
      "cell_type": "code",
      "source": [
        "# Log suggestions before applying fuzzy matching\n",
        "print(\"Fuzzy matching suggestions (for manual review):\")\n",
        "for name, mapped_name in fuzzy_mapping.items():\n",
        "    print(f\"'{name}' → '{mapped_name}'\")"
      ],
      "metadata": {
        "colab": {
          "base_uri": "https://localhost:8080/"
        },
        "id": "L-WpvVytBeqo",
        "outputId": "cc52b050-a12e-4094-e7e2-43c0ca26d144"
      },
      "execution_count": null,
      "outputs": [
        {
          "output_type": "stream",
          "name": "stdout",
          "text": [
            "Fuzzy matching suggestions (for manual review):\n",
            "'cafe' → 'coffee shop'\n",
            "'hair salon' → 'spa'\n",
            "'chinese restaurant' → 'restaurant'\n",
            "'entertainment service' → 'entertainment'\n",
            "'american restaurant' → 'restaurant'\n",
            "'bussiness center' → 'business area'\n",
            "'caf' → 'coffee shop'\n",
            "'middel eastern restaurant' → 'restaurant'\n",
            "'jewelry store' → 'shopping'\n"
          ]
        }
      ]
    },
    {
      "cell_type": "markdown",
      "source": [
        "### 9.5 Count and Print Venue Categories After Handling Duplicates"
      ],
      "metadata": {
        "id": "HXatCf1fost3"
      }
    },
    {
      "cell_type": "code",
      "source": [
        "# Count and display unique venue categories after standardization\n",
        "print(\"Number of unique venue categories after standardization:\")\n",
        "print(df['Venue Category'].nunique())\n",
        "\n",
        "# Display a sample of standardized venue categories\n",
        "print(\"\\nSample of standardized venue categories:\")\n",
        "print(df['Venue Category'].sample(10, random_state=1))\n"
      ],
      "metadata": {
        "colab": {
          "base_uri": "https://localhost:8080/"
        },
        "id": "fmQkp6qDoulE",
        "outputId": "5b332b77-0f78-46ec-e6e4-acccedfdf13d"
      },
      "execution_count": null,
      "outputs": [
        {
          "output_type": "stream",
          "name": "stdout",
          "text": [
            "Number of unique venue categories after standardization:\n",
            "31\n",
            "\n",
            "Sample of standardized venue categories:\n",
            "250       coffee shop\n",
            "878    tennis stadium\n",
            "549        restaurant\n",
            "964          shopping\n",
            "355       coffee shop\n",
            "321       coffee shop\n",
            "901          shopping\n",
            "277        restaurant\n",
            "36        coffee shop\n",
            "84        coffee shop\n",
            "Name: Venue Category, dtype: object\n"
          ]
        }
      ]
    },
    {
      "cell_type": "code",
      "source": [
        "# Display all unique venue categories for inspection\n",
        "print(\"\\nAll unique venue categories:\")\n",
        "print(sorted(df['Venue Category'].unique()))"
      ],
      "metadata": {
        "colab": {
          "base_uri": "https://localhost:8080/"
        },
        "id": "E5mKKE_xI_L1",
        "outputId": "c74c52e5-21f8-4a7d-fea3-69bf69ca4153"
      },
      "execution_count": null,
      "outputs": [
        {
          "output_type": "stream",
          "name": "stdout",
          "text": [
            "\n",
            "All unique venue categories:\n",
            "['business area', 'casual dining', 'chiropractor', 'coffee shop', 'college stadium', 'cultural center', 'dessert shop', 'entertainment', 'event space', 'falafel restaurant', 'gaming caf', 'garden', 'government building', 'health and beauty service', 'hookah bar', 'hotel', 'landmark', 'lounge', 'medical center', 'office', 'outdoor event', 'park', 'plaza', 'restaurant', 'shopping', 'spa', 'sports facility', 'supermarket', 'tennis stadium', 'track', 'travel']\n"
          ]
        }
      ]
    },
    {
      "cell_type": "markdown",
      "source": [
        "## Step 10: Handle Sparse Categorical Features\n",
        "### 10.1 Identify Sparse Categories"
      ],
      "metadata": {
        "id": "Vj3s08jML7Ab"
      }
    },
    {
      "cell_type": "code",
      "source": [
        "# Count occurrences of each category and sort them in ascending order\n",
        "category_counts = df['Venue Category'].value_counts().sort_values()\n",
        "\n",
        "# Display all categories and their counts\n",
        "print(\"Venue categories and their counts (sorted from smallest to largest):\")\n",
        "print(category_counts)"
      ],
      "metadata": {
        "colab": {
          "base_uri": "https://localhost:8080/"
        },
        "id": "TJusPwqsL-_b",
        "outputId": "94624d6b-0201-4a29-a1d6-7aa6bbba9c01"
      },
      "execution_count": null,
      "outputs": [
        {
          "output_type": "stream",
          "name": "stdout",
          "text": [
            "Venue categories and their counts (sorted from smallest to largest):\n",
            "Venue Category\n",
            "outdoor event                  1\n",
            "garden                         1\n",
            "government building            1\n",
            "office                         1\n",
            "chiropractor                   1\n",
            "college stadium                1\n",
            "event space                    1\n",
            "tennis stadium                 1\n",
            "track                          1\n",
            "gaming caf                     1\n",
            "health and beauty service      1\n",
            "cultural center                1\n",
            "supermarket                    2\n",
            "falafel restaurant             2\n",
            "landmark                       3\n",
            "hookah bar                     7\n",
            "medical center                 8\n",
            "business area                  8\n",
            "travel                         9\n",
            "hotel                         13\n",
            "lounge                        14\n",
            "sports facility               15\n",
            "spa                           17\n",
            "park                          18\n",
            "casual dining                 19\n",
            "dessert shop                  39\n",
            "shopping                      49\n",
            "plaza                         57\n",
            "entertainment                 70\n",
            "restaurant                   164\n",
            "coffee shop                  438\n",
            "Name: count, dtype: int64\n"
          ]
        }
      ]
    },
    {
      "cell_type": "code",
      "source": [
        "# Define a threshold to identify sparse categories (e.g., categories appearing less than 5 times)\n",
        "sparse_threshold = 10\n",
        "\n",
        "# Identify sparse categories\n",
        "sparse_categories = category_counts[category_counts < sparse_threshold].index.tolist()\n",
        "\n",
        "print(f\"\\nIdentified sparse categories (less than {sparse_threshold} occurrences):\")\n",
        "print(sparse_categories)"
      ],
      "metadata": {
        "colab": {
          "base_uri": "https://localhost:8080/"
        },
        "id": "8OOuGtnHMB_q",
        "outputId": "0ff0e174-b960-40d8-bfc1-1922fb2cf1c0"
      },
      "execution_count": null,
      "outputs": [
        {
          "output_type": "stream",
          "name": "stdout",
          "text": [
            "\n",
            "Identified sparse categories (less than 10 occurrences):\n",
            "['outdoor event', 'garden', 'government building', 'office', 'chiropractor', 'college stadium', 'event space', 'tennis stadium', 'track', 'gaming caf', 'health and beauty service', 'cultural center', 'supermarket', 'falafel restaurant', 'landmark', 'hookah bar', 'medical center', 'business area', 'travel']\n"
          ]
        }
      ]
    },
    {
      "cell_type": "markdown",
      "source": [
        "### 10.2 Merge Sparse Categories into an \"Other\" Category"
      ],
      "metadata": {
        "id": "sqGjNHcSUwsG"
      }
    },
    {
      "cell_type": "code",
      "source": [
        "# Replace sparse categories with \"other\"\n",
        "df['Venue Category'] = df['Venue Category'].replace(sparse_categories, \"other\")\n",
        "\n",
        "# Count and display unique categories after merging sparse categories\n",
        "print(\"Number of unique venue categories after merging sparse categories:\")\n",
        "print(df['Venue Category'].nunique())\n",
        "\n",
        "# Display the updated category counts\n",
        "print(\"\\nUpdated category counts:\")\n",
        "print(df['Venue Category'].value_counts())"
      ],
      "metadata": {
        "colab": {
          "base_uri": "https://localhost:8080/"
        },
        "id": "7BomKCKqUxO_",
        "outputId": "a48f0c2d-793e-4400-cf03-b3f80abe80ff"
      },
      "execution_count": null,
      "outputs": [
        {
          "output_type": "stream",
          "name": "stdout",
          "text": [
            "Number of unique venue categories after merging sparse categories:\n",
            "13\n",
            "\n",
            "Updated category counts:\n",
            "Venue Category\n",
            "coffee shop        438\n",
            "restaurant         164\n",
            "entertainment       70\n",
            "plaza               57\n",
            "other               51\n",
            "shopping            49\n",
            "dessert shop        39\n",
            "casual dining       19\n",
            "park                18\n",
            "spa                 17\n",
            "sports facility     15\n",
            "lounge              14\n",
            "hotel               13\n",
            "Name: count, dtype: int64\n"
          ]
        },
        {
          "output_type": "stream",
          "name": "stderr",
          "text": [
            "<ipython-input-42-447d8deba2f1>:2: SettingWithCopyWarning: \n",
            "A value is trying to be set on a copy of a slice from a DataFrame.\n",
            "Try using .loc[row_indexer,col_indexer] = value instead\n",
            "\n",
            "See the caveats in the documentation: https://pandas.pydata.org/pandas-docs/stable/user_guide/indexing.html#returning-a-view-versus-a-copy\n",
            "  df['Venue Category'] = df['Venue Category'].replace(sparse_categories, \"other\")\n"
          ]
        }
      ]
    },
    {
      "cell_type": "markdown",
      "source": [
        "## Save the Cleaned Dataset"
      ],
      "metadata": {
        "id": "3NG7sf23fR1u"
      }
    },
    {
      "cell_type": "code",
      "source": [
        "# Define the path and file name for the cleaned dataset\n",
        "output_file = \"cleaned_poi_dataset.csv\"\n",
        "\n",
        "# Save the cleaned dataset\n",
        "df.to_csv(output_file, index=False)\n",
        "\n",
        "print(f\"Cleaned dataset saved successfully as '{output_file}'.\")\n"
      ],
      "metadata": {
        "colab": {
          "base_uri": "https://localhost:8080/"
        },
        "id": "gqBHgyQyfSDF",
        "outputId": "2bed2902-4596-499e-d4c5-30246685454a"
      },
      "execution_count": null,
      "outputs": [
        {
          "output_type": "stream",
          "name": "stdout",
          "text": [
            "Cleaned dataset saved successfully as 'cleaned_poi_dataset.csv'.\n"
          ]
        }
      ]
    },
    {
      "cell_type": "markdown",
      "source": [
        "\n",
        "\n",
        "\n",
        "---\n",
        "\n",
        "\n",
        "---\n",
        "\n"
      ],
      "metadata": {
        "id": "JNhN169cE3rq"
      }
    },
    {
      "cell_type": "markdown",
      "source": [
        "## Feature Extraction\n",
        "\n"
      ],
      "metadata": {
        "id": "PFHvG4lSFBgN"
      }
    },
    {
      "cell_type": "markdown",
      "source": [
        "## Step 1: Time-Based Feature Engineering\n",
        "### 1.1 Create Time-of-Day Segments"
      ],
      "metadata": {
        "id": "uJEvnH_uKH7L"
      }
    },
    {
      "cell_type": "code",
      "source": [
        "def get_time_of_day(hour):\n",
        "    if 6 <= hour < 12:\n",
        "        return 'Morning'\n",
        "    elif 12 <= hour < 18:\n",
        "        return 'Afternoon'\n",
        "    elif 18 <= hour < 24:\n",
        "        return 'Evening'\n",
        "    else:\n",
        "        return 'Night'\n",
        "\n",
        "# Create time-of-day segments based on the hour extracted from 'Check-in Time'\n",
        "df['Time of Day'] = df['Check-in Time'].dt.hour.apply(get_time_of_day)\n",
        "\n",
        "print(\"Time-of-day segments added:\")\n",
        "print(df[['Check-in Time', 'Time of Day']].head(10))"
      ],
      "metadata": {
        "colab": {
          "base_uri": "https://localhost:8080/"
        },
        "id": "DhrWntjjMt-h",
        "outputId": "b3b2d784-e738-47ff-ca3b-8f2491c18a3c"
      },
      "execution_count": null,
      "outputs": [
        {
          "output_type": "stream",
          "name": "stdout",
          "text": [
            "Time-of-day segments added:\n",
            "        Check-in Time Time of Day\n",
            "0 2021-01-05 22:31:00     Evening\n",
            "1 2021-01-05 23:52:00     Evening\n",
            "2 2021-01-06 23:59:00     Evening\n",
            "3 2021-01-09 20:12:00     Evening\n",
            "4 2021-01-27 11:39:00     Morning\n",
            "5 2021-01-27 15:16:00   Afternoon\n",
            "6 2021-01-27 16:38:00   Afternoon\n",
            "7 2021-03-25 22:51:00     Evening\n",
            "8 2021-04-18 00:04:00       Night\n",
            "9 2021-04-18 00:52:00       Night\n"
          ]
        },
        {
          "output_type": "stream",
          "name": "stderr",
          "text": [
            "<ipython-input-44-9e7b2fee8e3f>:12: SettingWithCopyWarning: \n",
            "A value is trying to be set on a copy of a slice from a DataFrame.\n",
            "Try using .loc[row_indexer,col_indexer] = value instead\n",
            "\n",
            "See the caveats in the documentation: https://pandas.pydata.org/pandas-docs/stable/user_guide/indexing.html#returning-a-view-versus-a-copy\n",
            "  df['Time of Day'] = df['Check-in Time'].dt.hour.apply(get_time_of_day)\n"
          ]
        }
      ]
    },
    {
      "cell_type": "markdown",
      "source": [
        "### 1.2 Create Weekend Indicator"
      ],
      "metadata": {
        "id": "yZ_6d-X3KnmU"
      }
    },
    {
      "cell_type": "code",
      "source": [
        "# Define weekends based on the 'Day' column\n",
        "weekend_days = ['Friday', 'Saturday']\n",
        "\n",
        "# Create a binary column where 1 indicates a weekend and 0 indicates a weekday\n",
        "df['Is Weekend'] = df['Day'].apply(lambda x: 1 if x in weekend_days else 0)\n",
        "\n",
        "print(\"Weekend indicator added using 'Day' column:\")\n",
        "print(df[['Day', 'Is Weekend']].head(10))"
      ],
      "metadata": {
        "colab": {
          "base_uri": "https://localhost:8080/"
        },
        "id": "kf-DCZH1Kwtj",
        "outputId": "3a2b3434-2a99-4f83-df53-f0e4d21c895f"
      },
      "execution_count": null,
      "outputs": [
        {
          "output_type": "stream",
          "name": "stdout",
          "text": [
            "Weekend indicator added using 'Day' column:\n",
            "         Day  Is Weekend\n",
            "0    Tuesday           0\n",
            "1    Tuesday           0\n",
            "2  Wednesday           0\n",
            "3   Saturday           1\n",
            "4  Wednesday           0\n",
            "5  Wednesday           0\n",
            "6  Wednesday           0\n",
            "7   Thursday           0\n",
            "8     Sunday           0\n",
            "9     Sunday           0\n"
          ]
        },
        {
          "output_type": "stream",
          "name": "stderr",
          "text": [
            "<ipython-input-45-03c1121fe355>:5: SettingWithCopyWarning: \n",
            "A value is trying to be set on a copy of a slice from a DataFrame.\n",
            "Try using .loc[row_indexer,col_indexer] = value instead\n",
            "\n",
            "See the caveats in the documentation: https://pandas.pydata.org/pandas-docs/stable/user_guide/indexing.html#returning-a-view-versus-a-copy\n",
            "  df['Is Weekend'] = df['Day'].apply(lambda x: 1 if x in weekend_days else 0)\n"
          ]
        }
      ]
    },
    {
      "cell_type": "markdown",
      "source": [
        "### 1.3 Extract Season"
      ],
      "metadata": {
        "id": "p0TNom1OMFKB"
      }
    },
    {
      "cell_type": "code",
      "source": [
        "def get_season(month):\n",
        "    if month in [12, 1, 2]:  # Winter\n",
        "        return 'Winter'\n",
        "    elif month in [3, 4, 5]:  # Spring\n",
        "        return 'Spring'\n",
        "    elif month in [6, 7, 8]:  # Summer\n",
        "        return 'Summer'\n",
        "    else:  # Autumn\n",
        "        return 'Autumn'\n",
        "\n",
        "# Extract the month and map it to the season\n",
        "df['Season'] = df['Check-in Time'].dt.month.apply(get_season)\n",
        "\n",
        "print(\"Season feature added:\")\n",
        "print(df[['Check-in Time', 'Season']].head(10))\n"
      ],
      "metadata": {
        "colab": {
          "base_uri": "https://localhost:8080/"
        },
        "id": "KMG7ZpU8MP1m",
        "outputId": "5b6db64b-7d10-4821-a89c-cd58fc600417"
      },
      "execution_count": null,
      "outputs": [
        {
          "output_type": "stream",
          "name": "stdout",
          "text": [
            "Season feature added:\n",
            "        Check-in Time  Season\n",
            "0 2021-01-05 22:31:00  Winter\n",
            "1 2021-01-05 23:52:00  Winter\n",
            "2 2021-01-06 23:59:00  Winter\n",
            "3 2021-01-09 20:12:00  Winter\n",
            "4 2021-01-27 11:39:00  Winter\n",
            "5 2021-01-27 15:16:00  Winter\n",
            "6 2021-01-27 16:38:00  Winter\n",
            "7 2021-03-25 22:51:00  Spring\n",
            "8 2021-04-18 00:04:00  Spring\n",
            "9 2021-04-18 00:52:00  Spring\n"
          ]
        },
        {
          "output_type": "stream",
          "name": "stderr",
          "text": [
            "<ipython-input-46-318166b1faa5>:12: SettingWithCopyWarning: \n",
            "A value is trying to be set on a copy of a slice from a DataFrame.\n",
            "Try using .loc[row_indexer,col_indexer] = value instead\n",
            "\n",
            "See the caveats in the documentation: https://pandas.pydata.org/pandas-docs/stable/user_guide/indexing.html#returning-a-view-versus-a-copy\n",
            "  df['Season'] = df['Check-in Time'].dt.month.apply(get_season)\n"
          ]
        }
      ]
    },
    {
      "cell_type": "markdown",
      "source": [
        "### 1.4 Verify that the Newly Created Features Have Been Correctly Added"
      ],
      "metadata": {
        "id": "K-TQJDxRN1jL"
      }
    },
    {
      "cell_type": "code",
      "source": [
        "# Display the first 10 rows of the relevant columns to verify correct values\n",
        "time_based_features = ['Check-in Time', 'Day', 'Is Weekend', 'Season', 'Time of Day']\n",
        "\n",
        "print(\"Verification of newly created time-based features:\")\n",
        "print(df[time_based_features].head(10))\n"
      ],
      "metadata": {
        "colab": {
          "base_uri": "https://localhost:8080/"
        },
        "id": "Pvsg0FY3OM05",
        "outputId": "c86698e4-9185-4867-c6d6-65b1c130ca06"
      },
      "execution_count": null,
      "outputs": [
        {
          "output_type": "stream",
          "name": "stdout",
          "text": [
            "Verification of newly created time-based features:\n",
            "        Check-in Time        Day  Is Weekend  Season Time of Day\n",
            "0 2021-01-05 22:31:00    Tuesday           0  Winter     Evening\n",
            "1 2021-01-05 23:52:00    Tuesday           0  Winter     Evening\n",
            "2 2021-01-06 23:59:00  Wednesday           0  Winter     Evening\n",
            "3 2021-01-09 20:12:00   Saturday           1  Winter     Evening\n",
            "4 2021-01-27 11:39:00  Wednesday           0  Winter     Morning\n",
            "5 2021-01-27 15:16:00  Wednesday           0  Winter   Afternoon\n",
            "6 2021-01-27 16:38:00  Wednesday           0  Winter   Afternoon\n",
            "7 2021-03-25 22:51:00   Thursday           0  Spring     Evening\n",
            "8 2021-04-18 00:04:00     Sunday           0  Spring       Night\n",
            "9 2021-04-18 00:52:00     Sunday           0  Spring       Night\n"
          ]
        }
      ]
    },
    {
      "cell_type": "code",
      "source": [
        "df.info()"
      ],
      "metadata": {
        "colab": {
          "base_uri": "https://localhost:8080/"
        },
        "id": "Ybr7VGakg6Xe",
        "outputId": "d8b731f7-2649-48dd-a2ff-ccba1aee3053"
      },
      "execution_count": null,
      "outputs": [
        {
          "output_type": "stream",
          "name": "stdout",
          "text": [
            "<class 'pandas.core.frame.DataFrame'>\n",
            "Index: 964 entries, 0 to 986\n",
            "Data columns (total 12 columns):\n",
            " #   Column             Non-Null Count  Dtype         \n",
            "---  ------             --------------  -----         \n",
            " 0   User ID            964 non-null    int64         \n",
            " 1   Venue ID           964 non-null    object        \n",
            " 2   Latitude           964 non-null    float64       \n",
            " 3   Longitude          964 non-null    float64       \n",
            " 4   Check-in Time      964 non-null    datetime64[ns]\n",
            " 5   Day                964 non-null    object        \n",
            " 6   Previous Venue ID  942 non-null    object        \n",
            " 7   Venue Name         964 non-null    object        \n",
            " 8   Venue Category     964 non-null    object        \n",
            " 9   Time of Day        964 non-null    object        \n",
            " 10  Is Weekend         964 non-null    int64         \n",
            " 11  Season             964 non-null    object        \n",
            "dtypes: datetime64[ns](1), float64(2), int64(2), object(7)\n",
            "memory usage: 97.9+ KB\n"
          ]
        }
      ]
    },
    {
      "cell_type": "markdown",
      "source": [
        "## Step 2: Engineer Features Based on User Behavior\n",
        "### 2.1 Calculate Total Number of Visits per User"
      ],
      "metadata": {
        "id": "iYYmvoJPPml-"
      }
    },
    {
      "cell_type": "code",
      "source": [
        "# Group by User ID and count visits\n",
        "user_visit_counts = df.groupby('User ID').size().reset_index()\n",
        "user_visit_counts.columns = ['User ID', 'Total Visits']\n",
        "\n",
        "# Display unique User IDs with their total visit counts\n",
        "print(\"User IDs with Total Visits:\")\n",
        "print(user_visit_counts)\n"
      ],
      "metadata": {
        "colab": {
          "base_uri": "https://localhost:8080/"
        },
        "id": "ROpLEiwyPxbf",
        "outputId": "b43d6224-596f-4331-c7e1-1a275a40587c"
      },
      "execution_count": null,
      "outputs": [
        {
          "output_type": "stream",
          "name": "stdout",
          "text": [
            "User IDs with Total Visits:\n",
            "    User ID  Total Visits\n",
            "0         1            36\n",
            "1         2            34\n",
            "2         3           111\n",
            "3         4            47\n",
            "4         5            49\n",
            "5         6            37\n",
            "6         7            50\n",
            "7         8             5\n",
            "8         9            49\n",
            "9        10            53\n",
            "10       11            38\n",
            "11       12            50\n",
            "12       13            10\n",
            "13       14            10\n",
            "14       15            27\n",
            "15       16            60\n",
            "16       17            50\n",
            "17       18            33\n",
            "18       19            50\n",
            "19       20            27\n",
            "20       21            38\n",
            "21       22            50\n",
            "22       23            50\n"
          ]
        }
      ]
    },
    {
      "cell_type": "markdown",
      "source": [
        "### 2.2 Identify Most Frequent Venue Category for Each User"
      ],
      "metadata": {
        "id": "TrFxfzJVQhCi"
      }
    },
    {
      "cell_type": "code",
      "source": [
        "# Find the most frequent venue category per user\n",
        "most_frequent_category = df.groupby('User ID')['Venue Category'].agg(lambda x: x.mode()[0]).reset_index()\n",
        "most_frequent_category.columns = ['User ID', 'Most Frequent Venue Category']\n",
        "\n",
        "# Display unique User IDs with their most frequent venue category\n",
        "print(\"Most frequent venue category per user:\")\n",
        "print(most_frequent_category)\n"
      ],
      "metadata": {
        "colab": {
          "base_uri": "https://localhost:8080/"
        },
        "id": "AFmuh8StQpBK",
        "outputId": "0667d977-ddc1-4111-f302-4a160acdc5b3"
      },
      "execution_count": null,
      "outputs": [
        {
          "output_type": "stream",
          "name": "stdout",
          "text": [
            "Most frequent venue category per user:\n",
            "    User ID Most Frequent Venue Category\n",
            "0         1                  coffee shop\n",
            "1         2                  coffee shop\n",
            "2         3                  coffee shop\n",
            "3         4                  coffee shop\n",
            "4         5                  coffee shop\n",
            "5         6                  coffee shop\n",
            "6         7                  coffee shop\n",
            "7         8                        plaza\n",
            "8         9                  coffee shop\n",
            "9        10                  coffee shop\n",
            "10       11                  coffee shop\n",
            "11       12                  coffee shop\n",
            "12       13                  coffee shop\n",
            "13       14                  coffee shop\n",
            "14       15                  coffee shop\n",
            "15       16                  coffee shop\n",
            "16       17                  coffee shop\n",
            "17       18                  coffee shop\n",
            "18       19                   restaurant\n",
            "19       20                       lounge\n",
            "20       21                  coffee shop\n",
            "21       22                  coffee shop\n",
            "22       23                  coffee shop\n"
          ]
        }
      ]
    },
    {
      "cell_type": "markdown",
      "source": [
        "### 2.3 Calculate Visit Diversity Score"
      ],
      "metadata": {
        "id": "37FVXkjDQpQR"
      }
    },
    {
      "cell_type": "code",
      "source": [
        "# Calculate the diversity score (number of unique categories visited per user)\n",
        "user_diversity_score = df.groupby('User ID')['Venue Category'].nunique().reset_index()\n",
        "user_diversity_score.columns = ['User ID', 'Visit Diversity Score']\n",
        "\n",
        "# Display unique User IDs with their visit diversity score\n",
        "print(\"Visit diversity score per user:\")\n",
        "print(user_diversity_score)"
      ],
      "metadata": {
        "colab": {
          "base_uri": "https://localhost:8080/"
        },
        "id": "MkbgudaGQpaR",
        "outputId": "22366f58-b664-4fb1-bf03-0a7ee07e52e9"
      },
      "execution_count": null,
      "outputs": [
        {
          "output_type": "stream",
          "name": "stdout",
          "text": [
            "Visit diversity score per user:\n",
            "    User ID  Visit Diversity Score\n",
            "0         1                      7\n",
            "1         2                      7\n",
            "2         3                     11\n",
            "3         4                      8\n",
            "4         5                     10\n",
            "5         6                      7\n",
            "6         7                      7\n",
            "7         8                      3\n",
            "8         9                      7\n",
            "9        10                     11\n",
            "10       11                      8\n",
            "11       12                      6\n",
            "12       13                      6\n",
            "13       14                      5\n",
            "14       15                      7\n",
            "15       16                      7\n",
            "16       17                      9\n",
            "17       18                      6\n",
            "18       19                     12\n",
            "19       20                      6\n",
            "20       21                      6\n",
            "21       22                      8\n",
            "22       23                     10\n"
          ]
        }
      ]
    },
    {
      "cell_type": "markdown",
      "source": [
        "### 2.4 Verify that user-specific features are correctly added to the dataset.\n"
      ],
      "metadata": {
        "id": "ti8mVqsqQwBH"
      }
    },
    {
      "cell_type": "code",
      "source": [
        "# Merge all user-specific features back into the original DataFrame\n",
        "df = df.merge(user_visit_counts, on='User ID', how='left')\n",
        "df = df.merge(most_frequent_category, on='User ID', how='left')\n",
        "df = df.merge(user_diversity_score, on='User ID', how='left')\n",
        "\n",
        "# Display a sample to verify the merged features\n",
        "print(\"Sample of the dataset with user-specific features:\")\n",
        "print(df[['User ID', 'Total Visits', 'Most Frequent Venue Category', 'Visit Diversity Score']].drop_duplicates().head(10))\n"
      ],
      "metadata": {
        "colab": {
          "base_uri": "https://localhost:8080/"
        },
        "id": "NaGJvFa4RENq",
        "outputId": "05baf13e-a7d1-4754-d8ed-6a55093a764b"
      },
      "execution_count": null,
      "outputs": [
        {
          "output_type": "stream",
          "name": "stdout",
          "text": [
            "Sample of the dataset with user-specific features:\n",
            "     User ID  Total Visits Most Frequent Venue Category  Visit Diversity Score\n",
            "0          1            36                  coffee shop                      7\n",
            "36         2            34                  coffee shop                      7\n",
            "70         3           111                  coffee shop                     11\n",
            "181        4            47                  coffee shop                      8\n",
            "228        5            49                  coffee shop                     10\n",
            "277        6            37                  coffee shop                      7\n",
            "314        7            50                  coffee shop                      7\n",
            "364        8             5                        plaza                      3\n",
            "369        9            49                  coffee shop                      7\n",
            "418       10            53                  coffee shop                     11\n"
          ]
        }
      ]
    },
    {
      "cell_type": "markdown",
      "source": [
        "## Step 3: Encode Categorical Columns\n",
        "### 3.1 Apply Cyclic Encoding for Days of the Week"
      ],
      "metadata": {
        "id": "787xj2NbVKGq"
      }
    },
    {
      "cell_type": "code",
      "source": [
        "# Define the mapping for days of the week\n",
        "days_mapping = {'Monday': 0, 'Tuesday': 1, 'Wednesday': 2, 'Thursday': 3, 'Friday': 4, 'Saturday': 5, 'Sunday': 6}\n",
        "\n",
        "# Map days to numbers\n",
        "df['Day_Num'] = df['Day'].map(days_mapping)\n",
        "\n",
        "# Perform sine and cosine transformations\n",
        "df['Day_Sin'] = np.sin(2 * np.pi * df['Day_Num'] / 7)\n",
        "df['Day_Cos'] = np.cos(2 * np.pi * df['Day_Num'] / 7)\n",
        "\n",
        "print(\"Cyclic encoding for days added:\")\n",
        "print(df[['Day_Num', 'Day_Sin', 'Day_Cos']].head(10))\n",
        "\n",
        "# # Keep the original columns for interpretability\n",
        "# df = df.drop(columns=['Day_Num'])"
      ],
      "metadata": {
        "colab": {
          "base_uri": "https://localhost:8080/"
        },
        "id": "fSn1V0AHVKkH",
        "outputId": "8e3be70b-78a5-4843-a3b3-fb0b201f7e12"
      },
      "execution_count": null,
      "outputs": [
        {
          "output_type": "stream",
          "name": "stdout",
          "text": [
            "Cyclic encoding for days added:\n",
            "   Day_Num   Day_Sin   Day_Cos\n",
            "0        1  0.781831  0.623490\n",
            "1        1  0.781831  0.623490\n",
            "2        2  0.974928 -0.222521\n",
            "3        5 -0.974928 -0.222521\n",
            "4        2  0.974928 -0.222521\n",
            "5        2  0.974928 -0.222521\n",
            "6        2  0.974928 -0.222521\n",
            "7        3  0.433884 -0.900969\n",
            "8        6 -0.781831  0.623490\n",
            "9        6 -0.781831  0.623490\n"
          ]
        }
      ]
    },
    {
      "cell_type": "markdown",
      "source": [
        "### 3.2 Apply One-Hot Encoding for Venue Category"
      ],
      "metadata": {
        "id": "uwlb4-AMcVNI"
      }
    },
    {
      "cell_type": "code",
      "source": [
        "# Perform one-hot encoding\n",
        "df = pd.get_dummies(df, columns=['Venue Category'], prefix='Category')\n",
        "\n",
        "print(\"One-hot encoding for venue categories applied:\")\n",
        "print(df.filter(like='Category_').head(10),\"\\n\")\n"
      ],
      "metadata": {
        "colab": {
          "base_uri": "https://localhost:8080/"
        },
        "id": "eRudJCzIVMBX",
        "outputId": "e604cac2-e043-4a2a-839d-c186c227b3c8"
      },
      "execution_count": null,
      "outputs": [
        {
          "output_type": "stream",
          "name": "stdout",
          "text": [
            "One-hot encoding for venue categories applied:\n",
            "   Category_casual dining  Category_coffee shop  Category_dessert shop  \\\n",
            "0                   False                 False                  False   \n",
            "1                   False                 False                  False   \n",
            "2                   False                 False                  False   \n",
            "3                   False                  True                  False   \n",
            "4                   False                  True                  False   \n",
            "5                   False                  True                  False   \n",
            "6                   False                 False                  False   \n",
            "7                   False                 False                  False   \n",
            "8                   False                  True                  False   \n",
            "9                   False                 False                  False   \n",
            "\n",
            "   Category_entertainment  Category_hotel  Category_lounge  Category_other  \\\n",
            "0                   False           False            False           False   \n",
            "1                   False           False            False           False   \n",
            "2                    True           False            False           False   \n",
            "3                   False           False            False           False   \n",
            "4                   False           False            False           False   \n",
            "5                   False           False            False           False   \n",
            "6                   False           False            False           False   \n",
            "7                   False           False            False           False   \n",
            "8                   False           False            False           False   \n",
            "9                   False           False            False            True   \n",
            "\n",
            "   Category_park  Category_plaza  Category_restaurant  Category_shopping  \\\n",
            "0          False           False                 True              False   \n",
            "1          False            True                False              False   \n",
            "2          False           False                False              False   \n",
            "3          False           False                False              False   \n",
            "4          False           False                False              False   \n",
            "5          False           False                False              False   \n",
            "6          False            True                False              False   \n",
            "7          False           False                 True              False   \n",
            "8          False           False                False              False   \n",
            "9          False           False                False              False   \n",
            "\n",
            "   Category_spa  Category_sports facility  \n",
            "0         False                     False  \n",
            "1         False                     False  \n",
            "2         False                     False  \n",
            "3         False                     False  \n",
            "4         False                     False  \n",
            "5         False                     False  \n",
            "6         False                     False  \n",
            "7         False                     False  \n",
            "8         False                     False  \n",
            "9         False                     False   \n",
            "\n"
          ]
        }
      ]
    },
    {
      "cell_type": "markdown",
      "source": [
        "## Step 4: Engineer Time Lag Feature\n",
        "### 4.1 Calculate Time Lag Between Visits"
      ],
      "metadata": {
        "id": "Y_cEn57Pwy63"
      }
    },
    {
      "cell_type": "code",
      "source": [
        "# Create a time lag (in hours) between consecutive check-ins for each user\n",
        "df['Time Lag (hours)'] = df.groupby('User ID')['Check-in Time'].diff().dt.total_seconds() / 3600\n",
        "\n",
        "# Fill NaN values (first check-in has no lag)\n",
        "df['Time Lag (hours)'] = df['Time Lag (hours)'].fillna(0)\n",
        "\n",
        "print(\"Sample Time Lag (hours):\")\n",
        "print(df[['User ID', 'Check-in Time', 'Time Lag (hours)']].head(10))"
      ],
      "metadata": {
        "colab": {
          "base_uri": "https://localhost:8080/"
        },
        "id": "AD737KwJm7wg",
        "outputId": "69895eb3-640b-40c8-886c-f6b1afc8c781"
      },
      "execution_count": null,
      "outputs": [
        {
          "output_type": "stream",
          "name": "stdout",
          "text": [
            "Sample Time Lag (hours):\n",
            "   User ID       Check-in Time  Time Lag (hours)\n",
            "0        1 2021-01-05 22:31:00          0.000000\n",
            "1        1 2021-01-05 23:52:00          1.350000\n",
            "2        1 2021-01-06 23:59:00         24.116667\n",
            "3        1 2021-01-09 20:12:00         68.216667\n",
            "4        1 2021-01-27 11:39:00        423.450000\n",
            "5        1 2021-01-27 15:16:00          3.616667\n",
            "6        1 2021-01-27 16:38:00          1.366667\n",
            "7        1 2021-03-25 22:51:00       1374.216667\n",
            "8        1 2021-04-18 00:04:00        553.216667\n",
            "9        1 2021-04-18 00:52:00          0.800000\n"
          ]
        }
      ]
    },
    {
      "cell_type": "markdown",
      "source": [
        "\n",
        "\n",
        "---\n",
        "\n",
        "---\n",
        "\n",
        "\n",
        "\n"
      ],
      "metadata": {
        "id": "ntwAE9BPG1rS"
      }
    },
    {
      "cell_type": "markdown",
      "source": [
        "## Feature Selection and Engineering\n",
        "### Step 1: Correlation Analysis\n",
        "Analyze correlations between numerical features to identify potential redundancies.\n"
      ],
      "metadata": {
        "id": "M2191uSVdbNq"
      }
    },
    {
      "cell_type": "code",
      "source": [
        "# Select numerical features, including Time Lag\n",
        "numeric_features = df[['Latitude', 'Longitude', 'Total Visits', 'Visit Diversity Score', 'Time Lag (hours)']]\n",
        "\n",
        "# Compute correlation matrix\n",
        "correlation_matrix = numeric_features.corr()\n",
        "\n",
        "# Plot the heatmap\n",
        "plt.figure(figsize=(8, 6))\n",
        "sns.heatmap(correlation_matrix, annot=True, cmap='coolwarm', fmt='.2f', linewidths=0.5)\n",
        "plt.title(\"Correlation Heatmap of Numerical Features\")\n",
        "plt.show()\n"
      ],
      "metadata": {
        "colab": {
          "base_uri": "https://localhost:8080/",
          "height": 564
        },
        "id": "LI0_KwkdY1TC",
        "outputId": "d932be64-e499-4d16-9765-2d65d25b2a38"
      },
      "execution_count": null,
      "outputs": [
        {
          "output_type": "display_data",
          "data": {
            "text/plain": [
              "<Figure size 800x600 with 2 Axes>"
            ],
            "image/png": "[encoded data removed]"
          },
          "metadata": {}
        }
      ]
    },
    {
      "cell_type": "markdown",
      "source": [
        "> ### **Observation: Correlation Analysis**\n",
        "- The correlation heatmap between numerical features highlights the following:\n",
        "  - **Latitude and Longitude** maintain very low correlation with the other features (close to 0), confirming their role as independent geospatial information. These features are critical for location-based recommendations and should be retained.\n",
        "  - **Total Visits** and **Visit Diversity Score** exhibit a **moderate positive correlation of 0.64**. This suggests that users with more visits tend to explore more diverse venues. However, this correlation is not strong enough to justify removing one of them solely based on redundancy.\n",
        "  - **Time Lag (hours)** shows negligible correlation with other features, including **Total Visits** and **Visit Diversity Score**, indicating it captures distinct temporal information about user behavior.\n",
        "  - No pairs of features show high correlation (above 0.8), indicating that there is no immediate redundancy or multicollinearity detected based on correlation alone.\n",
        "  \n",
        "  The next step is to confirm this by analyzing multicollinearity using the Variance Inflation Factor (VIF) for more precise decision-making regarding feature selection.\n",
        "\n",
        "\n",
        "\n"
      ],
      "metadata": {
        "id": "iMSn2u5DesiM"
      }
    },
    {
      "cell_type": "markdown",
      "source": [
        "## Step 2: Calculate Variance Inflation Factor (VIF)\n",
        "This helps detect multicollinearity, and we will drop features with VIF > 10."
      ],
      "metadata": {
        "id": "7sZHJG9Gdz7H"
      }
    },
    {
      "cell_type": "code",
      "source": [
        "# Select relevant numerical features, including Time Lag\n",
        "vif_features = df[['Latitude', 'Longitude', 'Total Visits', 'Visit Diversity Score', 'Time Lag (hours)']]\n",
        "\n",
        "# Calculate VIF for each feature\n",
        "vif_data = pd.DataFrame()\n",
        "vif_data['Feature'] = vif_features.columns\n",
        "vif_data['VIF'] = [variance_inflation_factor(vif_features.values, i) for i in range(vif_features.shape[1])]\n",
        "\n",
        "# Display VIF values\n",
        "print(\"Variance Inflation Factors:\")\n",
        "print(vif_data)"
      ],
      "metadata": {
        "colab": {
          "base_uri": "https://localhost:8080/"
        },
        "id": "Ea1cI3Ccduqh",
        "outputId": "618c3c95-0ad4-459e-dda8-284cff001309"
      },
      "execution_count": null,
      "outputs": [
        {
          "output_type": "stream",
          "name": "stdout",
          "text": [
            "Variance Inflation Factors:\n",
            "                 Feature            VIF\n",
            "0               Latitude  186673.611700\n",
            "1              Longitude  187050.271084\n",
            "2           Total Visits       9.831163\n",
            "3  Visit Diversity Score      30.755932\n",
            "4       Time Lag (hours)       1.081565\n"
          ]
        }
      ]
    },
    {
      "cell_type": "markdown",
      "source": [
        "\n",
        "\n",
        "> ### **Observation: Variance Inflation Factors (VIF)**\n",
        "  - The VIF results indicate the following:\n",
        "    - **Latitude (VIF = 194,608)** and **Longitude (VIF = 194,817)** exhibit extreme multicollinearity. However, this is expected for geospatial features, and they should **not** be removed based on multicollinearity alone, as they provide essential spatial context for location-based recommendations.\n",
        "    - **Total Visits (VIF = 9.12)** remains within an acceptable range (below the critical threshold of 10), indicating that it does not suffer from significant multicollinearity and can be retained.\n",
        "    - **Visit Diversity Score (VIF = 29.49)** exceeds the acceptable threshold, indicating multicollinearity concerns, specifically with **Total Visits**. However, since both features are important for user behavior insights, further evaluation (dimensionality reduction or hybrid model testing) will be needed.\n",
        "    - **Time Lag (hours) (VIF = 1.07)** shows a very low VIF, confirming that it is independent and can be safely included without introducing multicollinearity issues.\n",
        "\n",
        "The next step is to evaluate feature importance using a Random Forest model to determine which features to retain or reduce.\n"
      ],
      "metadata": {
        "id": "WWRut56XflJi"
      }
    },
    {
      "cell_type": "markdown",
      "source": [
        "## Step 3: Feature Importance Using Random Forest\n",
        "Using a tree-based method to rank feature importance and decide which to drop."
      ],
      "metadata": {
        "id": "xNLVTviJeDKy"
      }
    },
    {
      "cell_type": "code",
      "source": [
        "# Select relevant features, now including Time Lag\n",
        "X = df[['Latitude', 'Longitude', 'Is Weekend', 'Total Visits', 'Visit Diversity Score', 'Time Lag (hours)',\n",
        "        'Day_Sin', 'Day_Cos'] + [col for col in df.columns if col.startswith('Category_')]]\n",
        "\n",
        "# Encode the target variable: Most Frequent Venue Category\n",
        "label_encoder = LabelEncoder()\n",
        "y = label_encoder.fit_transform(df['Most Frequent Venue Category'])\n",
        "\n",
        "# Train-test split\n",
        "X_train, X_test, y_train, y_test = train_test_split(X, y, test_size=0.2, random_state=42)\n",
        "\n",
        "# Train a Random Forest classifier\n",
        "rf = RandomForestClassifier(n_estimators=100, random_state=42)\n",
        "rf.fit(X_train, y_train)\n",
        "\n",
        "# Get feature importances\n",
        "feature_importances = pd.DataFrame({'Feature': X.columns, 'Importance': rf.feature_importances_}).sort_values(by='Importance', ascending=False)\n",
        "\n",
        "# Display and plot feature importances\n",
        "print(\"Feature Importances:\")\n",
        "print(feature_importances)\n",
        "\n",
        "# Plot the results\n",
        "plt.figure(figsize=(10, 8))\n",
        "sns.barplot(x='Importance', y='Feature', data=feature_importances, palette='viridis')\n",
        "plt.title(\"Feature Importance Based on Random Forest\")\n",
        "plt.show()"
      ],
      "metadata": {
        "colab": {
          "base_uri": "https://localhost:8080/",
          "height": 966
        },
        "id": "XycR-H0Pd9RN",
        "outputId": "b405a698-d24d-480b-8324-eac012c1c661"
      },
      "execution_count": null,
      "outputs": [
        {
          "output_type": "stream",
          "name": "stdout",
          "text": [
            "Feature Importances:\n",
            "                     Feature  Importance\n",
            "4      Visit Diversity Score    0.483948\n",
            "3               Total Visits    0.169755\n",
            "5           Time Lag (hours)    0.086748\n",
            "1                  Longitude    0.060027\n",
            "0                   Latitude    0.054233\n",
            "13           Category_lounge    0.039633\n",
            "6                    Day_Sin    0.024362\n",
            "14            Category_other    0.016668\n",
            "7                    Day_Cos    0.015819\n",
            "9       Category_coffee shop    0.009522\n",
            "2                 Is Weekend    0.008682\n",
            "17       Category_restaurant    0.008225\n",
            "16            Category_plaza    0.006886\n",
            "18         Category_shopping    0.003170\n",
            "20  Category_sports facility    0.002379\n",
            "19              Category_spa    0.002173\n",
            "11    Category_entertainment    0.001955\n",
            "8     Category_casual dining    0.001870\n",
            "12            Category_hotel    0.001663\n",
            "15             Category_park    0.001428\n",
            "10     Category_dessert shop    0.000855\n"
          ]
        },
        {
          "output_type": "stream",
          "name": "stderr",
          "text": [
            "<ipython-input-58-74c68917a7e4>:25: FutureWarning: \n",
            "\n",
            "Passing `palette` without assigning `hue` is deprecated and will be removed in v0.14.0. Assign the `y` variable to `hue` and set `legend=False` for the same effect.\n",
            "\n",
            "  sns.barplot(x='Importance', y='Feature', data=feature_importances, palette='viridis')\n"
          ]
        },
        {
          "output_type": "display_data",
          "data": {
            "text/plain": [
              "<Figure size 1000x800 with 1 Axes>"
            ],
            "image/png": "[encoded data removed]"
          },
          "metadata": {}
        }
      ]
    },
    {
      "cell_type": "markdown",
      "source": [
        "\n",
        "\n",
        "> ### **Observation: Feature Importance Analysis**\n",
        "The feature importance analysis using the Random Forest model reveals the following insights:\n",
        "1. **Most Important Features:**\n",
        "   - **Visit Diversity Score (54.5%)**: Remains the most significant feature indicating the variety of venues users visit.\n",
        "   - **Total Visits (14.3%)**: Continues to play a crucial role in indicating how frequently users visit places and influencing personalized recommendations.\n",
        "   - **Time Lag (hours) (6.9%)**: Captures the time gaps between successive visits, providing valuable insights into user behavior patterns.\n",
        "   - **Longitude (5.6%)** and **Latitude (4.7%)**: Continue to provide essential geospatial information critical for location-based recommendations.\n",
        "   2. **Moderately Important Features:**\n",
        "   - **Category_lounge (4.7%)**: Indicates that users who frequently visit lounges have distinct behavioral patterns.\n",
        "   - **Day_Sin (1.9%)** and **Day_Cos (1.5%)**: Capture time-of-week effects cyclically.\n",
        "   - **Category_other (1.5%)** and **Category_coffee shop (1.0%)**: Contribute to understanding user preferences based on venue categories.\n",
        "   3. **Least Important Features (below 1%):**\n",
        "   - Categories such as **restaurant, entertainment, spa, shopping,** and **park** have minimal impact, suggesting limited influence on predicting user preferences.\n",
        "\n",
        "to make the model more streamlined and to help it exhibit improved generalization while retaining key predictors of user preferences, we may consider the following options:\n",
        "\n",
        "1. **Retain Highly Important Features:**  \n",
        "   - Retain **Visit Diversity Score**, **Total Visits**, geospatial features, and time-based features as they strongly influence predictions.\n",
        "\n",
        "2. **Consider Dropping or Transforming Low-Impact Features:**  \n",
        "   - Features like **Category_spa**, **Category_shopping**, **Category_park**, and other low-impact categories may be candidates for removal or dimensionality reduction.\n",
        "\n",
        "3. **Dimensionality Reduction Option:**  \n",
        "   - Investigate options like **PCA** to aggregate or combine low-impact categories to reduce dimensionality without losing crucial information.\n",
        "\n"
      ],
      "metadata": {
        "id": "PS8SNi7XeDyh"
      }
    },
    {
      "cell_type": "markdown",
      "source": [
        "### Step 5: Reviewing Feature Importance and Evaluating Redundancy\n",
        "Based on correlation, VIF, and feature importance, we can now analyze features for redundancy or low impact."
      ],
      "metadata": {
        "id": "IBJSnHcwnZKO"
      }
    },
    {
      "cell_type": "markdown",
      "source": [
        "### 5.1 Summary of Insights for Feature Review\n",
        "We will review the observations from previous steps to decide whether any features should be dropped. Here's the summary:\n",
        "\n",
        "1. **Correlation (Step 4.1):**\n",
        "   - No high correlations (> 0.8) were found, so no features need to be dropped solely based on correlation.\n",
        "\n",
        "2. **VIF (Step 4.2):**\n",
        "   - **Latitude** and **Longitude** have extremely high VIF values, but they are geospatial features and critical for location-based recommendations, so we’ll retain them for now.\n",
        "\n",
        "3. **Feature Importance (Step 4.3):**\n",
        "   - Low-impact features with importance **below 1%** include:\n",
        "     - **Category_spa**\n",
        "     - **Category_shopping**\n",
        "     - **Category_park**\n",
        "     - **Category_dessert shop**\n",
        "     - **Category_hotel**\n",
        "     - Other similar low-impact venue categories.\n",
        "\n"
      ],
      "metadata": {
        "id": "y3xGHazX79yk"
      }
    },
    {
      "cell_type": "markdown",
      "source": [
        "### **5.2 Plan Moving Forward: Evaluate Model Performance First**  \n",
        "\n",
        "Based on the observations from correlation, VIF, and feature importance analyses, we recognize that while some features have low impact (e.g., specific venue categories), no immediate action will be taken to drop them yet.  \n",
        "\n",
        "#### **Why?**  \n",
        "- Geospatial features like **Latitude** and **Longitude** remain critical for recommendations, even with high VIF values.  \n",
        "- Low-impact venue categories may still contribute to complex patterns within the hybrid model and could benefit generalization.\n",
        "\n",
        "#### **Next Steps:**  \n",
        "1. **Evaluate model performance with all features** included to establish a baseline.  \n",
        "2. **If the baseline performance is suboptimal**, consider **applying PCA or dimensionality reduction** to optimize the feature set and improve generalization and efficiency.  \n",
        "\n",
        "In case the model exhibits poor performance or overfitting, we will test a **PCA-reduced feature set** by aggregating low-impact features and reassess its impact on model accuracy and generalization.\n",
        "\n",
        "\n",
        "---\n",
        "\n"
      ],
      "metadata": {
        "id": "_ubpGoCo-9S8"
      }
    },
    {
      "cell_type": "markdown",
      "source": [
        "Encode Venue IDs & Normalize Features"
      ],
      "metadata": {
        "id": "S-_FH5GbjaJX"
      }
    },
    {
      "cell_type": "code",
      "source": [
        "# Encode Venue ID\n",
        "venue_encoder = LabelEncoder()\n",
        "df['Venue ID Encoded'] = venue_encoder.fit_transform(df['Venue ID'])\n",
        "\n",
        "# Normalize Latitude & Longitude\n",
        "scaler = MinMaxScaler()\n",
        "df[['Latitude', 'Longitude']] = scaler.fit_transform(df[['Latitude', 'Longitude']])\n",
        "\n",
        "print(\"✅ Venue IDs encoded and location data normalized.\")\n"
      ],
      "metadata": {
        "colab": {
          "base_uri": "https://localhost:8080/"
        },
        "id": "d7Wco1jLi4Wg",
        "outputId": "a83fdf78-69b5-41d1-c01c-3011c3826c22"
      },
      "execution_count": null,
      "outputs": [
        {
          "output_type": "stream",
          "name": "stdout",
          "text": [
            "✅ Venue IDs encoded and location data normalized.\n"
          ]
        }
      ]
    },
    {
      "cell_type": "markdown",
      "source": [
        "Splitting the Data Chronologically by User"
      ],
      "metadata": {
        "id": "ZnyuGVfEjhg1"
      }
    },
    {
      "cell_type": "code",
      "source": [
        "\n",
        "# Split each user's data using Leave-One-Out (Hold-One-Out)\n",
        "train_list, test_list = [], []\n",
        "\n",
        "for _, user_df in df.groupby('User ID'):\n",
        "    if len(user_df) < 2:\n",
        "        continue  # Ignore users with only one check-in\n",
        "\n",
        "    train_list.append(user_df.iloc[:-1])  # All but last check-in for training\n",
        "    test_list.append(user_df.iloc[-1:])   # Last check-in for evaluation\n",
        "\n",
        "# Combine into final train and test sets\n",
        "train_df = pd.concat(train_list).reset_index(drop=True)\n",
        "test_df = pd.concat(test_list).reset_index(drop=True)\n",
        "\n",
        "# Extract features and target labels\n",
        "features = ['User ID', 'Latitude', 'Longitude']\n",
        "X_train, y_train = train_df[features], train_df['Venue ID Encoded']\n",
        "X_test, y_test = test_df[features], test_df['Venue ID Encoded']\n",
        "\n",
        "# Set num_class based on full venue list\n",
        "num_classes = len(venue_encoder.classes_)\n",
        "\n",
        "print(f\"✅ Leave-One-Out Split Done. Train Size: {len(X_train)}, Test Size: {len(X_test)}\")\n"
      ],
      "metadata": {
        "colab": {
          "base_uri": "https://localhost:8080/"
        },
        "id": "94GXZbDHi9Y6",
        "outputId": "3d0e4b9f-bfb4-4f2e-ffb4-4987682d773e"
      },
      "execution_count": null,
      "outputs": [
        {
          "output_type": "stream",
          "name": "stdout",
          "text": [
            "✅ Leave-One-Out Split Done. Train Size: 941, Test Size: 23\n"
          ]
        }
      ]
    }
  ]
}